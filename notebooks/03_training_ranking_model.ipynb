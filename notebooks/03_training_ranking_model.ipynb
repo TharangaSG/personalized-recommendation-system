{
 "cells": [
  {
   "cell_type": "code",
   "execution_count": 1,
   "metadata": {},
   "outputs": [
    {
     "name": "stdout",
     "output_type": "stream",
     "text": [
      "Adding the following directory to the PYTHONPATH: d:\\Projects\\ML\\personalized-recommendation-sysyem\\personalized-recommendation-system\n"
     ]
    }
   ],
   "source": [
    "import sys\n",
    "from pathlib import Path   \n",
    "root_dir = str(Path().absolute().parent)\n",
    "\n",
    "if root_dir not in sys.path:\n",
    "    print(f\"Adding the following directory to the PYTHONPATH: {root_dir}\")\n",
    "    sys.path.append(root_dir)"
   ]
  },
  {
   "cell_type": "code",
   "execution_count": 2,
   "metadata": {},
   "outputs": [],
   "source": [
    "%load_ext autoreload\n",
    "%autoreload 2\n",
    "\n",
    "import warnings\n",
    "\n",
    "warnings.filterwarnings(\"ignore\")\n",
    "\n",
    "from loguru import logger\n",
    "\n",
    "from recsys import hopsworks_integration, training\n",
    "from recsys.config import settings"
   ]
  },
  {
   "cell_type": "code",
   "execution_count": 3,
   "metadata": {},
   "outputs": [
    {
     "name": "stdout",
     "output_type": "stream",
     "text": [
      "{'CUSTOMER_DATA_SIZE': <CustomerDatasetSize.SMALL: 'SMALL'>,\n",
      " 'CUSTOM_HOPSWORKS_INFERENCE_ENV': 'custom_env_name',\n",
      " 'FEATURES_EMBEDDING_MODEL_ID': 'all-MiniLM-L6-v2',\n",
      " 'HOPSWORKS_API_KEY': SecretStr('**********'),\n",
      " 'OPENAI_API_KEY': SecretStr(''),\n",
      " 'OPENAI_MODEL_ID': 'gpt-4o-mini',\n",
      " 'RANKING_DATASET_VALIDATON_SPLIT_SIZE': 0.1,\n",
      " 'RANKING_EARLY_STOPPING_ROUNDS': 5,\n",
      " 'RANKING_ITERATIONS': 100,\n",
      " 'RANKING_LEARNING_RATE': 0.2,\n",
      " 'RANKING_MODEL_TYPE': 'ranking',\n",
      " 'RANKING_SCALE_POS_WEIGHT': 10,\n",
      " 'RECSYS_DIR': WindowsPath('d:/Projects/ML/personalized-recommendation-sysyem/personalized-recommendation-system/recsys'),\n",
      " 'TWO_TOWER_DATASET_TEST_SPLIT_SIZE': 0.1,\n",
      " 'TWO_TOWER_DATASET_VALIDATON_SPLIT_SIZE': 0.1,\n",
      " 'TWO_TOWER_LEARNING_RATE': 0.001,\n",
      " 'TWO_TOWER_MODEL_BATCH_SIZE': 2048,\n",
      " 'TWO_TOWER_MODEL_EMBEDDING_SIZE': 16,\n",
      " 'TWO_TOWER_NUM_EPOCHS': 5,\n",
      " 'TWO_TOWER_WEIGHT_DECAY': 0.001}\n"
     ]
    }
   ],
   "source": [
    "from pprint import pprint\n",
    "\n",
    "pprint(dict(settings))"
   ]
  },
  {
   "cell_type": "code",
   "execution_count": 4,
   "metadata": {},
   "outputs": [
    {
     "name": "stderr",
     "output_type": "stream",
     "text": [
      "\u001b[32m2025-03-15 16:31:37.869\u001b[0m | \u001b[1mINFO    \u001b[0m | \u001b[36mrecsys.hopsworks_integration.feature_store\u001b[0m:\u001b[36mget_feature_store\u001b[0m:\u001b[36m13\u001b[0m - \u001b[1mLoging to Hopsworks using HOPSWORKS_API_KEY env var.\u001b[0m\n"
     ]
    },
    {
     "name": "stdout",
     "output_type": "stream",
     "text": [
      "2025-03-15 16:31:37,871 INFO: Initializing external client\n",
      "2025-03-15 16:31:37,872 INFO: Base URL: https://c.app.hopsworks.ai:443\n",
      "2025-03-15 16:31:41,830 INFO: Python Engine initialized.\n",
      "\n",
      "Logged in to project, explore it here https://c.app.hopsworks.ai:443/p/1213659\n"
     ]
    }
   ],
   "source": [
    "project, fs = hopsworks_integration.get_feature_store()"
   ]
  },
  {
   "cell_type": "code",
   "execution_count": 5,
   "metadata": {},
   "outputs": [
    {
     "name": "stdout",
     "output_type": "stream",
     "text": [
      "Feature view created successfully, explore it at \n",
      "https://c.app.hopsworks.ai:443/p/1213659/fs/1201283/fv/ranking/version/1\n"
     ]
    }
   ],
   "source": [
    "feature_view_ranking = hopsworks_integration.feature_store.create_ranking_feature_views(fs)"
   ]
  },
  {
   "cell_type": "code",
   "execution_count": 6,
   "metadata": {},
   "outputs": [
    {
     "name": "stdout",
     "output_type": "stream",
     "text": [
      "Finished: Reading data from Hopsworks, using Hopsworks Feature Query Service (9.24s) \n"
     ]
    },
    {
     "name": "stderr",
     "output_type": "stream",
     "text": [
      "VersionWarning: Incremented version to `1`.\n"
     ]
    },
    {
     "data": {
      "text/html": [
       "<div>\n",
       "<style scoped>\n",
       "    .dataframe tbody tr th:only-of-type {\n",
       "        vertical-align: middle;\n",
       "    }\n",
       "\n",
       "    .dataframe tbody tr th {\n",
       "        vertical-align: top;\n",
       "    }\n",
       "\n",
       "    .dataframe thead th {\n",
       "        text-align: right;\n",
       "    }\n",
       "</style>\n",
       "<table border=\"1\" class=\"dataframe\">\n",
       "  <thead>\n",
       "    <tr style=\"text-align: right;\">\n",
       "      <th></th>\n",
       "      <th>age</th>\n",
       "      <th>product_type_name</th>\n",
       "      <th>product_group_name</th>\n",
       "      <th>graphical_appearance_name</th>\n",
       "      <th>colour_group_name</th>\n",
       "      <th>perceived_colour_value_name</th>\n",
       "      <th>perceived_colour_master_name</th>\n",
       "      <th>department_name</th>\n",
       "      <th>index_name</th>\n",
       "      <th>index_group_name</th>\n",
       "      <th>section_name</th>\n",
       "      <th>garment_group_name</th>\n",
       "      <th>month_sin</th>\n",
       "      <th>month_cos</th>\n",
       "    </tr>\n",
       "  </thead>\n",
       "  <tbody>\n",
       "    <tr>\n",
       "      <th>0</th>\n",
       "      <td>22.0</td>\n",
       "      <td>Sweater</td>\n",
       "      <td>Garment Upper body</td>\n",
       "      <td>Melange</td>\n",
       "      <td>Dark Red</td>\n",
       "      <td>Dark</td>\n",
       "      <td>Red</td>\n",
       "      <td>Tops Knitwear</td>\n",
       "      <td>Divided</td>\n",
       "      <td>Divided</td>\n",
       "      <td>Divided Collection</td>\n",
       "      <td>Knitwear</td>\n",
       "      <td>-1.000000</td>\n",
       "      <td>-1.836970e-16</td>\n",
       "    </tr>\n",
       "    <tr>\n",
       "      <th>1</th>\n",
       "      <td>33.0</td>\n",
       "      <td>T-shirt</td>\n",
       "      <td>Garment Upper body</td>\n",
       "      <td>All over pattern</td>\n",
       "      <td>Beige</td>\n",
       "      <td>Medium Dusty</td>\n",
       "      <td>Beige</td>\n",
       "      <td>Jersey</td>\n",
       "      <td>Ladieswear</td>\n",
       "      <td>Ladieswear</td>\n",
       "      <td>Womens Casual</td>\n",
       "      <td>Jersey Fancy</td>\n",
       "      <td>-1.000000</td>\n",
       "      <td>-1.836970e-16</td>\n",
       "    </tr>\n",
       "    <tr>\n",
       "      <th>3</th>\n",
       "      <td>39.0</td>\n",
       "      <td>Shorts</td>\n",
       "      <td>Garment Lower body</td>\n",
       "      <td>Denim</td>\n",
       "      <td>Dark Grey</td>\n",
       "      <td>Dark</td>\n",
       "      <td>Grey</td>\n",
       "      <td>Shorts</td>\n",
       "      <td>Ladieswear</td>\n",
       "      <td>Ladieswear</td>\n",
       "      <td>Womens Everyday Collection</td>\n",
       "      <td>Shorts</td>\n",
       "      <td>-0.866025</td>\n",
       "      <td>5.000000e-01</td>\n",
       "    </tr>\n",
       "  </tbody>\n",
       "</table>\n",
       "</div>"
      ],
      "text/plain": [
       "    age product_type_name  product_group_name graphical_appearance_name  \\\n",
       "0  22.0           Sweater  Garment Upper body                   Melange   \n",
       "1  33.0           T-shirt  Garment Upper body          All over pattern   \n",
       "3  39.0            Shorts  Garment Lower body                     Denim   \n",
       "\n",
       "  colour_group_name perceived_colour_value_name perceived_colour_master_name  \\\n",
       "0          Dark Red                        Dark                          Red   \n",
       "1             Beige                Medium Dusty                        Beige   \n",
       "3         Dark Grey                        Dark                         Grey   \n",
       "\n",
       "  department_name  index_name index_group_name                section_name  \\\n",
       "0   Tops Knitwear     Divided          Divided          Divided Collection   \n",
       "1          Jersey  Ladieswear       Ladieswear               Womens Casual   \n",
       "3          Shorts  Ladieswear       Ladieswear  Womens Everyday Collection   \n",
       "\n",
       "  garment_group_name  month_sin     month_cos  \n",
       "0           Knitwear  -1.000000 -1.836970e-16  \n",
       "1       Jersey Fancy  -1.000000 -1.836970e-16  \n",
       "3             Shorts  -0.866025  5.000000e-01  "
      ]
     },
     "execution_count": 6,
     "metadata": {},
     "output_type": "execute_result"
    }
   ],
   "source": [
    "X_train, X_val, y_train, y_val = feature_view_ranking.train_test_split(\n",
    "    test_size=settings.RANKING_DATASET_VALIDATON_SPLIT_SIZE,\n",
    "    description=\"Ranking training dataset\",\n",
    ")\n",
    "X_train.head(3)"
   ]
  },
  {
   "cell_type": "code",
   "execution_count": 9,
   "metadata": {},
   "outputs": [
    {
     "data": {
      "text/plain": [
       "(9036, 14)"
      ]
     },
     "execution_count": 9,
     "metadata": {},
     "output_type": "execute_result"
    }
   ],
   "source": [
    "X_train.shape"
   ]
  },
  {
   "cell_type": "code",
   "execution_count": 7,
   "metadata": {},
   "outputs": [
    {
     "data": {
      "text/html": [
       "<div>\n",
       "<style scoped>\n",
       "    .dataframe tbody tr th:only-of-type {\n",
       "        vertical-align: middle;\n",
       "    }\n",
       "\n",
       "    .dataframe tbody tr th {\n",
       "        vertical-align: top;\n",
       "    }\n",
       "\n",
       "    .dataframe thead th {\n",
       "        text-align: right;\n",
       "    }\n",
       "</style>\n",
       "<table border=\"1\" class=\"dataframe\">\n",
       "  <thead>\n",
       "    <tr style=\"text-align: right;\">\n",
       "      <th></th>\n",
       "      <th>label</th>\n",
       "    </tr>\n",
       "  </thead>\n",
       "  <tbody>\n",
       "    <tr>\n",
       "      <th>0</th>\n",
       "      <td>1</td>\n",
       "    </tr>\n",
       "    <tr>\n",
       "      <th>1</th>\n",
       "      <td>1</td>\n",
       "    </tr>\n",
       "    <tr>\n",
       "      <th>3</th>\n",
       "      <td>1</td>\n",
       "    </tr>\n",
       "  </tbody>\n",
       "</table>\n",
       "</div>"
      ],
      "text/plain": [
       "   label\n",
       "0      1\n",
       "1      1\n",
       "3      1"
      ]
     },
     "execution_count": 7,
     "metadata": {},
     "output_type": "execute_result"
    }
   ],
   "source": [
    "y_train.head(3)"
   ]
  },
  {
   "cell_type": "code",
   "execution_count": 8,
   "metadata": {},
   "outputs": [],
   "source": [
    "model = training.ranking.RankingModelFactory.build()\n",
    "trainer = training.ranking.RankingModelTrainer(\n",
    "    model=model, train_dataset=(X_train, y_train), eval_dataset=(X_val, y_val)\n",
    ")"
   ]
  },
  {
   "cell_type": "code",
   "execution_count": 10,
   "metadata": {},
   "outputs": [
    {
     "name": "stdout",
     "output_type": "stream",
     "text": [
      "0:\tlearn: 0.5141313\ttest: 0.5135087\tbest: 0.5135087 (0)\ttotal: 182ms\tremaining: 18s\n",
      "1:\tlearn: 0.3931784\ttest: 0.3926257\tbest: 0.3926257 (1)\ttotal: 197ms\tremaining: 9.63s\n",
      "2:\tlearn: 0.3066654\ttest: 0.3059594\tbest: 0.3059594 (2)\ttotal: 220ms\tremaining: 7.12s\n",
      "3:\tlearn: 0.2423266\ttest: 0.2416390\tbest: 0.2416390 (3)\ttotal: 248ms\tremaining: 5.95s\n",
      "4:\tlearn: 0.1931421\ttest: 0.1923695\tbest: 0.1923695 (4)\ttotal: 271ms\tremaining: 5.15s\n",
      "5:\tlearn: 0.1548219\ttest: 0.1541259\tbest: 0.1541259 (5)\ttotal: 284ms\tremaining: 4.45s\n",
      "6:\tlearn: 0.1249025\ttest: 0.1242005\tbest: 0.1242005 (6)\ttotal: 314ms\tremaining: 4.17s\n",
      "7:\tlearn: 0.1015362\ttest: 0.1007581\tbest: 0.1007581 (7)\ttotal: 369ms\tremaining: 4.25s\n",
      "8:\tlearn: 0.0831523\ttest: 0.0821063\tbest: 0.0821063 (8)\ttotal: 417ms\tremaining: 4.22s\n",
      "9:\tlearn: 0.0677472\ttest: 0.0667419\tbest: 0.0667419 (9)\ttotal: 441ms\tremaining: 3.96s\n",
      "10:\tlearn: 0.0552756\ttest: 0.0543664\tbest: 0.0543664 (10)\ttotal: 455ms\tremaining: 3.68s\n",
      "11:\tlearn: 0.0455097\ttest: 0.0445764\tbest: 0.0445764 (11)\ttotal: 488ms\tremaining: 3.58s\n",
      "12:\tlearn: 0.0374150\ttest: 0.0365716\tbest: 0.0365716 (12)\ttotal: 506ms\tremaining: 3.39s\n",
      "13:\tlearn: 0.0309446\ttest: 0.0302095\tbest: 0.0302095 (13)\ttotal: 532ms\tremaining: 3.27s\n",
      "14:\tlearn: 0.0254838\ttest: 0.0247809\tbest: 0.0247809 (14)\ttotal: 545ms\tremaining: 3.09s\n",
      "15:\tlearn: 0.0211480\ttest: 0.0204661\tbest: 0.0204661 (15)\ttotal: 565ms\tremaining: 2.97s\n",
      "16:\tlearn: 0.0178534\ttest: 0.0171870\tbest: 0.0171870 (16)\ttotal: 601ms\tremaining: 2.93s\n",
      "17:\tlearn: 0.0148300\ttest: 0.0141721\tbest: 0.0141721 (17)\ttotal: 614ms\tremaining: 2.8s\n",
      "18:\tlearn: 0.0124659\ttest: 0.0118076\tbest: 0.0118076 (18)\ttotal: 639ms\tremaining: 2.72s\n",
      "19:\tlearn: 0.0104518\ttest: 0.0097805\tbest: 0.0097805 (19)\ttotal: 674ms\tremaining: 2.69s\n",
      "20:\tlearn: 0.0088397\ttest: 0.0081714\tbest: 0.0081714 (20)\ttotal: 693ms\tremaining: 2.61s\n",
      "21:\tlearn: 0.0075830\ttest: 0.0068931\tbest: 0.0068931 (21)\ttotal: 721ms\tremaining: 2.56s\n",
      "22:\tlearn: 0.0064948\ttest: 0.0058046\tbest: 0.0058046 (22)\ttotal: 739ms\tremaining: 2.47s\n",
      "23:\tlearn: 0.0055769\ttest: 0.0048685\tbest: 0.0048685 (23)\ttotal: 758ms\tremaining: 2.4s\n",
      "24:\tlearn: 0.0048908\ttest: 0.0041741\tbest: 0.0041741 (24)\ttotal: 776ms\tremaining: 2.33s\n",
      "25:\tlearn: 0.0043502\ttest: 0.0036005\tbest: 0.0036005 (25)\ttotal: 805ms\tremaining: 2.29s\n",
      "26:\tlearn: 0.0038750\ttest: 0.0031201\tbest: 0.0031201 (26)\ttotal: 823ms\tremaining: 2.22s\n",
      "27:\tlearn: 0.0034887\ttest: 0.0027246\tbest: 0.0027246 (27)\ttotal: 845ms\tremaining: 2.17s\n",
      "28:\tlearn: 0.0031083\ttest: 0.0023354\tbest: 0.0023354 (28)\ttotal: 859ms\tremaining: 2.1s\n",
      "29:\tlearn: 0.0028051\ttest: 0.0020160\tbest: 0.0020160 (29)\ttotal: 885ms\tremaining: 2.06s\n",
      "30:\tlearn: 0.0027089\ttest: 0.0018971\tbest: 0.0018971 (30)\ttotal: 950ms\tremaining: 2.11s\n",
      "31:\tlearn: 0.0024675\ttest: 0.0016495\tbest: 0.0016495 (31)\ttotal: 962ms\tremaining: 2.04s\n",
      "32:\tlearn: 0.0023274\ttest: 0.0014919\tbest: 0.0014919 (32)\ttotal: 991ms\tremaining: 2.01s\n",
      "33:\tlearn: 0.0022127\ttest: 0.0013730\tbest: 0.0013730 (33)\ttotal: 1.01s\tremaining: 1.97s\n",
      "34:\tlearn: 0.0020639\ttest: 0.0012140\tbest: 0.0012140 (34)\ttotal: 1.04s\tremaining: 1.94s\n",
      "35:\tlearn: 0.0019362\ttest: 0.0010793\tbest: 0.0010793 (35)\ttotal: 1.07s\tremaining: 1.9s\n",
      "36:\tlearn: 0.0018983\ttest: 0.0010423\tbest: 0.0010423 (36)\ttotal: 1.16s\tremaining: 1.97s\n",
      "37:\tlearn: 0.0018182\ttest: 0.0009562\tbest: 0.0009562 (37)\ttotal: 1.18s\tremaining: 1.92s\n",
      "38:\tlearn: 0.0017297\ttest: 0.0008611\tbest: 0.0008611 (38)\ttotal: 1.19s\tremaining: 1.86s\n",
      "39:\tlearn: 0.0016554\ttest: 0.0007802\tbest: 0.0007802 (39)\ttotal: 1.2s\tremaining: 1.81s\n",
      "40:\tlearn: 0.0016316\ttest: 0.0007529\tbest: 0.0007529 (40)\ttotal: 1.24s\tremaining: 1.78s\n",
      "41:\tlearn: 0.0015970\ttest: 0.0007185\tbest: 0.0007185 (41)\ttotal: 1.28s\tremaining: 1.77s\n",
      "42:\tlearn: 0.0015476\ttest: 0.0006603\tbest: 0.0006603 (42)\ttotal: 1.3s\tremaining: 1.73s\n",
      "43:\tlearn: 0.0015205\ttest: 0.0006303\tbest: 0.0006303 (43)\ttotal: 1.36s\tremaining: 1.73s\n",
      "44:\tlearn: 0.0015042\ttest: 0.0006166\tbest: 0.0006166 (44)\ttotal: 1.41s\tremaining: 1.72s\n",
      "45:\tlearn: 0.0014934\ttest: 0.0006039\tbest: 0.0006039 (45)\ttotal: 1.45s\tremaining: 1.7s\n",
      "46:\tlearn: 0.0014856\ttest: 0.0006002\tbest: 0.0006002 (46)\ttotal: 1.52s\tremaining: 1.71s\n",
      "47:\tlearn: 0.0014703\ttest: 0.0005799\tbest: 0.0005799 (47)\ttotal: 1.56s\tremaining: 1.69s\n",
      "48:\tlearn: 0.0014548\ttest: 0.0005637\tbest: 0.0005637 (48)\ttotal: 1.62s\tremaining: 1.68s\n",
      "49:\tlearn: 0.0014332\ttest: 0.0005429\tbest: 0.0005429 (49)\ttotal: 1.66s\tremaining: 1.66s\n",
      "50:\tlearn: 0.0014220\ttest: 0.0005307\tbest: 0.0005307 (50)\ttotal: 1.73s\tremaining: 1.66s\n",
      "51:\tlearn: 0.0013930\ttest: 0.0004956\tbest: 0.0004956 (51)\ttotal: 1.76s\tremaining: 1.62s\n",
      "52:\tlearn: 0.0013820\ttest: 0.0004834\tbest: 0.0004834 (52)\ttotal: 1.8s\tremaining: 1.59s\n",
      "53:\tlearn: 0.0013664\ttest: 0.0004632\tbest: 0.0004632 (53)\ttotal: 1.83s\tremaining: 1.56s\n",
      "54:\tlearn: 0.0013657\ttest: 0.0004644\tbest: 0.0004632 (53)\ttotal: 1.86s\tremaining: 1.53s\n",
      "55:\tlearn: 0.0013573\ttest: 0.0004577\tbest: 0.0004577 (55)\ttotal: 1.93s\tremaining: 1.51s\n",
      "56:\tlearn: 0.0013566\ttest: 0.0004589\tbest: 0.0004577 (55)\ttotal: 1.97s\tremaining: 1.48s\n",
      "57:\tlearn: 0.0013458\ttest: 0.0004497\tbest: 0.0004497 (57)\ttotal: 2s\tremaining: 1.45s\n",
      "58:\tlearn: 0.0013372\ttest: 0.0004426\tbest: 0.0004426 (58)\ttotal: 2.06s\tremaining: 1.43s\n",
      "59:\tlearn: 0.0013281\ttest: 0.0004352\tbest: 0.0004352 (59)\ttotal: 2.12s\tremaining: 1.41s\n",
      "60:\tlearn: 0.0013274\ttest: 0.0004364\tbest: 0.0004352 (59)\ttotal: 2.15s\tremaining: 1.37s\n",
      "61:\tlearn: 0.0013268\ttest: 0.0004375\tbest: 0.0004352 (59)\ttotal: 2.17s\tremaining: 1.33s\n",
      "62:\tlearn: 0.0013219\ttest: 0.0004354\tbest: 0.0004352 (59)\ttotal: 2.23s\tremaining: 1.31s\n",
      "63:\tlearn: 0.0013145\ttest: 0.0004287\tbest: 0.0004287 (63)\ttotal: 2.29s\tremaining: 1.29s\n",
      "64:\tlearn: 0.0013086\ttest: 0.0004249\tbest: 0.0004249 (64)\ttotal: 2.35s\tremaining: 1.27s\n",
      "65:\tlearn: 0.0012980\ttest: 0.0004151\tbest: 0.0004151 (65)\ttotal: 2.42s\tremaining: 1.24s\n",
      "66:\tlearn: 0.0012974\ttest: 0.0004163\tbest: 0.0004151 (65)\ttotal: 2.44s\tremaining: 1.2s\n",
      "67:\tlearn: 0.0012929\ttest: 0.0004132\tbest: 0.0004132 (67)\ttotal: 2.51s\tremaining: 1.18s\n",
      "68:\tlearn: 0.0012836\ttest: 0.0004045\tbest: 0.0004045 (68)\ttotal: 2.57s\tremaining: 1.15s\n",
      "69:\tlearn: 0.0012774\ttest: 0.0004005\tbest: 0.0004005 (69)\ttotal: 2.63s\tremaining: 1.13s\n",
      "70:\tlearn: 0.0012768\ttest: 0.0004017\tbest: 0.0004005 (69)\ttotal: 2.69s\tremaining: 1.1s\n",
      "71:\tlearn: 0.0012762\ttest: 0.0004030\tbest: 0.0004005 (69)\ttotal: 2.76s\tremaining: 1.07s\n",
      "72:\tlearn: 0.0012758\ttest: 0.0004040\tbest: 0.0004005 (69)\ttotal: 2.82s\tremaining: 1.04s\n",
      "73:\tlearn: 0.0012703\ttest: 0.0004008\tbest: 0.0004005 (69)\ttotal: 2.97s\tremaining: 1.04s\n",
      "74:\tlearn: 0.0012646\ttest: 0.0003977\tbest: 0.0003977 (74)\ttotal: 3.06s\tremaining: 1.02s\n",
      "75:\tlearn: 0.0012604\ttest: 0.0003952\tbest: 0.0003952 (75)\ttotal: 3.15s\tremaining: 994ms\n",
      "76:\tlearn: 0.0012601\ttest: 0.0003961\tbest: 0.0003952 (75)\ttotal: 3.18s\tremaining: 951ms\n",
      "77:\tlearn: 0.0012549\ttest: 0.0003936\tbest: 0.0003936 (77)\ttotal: 3.28s\tremaining: 926ms\n",
      "78:\tlearn: 0.0012502\ttest: 0.0003915\tbest: 0.0003915 (78)\ttotal: 3.37s\tremaining: 896ms\n",
      "79:\tlearn: 0.0012499\ttest: 0.0003924\tbest: 0.0003915 (78)\ttotal: 3.4s\tremaining: 850ms\n",
      "80:\tlearn: 0.0012452\ttest: 0.0003903\tbest: 0.0003903 (80)\ttotal: 3.48s\tremaining: 815ms\n",
      "81:\tlearn: 0.0012449\ttest: 0.0003912\tbest: 0.0003903 (80)\ttotal: 3.52s\tremaining: 772ms\n",
      "82:\tlearn: 0.0012408\ttest: 0.0003888\tbest: 0.0003888 (82)\ttotal: 3.58s\tremaining: 734ms\n",
      "83:\tlearn: 0.0012406\ttest: 0.0003896\tbest: 0.0003888 (82)\ttotal: 3.63s\tremaining: 691ms\n",
      "84:\tlearn: 0.0012372\ttest: 0.0003882\tbest: 0.0003882 (84)\ttotal: 3.7s\tremaining: 652ms\n",
      "85:\tlearn: 0.0012339\ttest: 0.0003868\tbest: 0.0003868 (85)\ttotal: 3.76s\tremaining: 612ms\n",
      "86:\tlearn: 0.0012336\ttest: 0.0003876\tbest: 0.0003868 (85)\ttotal: 3.8s\tremaining: 568ms\n",
      "87:\tlearn: 0.0012291\ttest: 0.0003856\tbest: 0.0003856 (87)\ttotal: 3.87s\tremaining: 527ms\n",
      "88:\tlearn: 0.0012289\ttest: 0.0003863\tbest: 0.0003856 (87)\ttotal: 3.91s\tremaining: 483ms\n",
      "89:\tlearn: 0.0012255\ttest: 0.0003849\tbest: 0.0003849 (89)\ttotal: 3.97s\tremaining: 441ms\n",
      "90:\tlearn: 0.0012254\ttest: 0.0003856\tbest: 0.0003849 (89)\ttotal: 4s\tremaining: 396ms\n",
      "91:\tlearn: 0.0012221\ttest: 0.0003842\tbest: 0.0003842 (91)\ttotal: 4.07s\tremaining: 354ms\n",
      "92:\tlearn: 0.0012219\ttest: 0.0003848\tbest: 0.0003842 (91)\ttotal: 4.12s\tremaining: 310ms\n",
      "93:\tlearn: 0.0012218\ttest: 0.0003854\tbest: 0.0003842 (91)\ttotal: 4.16s\tremaining: 266ms\n",
      "94:\tlearn: 0.0012217\ttest: 0.0003859\tbest: 0.0003842 (91)\ttotal: 4.22s\tremaining: 222ms\n",
      "95:\tlearn: 0.0012216\ttest: 0.0003864\tbest: 0.0003842 (91)\ttotal: 4.27s\tremaining: 178ms\n",
      "96:\tlearn: 0.0012183\ttest: 0.0003850\tbest: 0.0003842 (91)\ttotal: 4.33s\tremaining: 134ms\n",
      "Stopped by overfitting detector  (5 iterations wait)\n",
      "\n",
      "bestTest = 0.0003842159387\n",
      "bestIteration = 91\n",
      "\n",
      "Shrink model to first 92 iterations.\n"
     ]
    },
    {
     "data": {
      "text/plain": [
       "<catboost.core.CatBoostClassifier at 0x1cedf877a50>"
      ]
     },
     "execution_count": 10,
     "metadata": {},
     "output_type": "execute_result"
    }
   ],
   "source": [
    "trainer.fit()"
   ]
  },
  {
   "cell_type": "code",
   "execution_count": 11,
   "metadata": {},
   "outputs": [
    {
     "name": "stderr",
     "output_type": "stream",
     "text": [
      "\u001b[32m2025-03-15 16:39:15.726\u001b[0m | \u001b[1mINFO    \u001b[0m | \u001b[36mrecsys.training.ranking\u001b[0m:\u001b[36mevaluate\u001b[0m:\u001b[36m62\u001b[0m - \u001b[1m              precision    recall  f1-score   support\n",
      "\n",
      "           0       1.00      1.00      1.00       895\n",
      "           1       1.00      1.00      1.00       110\n",
      "\n",
      "    accuracy                           1.00      1005\n",
      "   macro avg       1.00      1.00      1.00      1005\n",
      "weighted avg       1.00      1.00      1.00      1005\n",
      "\u001b[0m\n"
     ]
    }
   ],
   "source": [
    "metrics = trainer.evaluate(log=True)"
   ]
  },
  {
   "cell_type": "code",
   "execution_count": 12,
   "metadata": {},
   "outputs": [
    {
     "data": {
      "text/plain": [
       "{'month_cos': 53.21534375629503,\n",
       " 'month_sin': 43.969178636774934,\n",
       " 'department_name': 0.6676404597136671,\n",
       " 'index_name': 0.5054006212947384,\n",
       " 'perceived_colour_master_name': 0.40350924702183066,\n",
       " 'age': 0.34692670401411696,\n",
       " 'garment_group_name': 0.3130302439398821,\n",
       " 'perceived_colour_value_name': 0.24080757862480662,\n",
       " 'index_group_name': 0.19359730829862362,\n",
       " 'section_name': 0.10992847937244066,\n",
       " 'product_group_name': 0.03259730951552113,\n",
       " 'graphical_appearance_name': 0.002039655134412033,\n",
       " 'product_type_name': 0.0,\n",
       " 'colour_group_name': 0.0}"
      ]
     },
     "execution_count": 12,
     "metadata": {},
     "output_type": "execute_result"
    }
   ],
   "source": [
    "trainer.get_feature_importance()"
   ]
  },
  {
   "cell_type": "code",
   "execution_count": 13,
   "metadata": {},
   "outputs": [],
   "source": [
    "mr = project.get_model_registry()"
   ]
  },
  {
   "cell_type": "code",
   "execution_count": 15,
   "metadata": {},
   "outputs": [
    {
     "name": "stderr",
     "output_type": "stream",
     "text": [
      "Uploading: 100.000%|██████████| 495813/495813 elapsed<00:19 remaining<00:00  1.59s/it]\n",
      "Uploading: 100.000%|██████████| 478/478 elapsed<00:03 remaining<00:00<00:49, 12.33s/it]\n",
      "Model export complete: 100%|██████████| 6/6 [00:31<00:00,  5.33s/it]                   "
     ]
    },
    {
     "name": "stdout",
     "output_type": "stream",
     "text": [
      "Model created, explore it at https://c.app.hopsworks.ai:443/p/1213659/models/ranking_model/1\n"
     ]
    },
    {
     "name": "stderr",
     "output_type": "stream",
     "text": [
      "\n"
     ]
    }
   ],
   "source": [
    "ranking_module = hopsworks_integration.ranking_serving.HopsworksRankingModel(\n",
    "    model=model\n",
    ")\n",
    "ranking_module.register(mr, feature_view_ranking, X_train, metrics)"
   ]
  }
 ],
 "metadata": {
  "kernelspec": {
   "display_name": "uvenv",
   "language": "python",
   "name": "python3"
  },
  "language_info": {
   "codemirror_mode": {
    "name": "ipython",
    "version": 3
   },
   "file_extension": ".py",
   "mimetype": "text/x-python",
   "name": "python",
   "nbconvert_exporter": "python",
   "pygments_lexer": "ipython3",
   "version": "3.11.8"
  }
 },
 "nbformat": 4,
 "nbformat_minor": 2
}
