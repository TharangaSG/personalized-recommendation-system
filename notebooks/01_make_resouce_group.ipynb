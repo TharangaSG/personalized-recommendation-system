{
 "cells": [
  {
   "cell_type": "code",
   "execution_count": 1,
   "metadata": {},
   "outputs": [
    {
     "name": "stdout",
     "output_type": "stream",
     "text": [
      "Adding the following directory to the PYTHONPATH: d:\\Projects\\ML\\personalized-recommendation-sysyem\\personalized-recommendation-system\n"
     ]
    }
   ],
   "source": [
    "import sys\n",
    "from pathlib import Path   \n",
    "root_dir = str(Path().absolute().parent)\n",
    "\n",
    "if root_dir not in sys.path:\n",
    "    print(f\"Adding the following directory to the PYTHONPATH: {root_dir}\")\n",
    "    sys.path.append(root_dir)"
   ]
  },
  {
   "cell_type": "code",
   "execution_count": 2,
   "metadata": {},
   "outputs": [],
   "source": [
    "%load_ext autoreload\n",
    "%autoreload 2"
   ]
  },
  {
   "cell_type": "code",
   "execution_count": 3,
   "metadata": {},
   "outputs": [
    {
     "name": "stderr",
     "output_type": "stream",
     "text": [
      "d:\\Projects\\ML\\personalized-recommendation-sysyem\\personalized-recommendation-system\\uvenv\\Lib\\site-packages\\tqdm\\auto.py:21: TqdmWarning: IProgress not found. Please update jupyter and ipywidgets. See https://ipywidgets.readthedocs.io/en/stable/user_install.html\n",
      "  from .autonotebook import tqdm as notebook_tqdm\n"
     ]
    }
   ],
   "source": [
    "from recsys import hopsworks_integration\n",
    "from recsys.config import settings\n",
    "from recsys.hopsworks_integration import feature_store"
   ]
  },
  {
   "cell_type": "code",
   "execution_count": 4,
   "metadata": {},
   "outputs": [
    {
     "name": "stderr",
     "output_type": "stream",
     "text": [
      "\u001b[32m2025-03-15 16:12:02.090\u001b[0m | \u001b[1mINFO    \u001b[0m | \u001b[36mrecsys.hopsworks_integration.feature_store\u001b[0m:\u001b[36mget_feature_store\u001b[0m:\u001b[36m13\u001b[0m - \u001b[1mLoging to Hopsworks using HOPSWORKS_API_KEY env var.\u001b[0m\n"
     ]
    },
    {
     "name": "stdout",
     "output_type": "stream",
     "text": [
      "2025-03-15 16:12:02,093 INFO: Initializing external client\n",
      "2025-03-15 16:12:02,094 INFO: Base URL: https://c.app.hopsworks.ai:443\n",
      "2025-03-15 16:12:05,048 INFO: Python Engine initialized.\n",
      "\n",
      "Logged in to project, explore it here https://c.app.hopsworks.ai:443/p/1213659\n"
     ]
    }
   ],
   "source": [
    "#Conect to hopswork feature store\n",
    "project, fs = feature_store.get_feature_store()"
   ]
  },
  {
   "cell_type": "code",
   "execution_count": 5,
   "metadata": {},
   "outputs": [],
   "source": [
    "from loguru import logger\n",
    "import polars as pl"
   ]
  },
  {
   "cell_type": "code",
   "execution_count": 45,
   "metadata": {},
   "outputs": [],
   "source": [
    "customers_df= pl.read_csv(\"../data/customers.csv\")"
   ]
  },
  {
   "cell_type": "code",
   "execution_count": 46,
   "metadata": {},
   "outputs": [
    {
     "data": {
      "text/plain": [
       "(1371980, 7)"
      ]
     },
     "execution_count": 46,
     "metadata": {},
     "output_type": "execute_result"
    }
   ],
   "source": [
    "customers_df.shape"
   ]
  },
  {
   "cell_type": "code",
   "execution_count": 47,
   "metadata": {},
   "outputs": [
    {
     "data": {
      "text/html": [
       "<div><style>\n",
       ".dataframe > thead > tr,\n",
       ".dataframe > tbody > tr {\n",
       "  text-align: right;\n",
       "  white-space: pre-wrap;\n",
       "}\n",
       "</style>\n",
       "<small>shape: (5, 7)</small><table border=\"1\" class=\"dataframe\"><thead><tr><th>customer_id</th><th>FN</th><th>Active</th><th>club_member_status</th><th>fashion_news_frequency</th><th>age</th><th>postal_code</th></tr><tr><td>str</td><td>f64</td><td>f64</td><td>str</td><td>str</td><td>i64</td><td>str</td></tr></thead><tbody><tr><td>&quot;00000dbacae5abe5e23885899a1fa4…</td><td>null</td><td>null</td><td>&quot;ACTIVE&quot;</td><td>&quot;NONE&quot;</td><td>49</td><td>&quot;52043ee2162cf5aa7ee79974281641…</td></tr><tr><td>&quot;0000423b00ade91418cceaf3b26c6a…</td><td>null</td><td>null</td><td>&quot;ACTIVE&quot;</td><td>&quot;NONE&quot;</td><td>25</td><td>&quot;2973abc54daa8a5f8ccfe9362140c6…</td></tr><tr><td>&quot;000058a12d5b43e67d225668fa1f8d…</td><td>null</td><td>null</td><td>&quot;ACTIVE&quot;</td><td>&quot;NONE&quot;</td><td>24</td><td>&quot;64f17e6a330a85798e4998f62d0930…</td></tr><tr><td>&quot;00005ca1c9ed5f5146b52ac8639a40…</td><td>null</td><td>null</td><td>&quot;ACTIVE&quot;</td><td>&quot;NONE&quot;</td><td>54</td><td>&quot;5d36574f52495e81f019b680c843c4…</td></tr><tr><td>&quot;00006413d8573cd20ed7128e53b7b1…</td><td>1.0</td><td>1.0</td><td>&quot;ACTIVE&quot;</td><td>&quot;Regularly&quot;</td><td>52</td><td>&quot;25fa5ddee9aac01b35208d01736e57…</td></tr></tbody></table></div>"
      ],
      "text/plain": [
       "shape: (5, 7)\n",
       "┌───────────────────┬──────┬────────┬──────────────────┬──────────────────┬─────┬──────────────────┐\n",
       "│ customer_id       ┆ FN   ┆ Active ┆ club_member_stat ┆ fashion_news_fre ┆ age ┆ postal_code      │\n",
       "│ ---               ┆ ---  ┆ ---    ┆ us               ┆ quency           ┆ --- ┆ ---              │\n",
       "│ str               ┆ f64  ┆ f64    ┆ ---              ┆ ---              ┆ i64 ┆ str              │\n",
       "│                   ┆      ┆        ┆ str              ┆ str              ┆     ┆                  │\n",
       "╞═══════════════════╪══════╪════════╪══════════════════╪══════════════════╪═════╪══════════════════╡\n",
       "│ 00000dbacae5abe5e ┆ null ┆ null   ┆ ACTIVE           ┆ NONE             ┆ 49  ┆ 52043ee2162cf5aa │\n",
       "│ 23885899a1fa4…    ┆      ┆        ┆                  ┆                  ┆     ┆ 7ee79974281641…  │\n",
       "│ 0000423b00ade9141 ┆ null ┆ null   ┆ ACTIVE           ┆ NONE             ┆ 25  ┆ 2973abc54daa8a5f │\n",
       "│ 8cceaf3b26c6a…    ┆      ┆        ┆                  ┆                  ┆     ┆ 8ccfe9362140c6…  │\n",
       "│ 000058a12d5b43e67 ┆ null ┆ null   ┆ ACTIVE           ┆ NONE             ┆ 24  ┆ 64f17e6a330a8579 │\n",
       "│ d225668fa1f8d…    ┆      ┆        ┆                  ┆                  ┆     ┆ 8e4998f62d0930…  │\n",
       "│ 00005ca1c9ed5f514 ┆ null ┆ null   ┆ ACTIVE           ┆ NONE             ┆ 54  ┆ 5d36574f52495e81 │\n",
       "│ 6b52ac8639a40…    ┆      ┆        ┆                  ┆                  ┆     ┆ f019b680c843c4…  │\n",
       "│ 00006413d8573cd20 ┆ 1.0  ┆ 1.0    ┆ ACTIVE           ┆ Regularly        ┆ 52  ┆ 25fa5ddee9aac01b │\n",
       "│ ed7128e53b7b1…    ┆      ┆        ┆                  ┆                  ┆     ┆ 35208d01736e57…  │\n",
       "└───────────────────┴──────┴────────┴──────────────────┴──────────────────┴─────┴──────────────────┘"
      ]
     },
     "execution_count": 47,
     "metadata": {},
     "output_type": "execute_result"
    }
   ],
   "source": [
    "customers_df.head()"
   ]
  },
  {
   "cell_type": "code",
   "execution_count": 48,
   "metadata": {},
   "outputs": [
    {
     "data": {
      "text/html": [
       "<div><style>\n",
       ".dataframe > thead > tr,\n",
       ".dataframe > tbody > tr {\n",
       "  text-align: right;\n",
       "  white-space: pre-wrap;\n",
       "}\n",
       "</style>\n",
       "<small>shape: (1, 7)</small><table border=\"1\" class=\"dataframe\"><thead><tr><th>customer_id</th><th>FN</th><th>Active</th><th>club_member_status</th><th>fashion_news_frequency</th><th>age</th><th>postal_code</th></tr><tr><td>u32</td><td>u32</td><td>u32</td><td>u32</td><td>u32</td><td>u32</td><td>u32</td></tr></thead><tbody><tr><td>0</td><td>895050</td><td>907576</td><td>6062</td><td>16009</td><td>15861</td><td>0</td></tr></tbody></table></div>"
      ],
      "text/plain": [
       "shape: (1, 7)\n",
       "┌─────────────┬────────┬────────┬────────────────────┬───────────────────────┬───────┬─────────────┐\n",
       "│ customer_id ┆ FN     ┆ Active ┆ club_member_status ┆ fashion_news_frequenc ┆ age   ┆ postal_code │\n",
       "│ ---         ┆ ---    ┆ ---    ┆ ---                ┆ y                     ┆ ---   ┆ ---         │\n",
       "│ u32         ┆ u32    ┆ u32    ┆ u32                ┆ ---                   ┆ u32   ┆ u32         │\n",
       "│             ┆        ┆        ┆                    ┆ u32                   ┆       ┆             │\n",
       "╞═════════════╪════════╪════════╪════════════════════╪═══════════════════════╪═══════╪═════════════╡\n",
       "│ 0           ┆ 895050 ┆ 907576 ┆ 6062               ┆ 16009                 ┆ 15861 ┆ 0           │\n",
       "└─────────────┴────────┴────────┴────────────────────┴───────────────────────┴───────┴─────────────┘"
      ]
     },
     "execution_count": 48,
     "metadata": {},
     "output_type": "execute_result"
    }
   ],
   "source": [
    "customers_df.null_count()"
   ]
  },
  {
   "cell_type": "code",
   "execution_count": 49,
   "metadata": {},
   "outputs": [],
   "source": [
    "from recsys.features.customers import DatasetSampler, compute_features_customers"
   ]
  },
  {
   "cell_type": "code",
   "execution_count": 50,
   "metadata": {},
   "outputs": [
    {
     "data": {
      "text/plain": [
       "(1356119, 5)"
      ]
     },
     "execution_count": 50,
     "metadata": {},
     "output_type": "execute_result"
    }
   ],
   "source": [
    "customers_df = compute_features_customers(customers_df, drop_null_age=True)\n",
    "customers_df.shape"
   ]
  },
  {
   "cell_type": "code",
   "execution_count": 51,
   "metadata": {},
   "outputs": [
    {
     "data": {
      "text/html": [
       "<div><style>\n",
       ".dataframe > thead > tr,\n",
       ".dataframe > tbody > tr {\n",
       "  text-align: right;\n",
       "  white-space: pre-wrap;\n",
       "}\n",
       "</style>\n",
       "<small>shape: (3, 5)</small><table border=\"1\" class=\"dataframe\"><thead><tr><th>customer_id</th><th>club_member_status</th><th>age</th><th>postal_code</th><th>age_group</th></tr><tr><td>str</td><td>str</td><td>f64</td><td>str</td><td>str</td></tr></thead><tbody><tr><td>&quot;00000dbacae5abe5e23885899a1fa4…</td><td>&quot;ACTIVE&quot;</td><td>49.0</td><td>&quot;52043ee2162cf5aa7ee79974281641…</td><td>&quot;46-55&quot;</td></tr><tr><td>&quot;0000423b00ade91418cceaf3b26c6a…</td><td>&quot;ACTIVE&quot;</td><td>25.0</td><td>&quot;2973abc54daa8a5f8ccfe9362140c6…</td><td>&quot;19-25&quot;</td></tr><tr><td>&quot;000058a12d5b43e67d225668fa1f8d…</td><td>&quot;ACTIVE&quot;</td><td>24.0</td><td>&quot;64f17e6a330a85798e4998f62d0930…</td><td>&quot;19-25&quot;</td></tr></tbody></table></div>"
      ],
      "text/plain": [
       "shape: (3, 5)\n",
       "┌─────────────────────────────┬────────────────────┬──────┬────────────────────────────┬───────────┐\n",
       "│ customer_id                 ┆ club_member_status ┆ age  ┆ postal_code                ┆ age_group │\n",
       "│ ---                         ┆ ---                ┆ ---  ┆ ---                        ┆ ---       │\n",
       "│ str                         ┆ str                ┆ f64  ┆ str                        ┆ str       │\n",
       "╞═════════════════════════════╪════════════════════╪══════╪════════════════════════════╪═══════════╡\n",
       "│ 00000dbacae5abe5e23885899a1 ┆ ACTIVE             ┆ 49.0 ┆ 52043ee2162cf5aa7ee7997428 ┆ 46-55     │\n",
       "│ fa4…                        ┆                    ┆      ┆ 1641…                      ┆           │\n",
       "│ 0000423b00ade91418cceaf3b26 ┆ ACTIVE             ┆ 25.0 ┆ 2973abc54daa8a5f8ccfe93621 ┆ 19-25     │\n",
       "│ c6a…                        ┆                    ┆      ┆ 40c6…                      ┆           │\n",
       "│ 000058a12d5b43e67d225668fa1 ┆ ACTIVE             ┆ 24.0 ┆ 64f17e6a330a85798e4998f62d ┆ 19-25     │\n",
       "│ f8d…                        ┆                    ┆      ┆ 0930…                      ┆           │\n",
       "└─────────────────────────────┴────────────────────┴──────┴────────────────────────────┴───────────┘"
      ]
     },
     "execution_count": 51,
     "metadata": {},
     "output_type": "execute_result"
    }
   ],
   "source": [
    "customers_df.head(3)"
   ]
  },
  {
   "cell_type": "code",
   "execution_count": 55,
   "metadata": {},
   "outputs": [
    {
     "name": "stdout",
     "output_type": "stream",
     "text": [
      "shape: (1, 5)\n",
      "┌─────────────┬────────────────────┬─────┬─────────────┬───────────┐\n",
      "│ customer_id ┆ club_member_status ┆ age ┆ postal_code ┆ age_group │\n",
      "│ ---         ┆ ---                ┆ --- ┆ ---         ┆ ---       │\n",
      "│ u32         ┆ u32                ┆ u32 ┆ u32         ┆ u32       │\n",
      "╞═════════════╪════════════════════╪═════╪═════════════╪═══════════╡\n",
      "│ 0           ┆ 0                  ┆ 0   ┆ 0           ┆ 0         │\n",
      "└─────────────┴────────────────────┴─────┴─────────────┴───────────┘\n"
     ]
    }
   ],
   "source": [
    "import pandas as pd\n",
    "\n",
    "# Check for missing values\n",
    "# print(customers_df.isnull().sum())\n",
    "print(customers_df.null_count())"
   ]
  },
  {
   "cell_type": "code",
   "execution_count": 56,
   "metadata": {},
   "outputs": [
    {
     "data": {
      "text/plain": [
       "(1356119, 5)"
      ]
     },
     "execution_count": 56,
     "metadata": {},
     "output_type": "execute_result"
    }
   ],
   "source": [
    "customers_df.shape"
   ]
  },
  {
   "cell_type": "code",
   "execution_count": 15,
   "metadata": {},
   "outputs": [
    {
     "name": "stderr",
     "output_type": "stream",
     "text": [
      "\u001b[32m2025-03-09 14:26:46.371\u001b[0m | \u001b[1mINFO    \u001b[0m | \u001b[36m__main__\u001b[0m:\u001b[36m<module>\u001b[0m:\u001b[36m1\u001b[0m - \u001b[1mUploading 'customers' Feature Group to Hopsworks.\u001b[0m\n"
     ]
    },
    {
     "name": "stdout",
     "output_type": "stream",
     "text": [
      "Feature Group created successfully, explore it at \n",
      "https://c.app.hopsworks.ai:443/p/1213659/fs/1201283/fg/1403763\n"
     ]
    },
    {
     "name": "stderr",
     "output_type": "stream",
     "text": [
      "Uploading Dataframe: 100.00% |██████████| Rows 1356119/1356119 | Elapsed Time: 02:48 | Remaining Time: 00:00\n"
     ]
    },
    {
     "name": "stdout",
     "output_type": "stream",
     "text": [
      "Launching job: customers_1_offline_fg_materialization\n",
      "Job started successfully, you can follow the progress at \n",
      "https://c.app.hopsworks.ai:443/p/1213659/jobs/named/customers_1_offline_fg_materialization/executions\n",
      "2025-03-09 14:30:01,577 INFO: Waiting for execution to finish. Current state: SUBMITTED. Final status: UNDEFINED\n",
      "2025-03-09 14:30:25,039 INFO: Waiting for execution to finish. Current state: RUNNING. Final status: UNDEFINED\n",
      "2025-03-09 14:34:01,516 INFO: Waiting for execution to finish. Current state: AGGREGATING_LOGS. Final status: SUCCEEDED\n",
      "2025-03-09 14:34:01,826 INFO: Waiting for log aggregation to finish.\n",
      "2025-03-09 14:34:25,767 INFO: Execution finished successfully.\n"
     ]
    },
    {
     "name": "stderr",
     "output_type": "stream",
     "text": [
      "\u001b[32m2025-03-09 14:34:30.618\u001b[0m | \u001b[1mINFO    \u001b[0m | \u001b[36m__main__\u001b[0m:\u001b[36m<module>\u001b[0m:\u001b[36m6\u001b[0m - \u001b[1m✅ Uploaded 'customers' Feature Group to Hopsworks!\u001b[0m\n"
     ]
    }
   ],
   "source": [
    "logger.info(\"Uploading 'customers' Feature Group to Hopsworks.\")\n",
    "customers_fg = feature_store.create_customers_feature_group(\n",
    "    fs, df=customers_df, online_enabled=True\n",
    ")\n",
    "\n",
    "logger.info(\"✅ Uploaded 'customers' Feature Group to Hopsworks!\")"
   ]
  },
  {
   "cell_type": "code",
   "execution_count": 7,
   "metadata": {},
   "outputs": [],
   "source": [
    "transactions_df_all = pl.read_csv(\"../data/transactions_train.csv\")"
   ]
  },
  {
   "cell_type": "code",
   "execution_count": 8,
   "metadata": {},
   "outputs": [
    {
     "data": {
      "text/plain": [
       "(31788324, 5)"
      ]
     },
     "execution_count": 8,
     "metadata": {},
     "output_type": "execute_result"
    }
   ],
   "source": [
    "transactions_df_all.shape"
   ]
  },
  {
   "cell_type": "code",
   "execution_count": null,
   "metadata": {},
   "outputs": [
    {
     "name": "stdout",
     "output_type": "stream",
     "text": [
      "shape: (1, 5)\n",
      "┌───────┬─────────────┬────────────┬───────┬──────────────────┐\n",
      "│ t_dat ┆ customer_id ┆ article_id ┆ price ┆ sales_channel_id │\n",
      "│ ---   ┆ ---         ┆ ---        ┆ ---   ┆ ---              │\n",
      "│ u32   ┆ u32         ┆ u32        ┆ u32   ┆ u32              │\n",
      "╞═══════╪═════════════╪════════════╪═══════╪══════════════════╡\n",
      "│ 0     ┆ 0           ┆ 0          ┆ 0     ┆ 0                │\n",
      "└───────┴─────────────┴────────────┴───────┴──────────────────┘\n"
     ]
    }
   ],
   "source": [
    "print(transactions_df_all.null_count())"
   ]
  },
  {
   "cell_type": "code",
   "execution_count": 12,
   "metadata": {},
   "outputs": [],
   "source": [
    "transactions_df = transactions_df_all.head(1500000)"
   ]
  },
  {
   "cell_type": "code",
   "execution_count": 13,
   "metadata": {},
   "outputs": [
    {
     "data": {
      "text/html": [
       "<div><style>\n",
       ".dataframe > thead > tr,\n",
       ".dataframe > tbody > tr {\n",
       "  text-align: right;\n",
       "  white-space: pre-wrap;\n",
       "}\n",
       "</style>\n",
       "<small>shape: (5, 5)</small><table border=\"1\" class=\"dataframe\"><thead><tr><th>t_dat</th><th>customer_id</th><th>article_id</th><th>price</th><th>sales_channel_id</th></tr><tr><td>str</td><td>str</td><td>i64</td><td>f64</td><td>i64</td></tr></thead><tbody><tr><td>&quot;2018-09-20&quot;</td><td>&quot;000058a12d5b43e67d225668fa1f8d…</td><td>663713001</td><td>0.050831</td><td>2</td></tr><tr><td>&quot;2018-09-20&quot;</td><td>&quot;000058a12d5b43e67d225668fa1f8d…</td><td>541518023</td><td>0.030492</td><td>2</td></tr><tr><td>&quot;2018-09-20&quot;</td><td>&quot;00007d2de826758b65a93dd24ce629…</td><td>505221004</td><td>0.015237</td><td>2</td></tr><tr><td>&quot;2018-09-20&quot;</td><td>&quot;00007d2de826758b65a93dd24ce629…</td><td>685687003</td><td>0.016932</td><td>2</td></tr><tr><td>&quot;2018-09-20&quot;</td><td>&quot;00007d2de826758b65a93dd24ce629…</td><td>685687004</td><td>0.016932</td><td>2</td></tr></tbody></table></div>"
      ],
      "text/plain": [
       "shape: (5, 5)\n",
       "┌────────────┬─────────────────────────────────┬────────────┬──────────┬──────────────────┐\n",
       "│ t_dat      ┆ customer_id                     ┆ article_id ┆ price    ┆ sales_channel_id │\n",
       "│ ---        ┆ ---                             ┆ ---        ┆ ---      ┆ ---              │\n",
       "│ str        ┆ str                             ┆ i64        ┆ f64      ┆ i64              │\n",
       "╞════════════╪═════════════════════════════════╪════════════╪══════════╪══════════════════╡\n",
       "│ 2018-09-20 ┆ 000058a12d5b43e67d225668fa1f8d… ┆ 663713001  ┆ 0.050831 ┆ 2                │\n",
       "│ 2018-09-20 ┆ 000058a12d5b43e67d225668fa1f8d… ┆ 541518023  ┆ 0.030492 ┆ 2                │\n",
       "│ 2018-09-20 ┆ 00007d2de826758b65a93dd24ce629… ┆ 505221004  ┆ 0.015237 ┆ 2                │\n",
       "│ 2018-09-20 ┆ 00007d2de826758b65a93dd24ce629… ┆ 685687003  ┆ 0.016932 ┆ 2                │\n",
       "│ 2018-09-20 ┆ 00007d2de826758b65a93dd24ce629… ┆ 685687004  ┆ 0.016932 ┆ 2                │\n",
       "└────────────┴─────────────────────────────────┴────────────┴──────────┴──────────────────┘"
      ]
     },
     "execution_count": 13,
     "metadata": {},
     "output_type": "execute_result"
    }
   ],
   "source": [
    "transactions_df_all.head()"
   ]
  },
  {
   "cell_type": "code",
   "execution_count": 14,
   "metadata": {},
   "outputs": [
    {
     "name": "stdout",
     "output_type": "stream",
     "text": [
      "shape: (1, 5)\n",
      "┌───────┬─────────────┬────────────┬───────┬──────────────────┐\n",
      "│ t_dat ┆ customer_id ┆ article_id ┆ price ┆ sales_channel_id │\n",
      "│ ---   ┆ ---         ┆ ---        ┆ ---   ┆ ---              │\n",
      "│ u32   ┆ u32         ┆ u32        ┆ u32   ┆ u32              │\n",
      "╞═══════╪═════════════╪════════════╪═══════╪══════════════════╡\n",
      "│ 0     ┆ 0           ┆ 0          ┆ 0     ┆ 0                │\n",
      "└───────┴─────────────┴────────────┴───────┴──────────────────┘\n"
     ]
    }
   ],
   "source": [
    "print(transactions_df.null_count())"
   ]
  },
  {
   "cell_type": "code",
   "execution_count": 10,
   "metadata": {},
   "outputs": [
    {
     "data": {
      "text/plain": [
       "(1500000, 5)"
      ]
     },
     "execution_count": 10,
     "metadata": {},
     "output_type": "execute_result"
    }
   ],
   "source": [
    "transactions_df.shape"
   ]
  },
  {
   "cell_type": "code",
   "execution_count": 15,
   "metadata": {},
   "outputs": [],
   "source": [
    "from recsys.features import transactions"
   ]
  },
  {
   "cell_type": "code",
   "execution_count": 16,
   "metadata": {},
   "outputs": [],
   "source": [
    "transactions_df = transactions.compute_features_transactions(transactions_df)"
   ]
  },
  {
   "cell_type": "code",
   "execution_count": 17,
   "metadata": {},
   "outputs": [
    {
     "data": {
      "text/html": [
       "<div><style>\n",
       ".dataframe > thead > tr,\n",
       ".dataframe > tbody > tr {\n",
       "  text-align: right;\n",
       "  white-space: pre-wrap;\n",
       "}\n",
       "</style>\n",
       "<small>shape: (5, 11)</small><table border=\"1\" class=\"dataframe\"><thead><tr><th>t_dat</th><th>customer_id</th><th>article_id</th><th>price</th><th>sales_channel_id</th><th>year</th><th>month</th><th>day</th><th>day_of_week</th><th>month_sin</th><th>month_cos</th></tr><tr><td>datetime[ns]</td><td>str</td><td>str</td><td>f64</td><td>i64</td><td>i32</td><td>i8</td><td>i8</td><td>i8</td><td>f64</td><td>f64</td></tr></thead><tbody><tr><td>2018-09-20 00:00:00</td><td>&quot;000058a12d5b43e67d225668fa1f8d…</td><td>&quot;663713001&quot;</td><td>0.050831</td><td>2</td><td>2018</td><td>9</td><td>20</td><td>4</td><td>-1.0</td><td>-1.8370e-16</td></tr><tr><td>2018-09-20 00:00:00</td><td>&quot;000058a12d5b43e67d225668fa1f8d…</td><td>&quot;541518023&quot;</td><td>0.030492</td><td>2</td><td>2018</td><td>9</td><td>20</td><td>4</td><td>-1.0</td><td>-1.8370e-16</td></tr><tr><td>2018-09-20 00:00:00</td><td>&quot;00007d2de826758b65a93dd24ce629…</td><td>&quot;505221004&quot;</td><td>0.015237</td><td>2</td><td>2018</td><td>9</td><td>20</td><td>4</td><td>-1.0</td><td>-1.8370e-16</td></tr><tr><td>2018-09-20 00:00:00</td><td>&quot;00007d2de826758b65a93dd24ce629…</td><td>&quot;685687003&quot;</td><td>0.016932</td><td>2</td><td>2018</td><td>9</td><td>20</td><td>4</td><td>-1.0</td><td>-1.8370e-16</td></tr><tr><td>2018-09-20 00:00:00</td><td>&quot;00007d2de826758b65a93dd24ce629…</td><td>&quot;685687004&quot;</td><td>0.016932</td><td>2</td><td>2018</td><td>9</td><td>20</td><td>4</td><td>-1.0</td><td>-1.8370e-16</td></tr></tbody></table></div>"
      ],
      "text/plain": [
       "shape: (5, 11)\n",
       "┌─────────────┬────────────┬────────────┬──────────┬───┬─────┬────────────┬───────────┬────────────┐\n",
       "│ t_dat       ┆ customer_i ┆ article_id ┆ price    ┆ … ┆ day ┆ day_of_wee ┆ month_sin ┆ month_cos  │\n",
       "│ ---         ┆ d          ┆ ---        ┆ ---      ┆   ┆ --- ┆ k          ┆ ---       ┆ ---        │\n",
       "│ datetime[ns ┆ ---        ┆ str        ┆ f64      ┆   ┆ i8  ┆ ---        ┆ f64       ┆ f64        │\n",
       "│ ]           ┆ str        ┆            ┆          ┆   ┆     ┆ i8         ┆           ┆            │\n",
       "╞═════════════╪════════════╪════════════╪══════════╪═══╪═════╪════════════╪═══════════╪════════════╡\n",
       "│ 2018-09-20  ┆ 000058a12d ┆ 663713001  ┆ 0.050831 ┆ … ┆ 20  ┆ 4          ┆ -1.0      ┆ -1.8370e-1 │\n",
       "│ 00:00:00    ┆ 5b43e67d22 ┆            ┆          ┆   ┆     ┆            ┆           ┆ 6          │\n",
       "│             ┆ 5668fa1f8d ┆            ┆          ┆   ┆     ┆            ┆           ┆            │\n",
       "│             ┆ …          ┆            ┆          ┆   ┆     ┆            ┆           ┆            │\n",
       "│ 2018-09-20  ┆ 000058a12d ┆ 541518023  ┆ 0.030492 ┆ … ┆ 20  ┆ 4          ┆ -1.0      ┆ -1.8370e-1 │\n",
       "│ 00:00:00    ┆ 5b43e67d22 ┆            ┆          ┆   ┆     ┆            ┆           ┆ 6          │\n",
       "│             ┆ 5668fa1f8d ┆            ┆          ┆   ┆     ┆            ┆           ┆            │\n",
       "│             ┆ …          ┆            ┆          ┆   ┆     ┆            ┆           ┆            │\n",
       "│ 2018-09-20  ┆ 00007d2de8 ┆ 505221004  ┆ 0.015237 ┆ … ┆ 20  ┆ 4          ┆ -1.0      ┆ -1.8370e-1 │\n",
       "│ 00:00:00    ┆ 26758b65a9 ┆            ┆          ┆   ┆     ┆            ┆           ┆ 6          │\n",
       "│             ┆ 3dd24ce629 ┆            ┆          ┆   ┆     ┆            ┆           ┆            │\n",
       "│             ┆ …          ┆            ┆          ┆   ┆     ┆            ┆           ┆            │\n",
       "│ 2018-09-20  ┆ 00007d2de8 ┆ 685687003  ┆ 0.016932 ┆ … ┆ 20  ┆ 4          ┆ -1.0      ┆ -1.8370e-1 │\n",
       "│ 00:00:00    ┆ 26758b65a9 ┆            ┆          ┆   ┆     ┆            ┆           ┆ 6          │\n",
       "│             ┆ 3dd24ce629 ┆            ┆          ┆   ┆     ┆            ┆           ┆            │\n",
       "│             ┆ …          ┆            ┆          ┆   ┆     ┆            ┆           ┆            │\n",
       "│ 2018-09-20  ┆ 00007d2de8 ┆ 685687004  ┆ 0.016932 ┆ … ┆ 20  ┆ 4          ┆ -1.0      ┆ -1.8370e-1 │\n",
       "│ 00:00:00    ┆ 26758b65a9 ┆            ┆          ┆   ┆     ┆            ┆           ┆ 6          │\n",
       "│             ┆ 3dd24ce629 ┆            ┆          ┆   ┆     ┆            ┆           ┆            │\n",
       "│             ┆ …          ┆            ┆          ┆   ┆     ┆            ┆           ┆            │\n",
       "└─────────────┴────────────┴────────────┴──────────┴───┴─────┴────────────┴───────────┴────────────┘"
      ]
     },
     "execution_count": 17,
     "metadata": {},
     "output_type": "execute_result"
    }
   ],
   "source": [
    "transactions_df.head()"
   ]
  },
  {
   "cell_type": "code",
   "execution_count": 19,
   "metadata": {},
   "outputs": [
    {
     "data": {
      "text/html": [
       "<div><style>\n",
       ".dataframe > thead > tr,\n",
       ".dataframe > tbody > tr {\n",
       "  text-align: right;\n",
       "  white-space: pre-wrap;\n",
       "}\n",
       "</style>\n",
       "<small>shape: (1, 11)</small><table border=\"1\" class=\"dataframe\"><thead><tr><th>t_dat</th><th>customer_id</th><th>article_id</th><th>price</th><th>sales_channel_id</th><th>year</th><th>month</th><th>day</th><th>day_of_week</th><th>month_sin</th><th>month_cos</th></tr><tr><td>u32</td><td>u32</td><td>u32</td><td>u32</td><td>u32</td><td>u32</td><td>u32</td><td>u32</td><td>u32</td><td>u32</td><td>u32</td></tr></thead><tbody><tr><td>0</td><td>0</td><td>0</td><td>0</td><td>0</td><td>0</td><td>0</td><td>0</td><td>0</td><td>0</td><td>0</td></tr></tbody></table></div>"
      ],
      "text/plain": [
       "shape: (1, 11)\n",
       "┌───────┬─────────────┬────────────┬───────┬───┬─────┬─────────────┬───────────┬───────────┐\n",
       "│ t_dat ┆ customer_id ┆ article_id ┆ price ┆ … ┆ day ┆ day_of_week ┆ month_sin ┆ month_cos │\n",
       "│ ---   ┆ ---         ┆ ---        ┆ ---   ┆   ┆ --- ┆ ---         ┆ ---       ┆ ---       │\n",
       "│ u32   ┆ u32         ┆ u32        ┆ u32   ┆   ┆ u32 ┆ u32         ┆ u32       ┆ u32       │\n",
       "╞═══════╪═════════════╪════════════╪═══════╪═══╪═════╪═════════════╪═══════════╪═══════════╡\n",
       "│ 0     ┆ 0           ┆ 0          ┆ 0     ┆ … ┆ 0   ┆ 0           ┆ 0         ┆ 0         │\n",
       "└───────┴─────────────┴────────────┴───────┴───┴─────┴─────────────┴───────────┴───────────┘"
      ]
     },
     "execution_count": 19,
     "metadata": {},
     "output_type": "execute_result"
    }
   ],
   "source": [
    "transactions_df.null_count()"
   ]
  },
  {
   "cell_type": "code",
   "execution_count": 20,
   "metadata": {},
   "outputs": [
    {
     "name": "stderr",
     "output_type": "stream",
     "text": [
      "\u001b[32m2025-02-27 02:31:55.550\u001b[0m | \u001b[1mINFO    \u001b[0m | \u001b[36m__main__\u001b[0m:\u001b[36m<module>\u001b[0m:\u001b[36m1\u001b[0m - \u001b[1mUploading 'transactions' Feature Group to Hopsworks.\u001b[0m\n"
     ]
    },
    {
     "name": "stdout",
     "output_type": "stream",
     "text": [
      "⚠️ Warning: month_sin and month_cos already exist in the DataFrame. Skipping transformation.\n"
     ]
    },
    {
     "name": "stderr",
     "output_type": "stream",
     "text": [
      "Uploading Dataframe: 100.00% |██████████| Rows 1500000/1500000 | Elapsed Time: 03:56 | Remaining Time: 00:00\n"
     ]
    },
    {
     "name": "stdout",
     "output_type": "stream",
     "text": [
      "Launching job: transactions_1_offline_fg_materialization\n",
      "Job started successfully, you can follow the progress at \n",
      "https://c.app.hopsworks.ai:443/p/1213659/jobs/named/transactions_1_offline_fg_materialization/executions\n",
      "2025-02-27 02:36:11,663 INFO: Waiting for execution to finish. Current state: SUBMITTED. Final status: UNDEFINED\n",
      "2025-02-27 02:36:15,005 INFO: Waiting for execution to finish. Current state: RUNNING. Final status: UNDEFINED\n",
      "2025-02-27 02:39:05,980 INFO: Waiting for execution to finish. Current state: AGGREGATING_LOGS. Final status: SUCCEEDED\n",
      "2025-02-27 02:39:06,245 INFO: Waiting for log aggregation to finish.\n",
      "2025-02-27 02:39:22,338 INFO: Execution finished successfully.\n"
     ]
    },
    {
     "ename": "AttributeError",
     "evalue": "module 'recsys.hopsworks_integration.constants' has no attribute 'transactions_feature_descriptions'",
     "output_type": "error",
     "traceback": [
      "\u001b[1;31m---------------------------------------------------------------------------\u001b[0m",
      "\u001b[1;31mAttributeError\u001b[0m                            Traceback (most recent call last)",
      "Cell \u001b[1;32mIn[20], line 2\u001b[0m\n\u001b[0;32m      1\u001b[0m logger\u001b[38;5;241m.\u001b[39minfo(\u001b[38;5;124m\"\u001b[39m\u001b[38;5;124mUploading \u001b[39m\u001b[38;5;124m'\u001b[39m\u001b[38;5;124mtransactions\u001b[39m\u001b[38;5;124m'\u001b[39m\u001b[38;5;124m Feature Group to Hopsworks.\u001b[39m\u001b[38;5;124m\"\u001b[39m)\n\u001b[1;32m----> 2\u001b[0m trans_fg \u001b[38;5;241m=\u001b[39m \u001b[43mfeature_store\u001b[49m\u001b[38;5;241;43m.\u001b[39;49m\u001b[43mcreate_transactions_feature_group\u001b[49m\u001b[43m(\u001b[49m\n\u001b[0;32m      3\u001b[0m \u001b[43m    \u001b[49m\u001b[43mfs\u001b[49m\u001b[38;5;241;43m=\u001b[39;49m\u001b[43mfs\u001b[49m\u001b[43m,\u001b[49m\u001b[43m \u001b[49m\u001b[43mdf\u001b[49m\u001b[38;5;241;43m=\u001b[39;49m\u001b[43mtransactions_df\u001b[49m\u001b[43m,\u001b[49m\u001b[43m \u001b[49m\u001b[43monline_enabled\u001b[49m\u001b[38;5;241;43m=\u001b[39;49m\u001b[38;5;28;43;01mTrue\u001b[39;49;00m\n\u001b[0;32m      4\u001b[0m \u001b[43m)\u001b[49m\n\u001b[0;32m      5\u001b[0m logger\u001b[38;5;241m.\u001b[39minfo(\u001b[38;5;124m\"\u001b[39m\u001b[38;5;124m✅ Uploaded \u001b[39m\u001b[38;5;124m'\u001b[39m\u001b[38;5;124mtransactions\u001b[39m\u001b[38;5;124m'\u001b[39m\u001b[38;5;124m Feature Group to Hopsworks!\u001b[39m\u001b[38;5;124m\"\u001b[39m)\n",
      "File \u001b[1;32md:\\Projects\\ML\\personalized-recommendation-sysyem\\personalized-recommendation-system\\recsys\\hopsworks_integration\\feature_store.py:109\u001b[0m, in \u001b[0;36mcreate_transactions_feature_group\u001b[1;34m(fs, df, online_enabled)\u001b[0m\n\u001b[0;32m    106\u001b[0m trans_fg\u001b[38;5;241m.\u001b[39minsert(df, wait\u001b[38;5;241m=\u001b[39m\u001b[38;5;28;01mTrue\u001b[39;00m)\n\u001b[0;32m    108\u001b[0m \u001b[38;5;66;03m# Update feature descriptions\u001b[39;00m\n\u001b[1;32m--> 109\u001b[0m \u001b[38;5;28;01mfor\u001b[39;00m desc \u001b[38;5;129;01min\u001b[39;00m \u001b[43mconstants\u001b[49m\u001b[38;5;241;43m.\u001b[39;49m\u001b[43mtransactions_feature_descriptions\u001b[49m:\n\u001b[0;32m    110\u001b[0m     trans_fg\u001b[38;5;241m.\u001b[39mupdate_feature_description(desc[\u001b[38;5;124m\"\u001b[39m\u001b[38;5;124mname\u001b[39m\u001b[38;5;124m\"\u001b[39m], desc[\u001b[38;5;124m\"\u001b[39m\u001b[38;5;124mdescription\u001b[39m\u001b[38;5;124m\"\u001b[39m])\n\u001b[0;32m    112\u001b[0m \u001b[38;5;28;01mreturn\u001b[39;00m trans_fg\n",
      "\u001b[1;31mAttributeError\u001b[0m: module 'recsys.hopsworks_integration.constants' has no attribute 'transactions_feature_descriptions'"
     ]
    }
   ],
   "source": [
    "logger.info(\"Uploading 'transactions' Feature Group to Hopsworks.\")\n",
    "trans_fg = feature_store.create_transactions_feature_group(\n",
    "    fs=fs, df=transactions_df, online_enabled=True\n",
    ")\n",
    "logger.info(\"✅ Uploaded 'transactions' Feature Group to Hopsworks!\")"
   ]
  },
  {
   "cell_type": "code",
   "execution_count": 20,
   "metadata": {},
   "outputs": [],
   "source": [
    "import torch\n",
    "from sentence_transformers import SentenceTransformer"
   ]
  },
  {
   "cell_type": "code",
   "execution_count": 21,
   "metadata": {},
   "outputs": [],
   "source": [
    "from recsys.features.articles import (\n",
    "    compute_features_articles,\n",
    "    generate_embeddings_for_dataframe,\n",
    ")"
   ]
  },
  {
   "cell_type": "code",
   "execution_count": 22,
   "metadata": {},
   "outputs": [
    {
     "name": "stderr",
     "output_type": "stream",
     "text": [
      "\u001b[32m2025-03-10 19:18:29.902\u001b[0m | \u001b[1mINFO    \u001b[0m | \u001b[36m__main__\u001b[0m:\u001b[36m<module>\u001b[0m:\u001b[36m8\u001b[0m - \u001b[1mLoading 'all-MiniLM-L6-v2' embedding model to device='cpu'\u001b[0m\n"
     ]
    },
    {
     "name": "stdout",
     "output_type": "stream",
     "text": [
      "2025-03-10 19:18:29,920 INFO: Load pretrained SentenceTransformer: all-MiniLM-L6-v2\n"
     ]
    }
   ],
   "source": [
    "device = (\n",
    "    \"cuda\"\n",
    "    if torch.cuda.is_available()\n",
    "    else \"mps\"\n",
    "    if torch.backends.mps.is_available()\n",
    "    else \"cpu\"\n",
    ")\n",
    "logger.info(\n",
    "    f\"Loading '{settings.FEATURES_EMBEDDING_MODEL_ID}' embedding model to {device=}\"\n",
    ")\n",
    "\n",
    "# Load the embedding model from SentenceTransformer's model registry.\n",
    "model = SentenceTransformer(settings.FEATURES_EMBEDDING_MODEL_ID, device=device)"
   ]
  },
  {
   "cell_type": "code",
   "execution_count": 23,
   "metadata": {},
   "outputs": [],
   "source": [
    "articles_df= pl.read_csv(\"../data/articles.csv\")"
   ]
  },
  {
   "cell_type": "code",
   "execution_count": 24,
   "metadata": {},
   "outputs": [
    {
     "data": {
      "text/html": [
       "<div><style>\n",
       ".dataframe > thead > tr,\n",
       ".dataframe > tbody > tr {\n",
       "  text-align: right;\n",
       "  white-space: pre-wrap;\n",
       "}\n",
       "</style>\n",
       "<small>shape: (5, 25)</small><table border=\"1\" class=\"dataframe\"><thead><tr><th>article_id</th><th>product_code</th><th>prod_name</th><th>product_type_no</th><th>product_type_name</th><th>product_group_name</th><th>graphical_appearance_no</th><th>graphical_appearance_name</th><th>colour_group_code</th><th>colour_group_name</th><th>perceived_colour_value_id</th><th>perceived_colour_value_name</th><th>perceived_colour_master_id</th><th>perceived_colour_master_name</th><th>department_no</th><th>department_name</th><th>index_code</th><th>index_name</th><th>index_group_no</th><th>index_group_name</th><th>section_no</th><th>section_name</th><th>garment_group_no</th><th>garment_group_name</th><th>detail_desc</th></tr><tr><td>i64</td><td>i64</td><td>str</td><td>i64</td><td>str</td><td>str</td><td>i64</td><td>str</td><td>i64</td><td>str</td><td>i64</td><td>str</td><td>i64</td><td>str</td><td>i64</td><td>str</td><td>str</td><td>str</td><td>i64</td><td>str</td><td>i64</td><td>str</td><td>i64</td><td>str</td><td>str</td></tr></thead><tbody><tr><td>108775015</td><td>108775</td><td>&quot;Strap top&quot;</td><td>253</td><td>&quot;Vest top&quot;</td><td>&quot;Garment Upper body&quot;</td><td>1010016</td><td>&quot;Solid&quot;</td><td>9</td><td>&quot;Black&quot;</td><td>4</td><td>&quot;Dark&quot;</td><td>5</td><td>&quot;Black&quot;</td><td>1676</td><td>&quot;Jersey Basic&quot;</td><td>&quot;A&quot;</td><td>&quot;Ladieswear&quot;</td><td>1</td><td>&quot;Ladieswear&quot;</td><td>16</td><td>&quot;Womens Everyday Basics&quot;</td><td>1002</td><td>&quot;Jersey Basic&quot;</td><td>&quot;Jersey top with narrow shoulde…</td></tr><tr><td>108775044</td><td>108775</td><td>&quot;Strap top&quot;</td><td>253</td><td>&quot;Vest top&quot;</td><td>&quot;Garment Upper body&quot;</td><td>1010016</td><td>&quot;Solid&quot;</td><td>10</td><td>&quot;White&quot;</td><td>3</td><td>&quot;Light&quot;</td><td>9</td><td>&quot;White&quot;</td><td>1676</td><td>&quot;Jersey Basic&quot;</td><td>&quot;A&quot;</td><td>&quot;Ladieswear&quot;</td><td>1</td><td>&quot;Ladieswear&quot;</td><td>16</td><td>&quot;Womens Everyday Basics&quot;</td><td>1002</td><td>&quot;Jersey Basic&quot;</td><td>&quot;Jersey top with narrow shoulde…</td></tr><tr><td>108775051</td><td>108775</td><td>&quot;Strap top (1)&quot;</td><td>253</td><td>&quot;Vest top&quot;</td><td>&quot;Garment Upper body&quot;</td><td>1010017</td><td>&quot;Stripe&quot;</td><td>11</td><td>&quot;Off White&quot;</td><td>1</td><td>&quot;Dusty Light&quot;</td><td>9</td><td>&quot;White&quot;</td><td>1676</td><td>&quot;Jersey Basic&quot;</td><td>&quot;A&quot;</td><td>&quot;Ladieswear&quot;</td><td>1</td><td>&quot;Ladieswear&quot;</td><td>16</td><td>&quot;Womens Everyday Basics&quot;</td><td>1002</td><td>&quot;Jersey Basic&quot;</td><td>&quot;Jersey top with narrow shoulde…</td></tr><tr><td>110065001</td><td>110065</td><td>&quot;OP T-shirt (Idro)&quot;</td><td>306</td><td>&quot;Bra&quot;</td><td>&quot;Underwear&quot;</td><td>1010016</td><td>&quot;Solid&quot;</td><td>9</td><td>&quot;Black&quot;</td><td>4</td><td>&quot;Dark&quot;</td><td>5</td><td>&quot;Black&quot;</td><td>1339</td><td>&quot;Clean Lingerie&quot;</td><td>&quot;B&quot;</td><td>&quot;Lingeries/Tights&quot;</td><td>1</td><td>&quot;Ladieswear&quot;</td><td>61</td><td>&quot;Womens Lingerie&quot;</td><td>1017</td><td>&quot;Under-, Nightwear&quot;</td><td>&quot;Microfibre T-shirt bra with un…</td></tr><tr><td>110065002</td><td>110065</td><td>&quot;OP T-shirt (Idro)&quot;</td><td>306</td><td>&quot;Bra&quot;</td><td>&quot;Underwear&quot;</td><td>1010016</td><td>&quot;Solid&quot;</td><td>10</td><td>&quot;White&quot;</td><td>3</td><td>&quot;Light&quot;</td><td>9</td><td>&quot;White&quot;</td><td>1339</td><td>&quot;Clean Lingerie&quot;</td><td>&quot;B&quot;</td><td>&quot;Lingeries/Tights&quot;</td><td>1</td><td>&quot;Ladieswear&quot;</td><td>61</td><td>&quot;Womens Lingerie&quot;</td><td>1017</td><td>&quot;Under-, Nightwear&quot;</td><td>&quot;Microfibre T-shirt bra with un…</td></tr></tbody></table></div>"
      ],
      "text/plain": [
       "shape: (5, 25)\n",
       "┌───────────┬───────────┬───────────┬───────────┬───┬───────────┬───────────┬───────────┬──────────┐\n",
       "│ article_i ┆ product_c ┆ prod_name ┆ product_t ┆ … ┆ section_n ┆ garment_g ┆ garment_g ┆ detail_d │\n",
       "│ d         ┆ ode       ┆ ---       ┆ ype_no    ┆   ┆ ame       ┆ roup_no   ┆ roup_name ┆ esc      │\n",
       "│ ---       ┆ ---       ┆ str       ┆ ---       ┆   ┆ ---       ┆ ---       ┆ ---       ┆ ---      │\n",
       "│ i64       ┆ i64       ┆           ┆ i64       ┆   ┆ str       ┆ i64       ┆ str       ┆ str      │\n",
       "╞═══════════╪═══════════╪═══════════╪═══════════╪═══╪═══════════╪═══════════╪═══════════╪══════════╡\n",
       "│ 108775015 ┆ 108775    ┆ Strap top ┆ 253       ┆ … ┆ Womens    ┆ 1002      ┆ Jersey    ┆ Jersey   │\n",
       "│           ┆           ┆           ┆           ┆   ┆ Everyday  ┆           ┆ Basic     ┆ top with │\n",
       "│           ┆           ┆           ┆           ┆   ┆ Basics    ┆           ┆           ┆ narrow   │\n",
       "│           ┆           ┆           ┆           ┆   ┆           ┆           ┆           ┆ shoulde… │\n",
       "│ 108775044 ┆ 108775    ┆ Strap top ┆ 253       ┆ … ┆ Womens    ┆ 1002      ┆ Jersey    ┆ Jersey   │\n",
       "│           ┆           ┆           ┆           ┆   ┆ Everyday  ┆           ┆ Basic     ┆ top with │\n",
       "│           ┆           ┆           ┆           ┆   ┆ Basics    ┆           ┆           ┆ narrow   │\n",
       "│           ┆           ┆           ┆           ┆   ┆           ┆           ┆           ┆ shoulde… │\n",
       "│ 108775051 ┆ 108775    ┆ Strap top ┆ 253       ┆ … ┆ Womens    ┆ 1002      ┆ Jersey    ┆ Jersey   │\n",
       "│           ┆           ┆ (1)       ┆           ┆   ┆ Everyday  ┆           ┆ Basic     ┆ top with │\n",
       "│           ┆           ┆           ┆           ┆   ┆ Basics    ┆           ┆           ┆ narrow   │\n",
       "│           ┆           ┆           ┆           ┆   ┆           ┆           ┆           ┆ shoulde… │\n",
       "│ 110065001 ┆ 110065    ┆ OP        ┆ 306       ┆ … ┆ Womens    ┆ 1017      ┆ Under-,   ┆ Microfib │\n",
       "│           ┆           ┆ T-shirt   ┆           ┆   ┆ Lingerie  ┆           ┆ Nightwear ┆ re       │\n",
       "│           ┆           ┆ (Idro)    ┆           ┆   ┆           ┆           ┆           ┆ T-shirt  │\n",
       "│           ┆           ┆           ┆           ┆   ┆           ┆           ┆           ┆ bra with │\n",
       "│           ┆           ┆           ┆           ┆   ┆           ┆           ┆           ┆ un…      │\n",
       "│ 110065002 ┆ 110065    ┆ OP        ┆ 306       ┆ … ┆ Womens    ┆ 1017      ┆ Under-,   ┆ Microfib │\n",
       "│           ┆           ┆ T-shirt   ┆           ┆   ┆ Lingerie  ┆           ┆ Nightwear ┆ re       │\n",
       "│           ┆           ┆ (Idro)    ┆           ┆   ┆           ┆           ┆           ┆ T-shirt  │\n",
       "│           ┆           ┆           ┆           ┆   ┆           ┆           ┆           ┆ bra with │\n",
       "│           ┆           ┆           ┆           ┆   ┆           ┆           ┆           ┆ un…      │\n",
       "└───────────┴───────────┴───────────┴───────────┴───┴───────────┴───────────┴───────────┴──────────┘"
      ]
     },
     "execution_count": 24,
     "metadata": {},
     "output_type": "execute_result"
    }
   ],
   "source": [
    "articles_df.head()"
   ]
  },
  {
   "cell_type": "code",
   "execution_count": 25,
   "metadata": {},
   "outputs": [
    {
     "name": "stderr",
     "output_type": "stream",
     "text": [
      "MapWithoutReturnDtypeWarning: Calling `map_elements` without specifying `return_dtype` can lead to unpredictable results. Specify `return_dtype` to silence this warning.\n",
      "MapWithoutReturnDtypeWarning: Calling `map_elements` without specifying `return_dtype` can lead to unpredictable results. Specify `return_dtype` to silence this warning.\n"
     ]
    },
    {
     "data": {
      "text/plain": [
       "(105542, 27)"
      ]
     },
     "execution_count": 25,
     "metadata": {},
     "output_type": "execute_result"
    }
   ],
   "source": [
    "articles_df = compute_features_articles(articles_df)\n",
    "articles_df.shape"
   ]
  },
  {
   "cell_type": "code",
   "execution_count": 26,
   "metadata": {},
   "outputs": [
    {
     "data": {
      "text/html": [
       "<div><style>\n",
       ".dataframe > thead > tr,\n",
       ".dataframe > tbody > tr {\n",
       "  text-align: right;\n",
       "  white-space: pre-wrap;\n",
       "}\n",
       "</style>\n",
       "<small>shape: (3, 27)</small><table border=\"1\" class=\"dataframe\"><thead><tr><th>article_id</th><th>product_code</th><th>prod_name</th><th>product_type_no</th><th>product_type_name</th><th>product_group_name</th><th>graphical_appearance_no</th><th>graphical_appearance_name</th><th>colour_group_code</th><th>colour_group_name</th><th>perceived_colour_value_id</th><th>perceived_colour_value_name</th><th>perceived_colour_master_id</th><th>perceived_colour_master_name</th><th>department_no</th><th>department_name</th><th>index_code</th><th>index_name</th><th>index_group_no</th><th>index_group_name</th><th>section_no</th><th>section_name</th><th>garment_group_no</th><th>garment_group_name</th><th>prod_name_length</th><th>article_description</th><th>image_url</th></tr><tr><td>str</td><td>i64</td><td>str</td><td>i64</td><td>str</td><td>str</td><td>i64</td><td>str</td><td>i64</td><td>str</td><td>i64</td><td>str</td><td>i64</td><td>str</td><td>i64</td><td>str</td><td>str</td><td>str</td><td>i64</td><td>str</td><td>i64</td><td>str</td><td>i64</td><td>str</td><td>u32</td><td>str</td><td>str</td></tr></thead><tbody><tr><td>&quot;108775015&quot;</td><td>108775</td><td>&quot;Strap top&quot;</td><td>253</td><td>&quot;Vest top&quot;</td><td>&quot;Garment Upper body&quot;</td><td>1010016</td><td>&quot;Solid&quot;</td><td>9</td><td>&quot;Black&quot;</td><td>4</td><td>&quot;Dark&quot;</td><td>5</td><td>&quot;Black&quot;</td><td>1676</td><td>&quot;Jersey Basic&quot;</td><td>&quot;A&quot;</td><td>&quot;Ladieswear&quot;</td><td>1</td><td>&quot;Ladieswear&quot;</td><td>16</td><td>&quot;Womens Everyday Basics&quot;</td><td>1002</td><td>&quot;Jersey Basic&quot;</td><td>9</td><td>&quot;Strap top - Vest top in Garmen…</td><td>&quot;10/0108775015.jpg&quot;</td></tr><tr><td>&quot;108775044&quot;</td><td>108775</td><td>&quot;Strap top&quot;</td><td>253</td><td>&quot;Vest top&quot;</td><td>&quot;Garment Upper body&quot;</td><td>1010016</td><td>&quot;Solid&quot;</td><td>10</td><td>&quot;White&quot;</td><td>3</td><td>&quot;Light&quot;</td><td>9</td><td>&quot;White&quot;</td><td>1676</td><td>&quot;Jersey Basic&quot;</td><td>&quot;A&quot;</td><td>&quot;Ladieswear&quot;</td><td>1</td><td>&quot;Ladieswear&quot;</td><td>16</td><td>&quot;Womens Everyday Basics&quot;</td><td>1002</td><td>&quot;Jersey Basic&quot;</td><td>9</td><td>&quot;Strap top - Vest top in Garmen…</td><td>&quot;10/0108775044.jpg&quot;</td></tr><tr><td>&quot;108775051&quot;</td><td>108775</td><td>&quot;Strap top (1)&quot;</td><td>253</td><td>&quot;Vest top&quot;</td><td>&quot;Garment Upper body&quot;</td><td>1010017</td><td>&quot;Stripe&quot;</td><td>11</td><td>&quot;Off White&quot;</td><td>1</td><td>&quot;Dusty Light&quot;</td><td>9</td><td>&quot;White&quot;</td><td>1676</td><td>&quot;Jersey Basic&quot;</td><td>&quot;A&quot;</td><td>&quot;Ladieswear&quot;</td><td>1</td><td>&quot;Ladieswear&quot;</td><td>16</td><td>&quot;Womens Everyday Basics&quot;</td><td>1002</td><td>&quot;Jersey Basic&quot;</td><td>13</td><td>&quot;Strap top (1) - Vest top in Ga…</td><td>&quot;10/0108775051.jpg&quot;</td></tr></tbody></table></div>"
      ],
      "text/plain": [
       "shape: (3, 27)\n",
       "┌───────────┬───────────┬───────────┬───────────┬───┬───────────┬───────────┬───────────┬──────────┐\n",
       "│ article_i ┆ product_c ┆ prod_name ┆ product_t ┆ … ┆ garment_g ┆ prod_name ┆ article_d ┆ image_ur │\n",
       "│ d         ┆ ode       ┆ ---       ┆ ype_no    ┆   ┆ roup_name ┆ _length   ┆ escriptio ┆ l        │\n",
       "│ ---       ┆ ---       ┆ str       ┆ ---       ┆   ┆ ---       ┆ ---       ┆ n         ┆ ---      │\n",
       "│ str       ┆ i64       ┆           ┆ i64       ┆   ┆ str       ┆ u32       ┆ ---       ┆ str      │\n",
       "│           ┆           ┆           ┆           ┆   ┆           ┆           ┆ str       ┆          │\n",
       "╞═══════════╪═══════════╪═══════════╪═══════════╪═══╪═══════════╪═══════════╪═══════════╪══════════╡\n",
       "│ 108775015 ┆ 108775    ┆ Strap top ┆ 253       ┆ … ┆ Jersey    ┆ 9         ┆ Strap top ┆ 10/01087 │\n",
       "│           ┆           ┆           ┆           ┆   ┆ Basic     ┆           ┆ - Vest    ┆ 75015.jp │\n",
       "│           ┆           ┆           ┆           ┆   ┆           ┆           ┆ top in    ┆ g        │\n",
       "│           ┆           ┆           ┆           ┆   ┆           ┆           ┆ Garmen…   ┆          │\n",
       "│ 108775044 ┆ 108775    ┆ Strap top ┆ 253       ┆ … ┆ Jersey    ┆ 9         ┆ Strap top ┆ 10/01087 │\n",
       "│           ┆           ┆           ┆           ┆   ┆ Basic     ┆           ┆ - Vest    ┆ 75044.jp │\n",
       "│           ┆           ┆           ┆           ┆   ┆           ┆           ┆ top in    ┆ g        │\n",
       "│           ┆           ┆           ┆           ┆   ┆           ┆           ┆ Garmen…   ┆          │\n",
       "│ 108775051 ┆ 108775    ┆ Strap top ┆ 253       ┆ … ┆ Jersey    ┆ 13        ┆ Strap top ┆ 10/01087 │\n",
       "│           ┆           ┆ (1)       ┆           ┆   ┆ Basic     ┆           ┆ (1) -     ┆ 75051.jp │\n",
       "│           ┆           ┆           ┆           ┆   ┆           ┆           ┆ Vest top  ┆ g        │\n",
       "│           ┆           ┆           ┆           ┆   ┆           ┆           ┆ in Ga…    ┆          │\n",
       "└───────────┴───────────┴───────────┴───────────┴───┴───────────┴───────────┴───────────┴──────────┘"
      ]
     },
     "execution_count": 26,
     "metadata": {},
     "output_type": "execute_result"
    }
   ],
   "source": [
    "articles_df.head(3)"
   ]
  },
  {
   "cell_type": "code",
   "execution_count": 28,
   "metadata": {},
   "outputs": [
    {
     "data": {
      "text/html": [
       "<div><style>\n",
       ".dataframe > thead > tr,\n",
       ".dataframe > tbody > tr {\n",
       "  text-align: right;\n",
       "  white-space: pre-wrap;\n",
       "}\n",
       "</style>\n",
       "<small>shape: (1, 27)</small><table border=\"1\" class=\"dataframe\"><thead><tr><th>article_id</th><th>product_code</th><th>prod_name</th><th>product_type_no</th><th>product_type_name</th><th>product_group_name</th><th>graphical_appearance_no</th><th>graphical_appearance_name</th><th>colour_group_code</th><th>colour_group_name</th><th>perceived_colour_value_id</th><th>perceived_colour_value_name</th><th>perceived_colour_master_id</th><th>perceived_colour_master_name</th><th>department_no</th><th>department_name</th><th>index_code</th><th>index_name</th><th>index_group_no</th><th>index_group_name</th><th>section_no</th><th>section_name</th><th>garment_group_no</th><th>garment_group_name</th><th>prod_name_length</th><th>article_description</th><th>image_url</th></tr><tr><td>u32</td><td>u32</td><td>u32</td><td>u32</td><td>u32</td><td>u32</td><td>u32</td><td>u32</td><td>u32</td><td>u32</td><td>u32</td><td>u32</td><td>u32</td><td>u32</td><td>u32</td><td>u32</td><td>u32</td><td>u32</td><td>u32</td><td>u32</td><td>u32</td><td>u32</td><td>u32</td><td>u32</td><td>u32</td><td>u32</td><td>u32</td></tr></thead><tbody><tr><td>0</td><td>0</td><td>0</td><td>0</td><td>0</td><td>0</td><td>0</td><td>0</td><td>0</td><td>0</td><td>0</td><td>0</td><td>0</td><td>0</td><td>0</td><td>0</td><td>0</td><td>0</td><td>0</td><td>0</td><td>0</td><td>0</td><td>0</td><td>0</td><td>0</td><td>0</td><td>0</td></tr></tbody></table></div>"
      ],
      "text/plain": [
       "shape: (1, 27)\n",
       "┌───────────┬───────────┬───────────┬───────────┬───┬───────────┬───────────┬───────────┬──────────┐\n",
       "│ article_i ┆ product_c ┆ prod_name ┆ product_t ┆ … ┆ garment_g ┆ prod_name ┆ article_d ┆ image_ur │\n",
       "│ d         ┆ ode       ┆ ---       ┆ ype_no    ┆   ┆ roup_name ┆ _length   ┆ escriptio ┆ l        │\n",
       "│ ---       ┆ ---       ┆ u32       ┆ ---       ┆   ┆ ---       ┆ ---       ┆ n         ┆ ---      │\n",
       "│ u32       ┆ u32       ┆           ┆ u32       ┆   ┆ u32       ┆ u32       ┆ ---       ┆ u32      │\n",
       "│           ┆           ┆           ┆           ┆   ┆           ┆           ┆ u32       ┆          │\n",
       "╞═══════════╪═══════════╪═══════════╪═══════════╪═══╪═══════════╪═══════════╪═══════════╪══════════╡\n",
       "│ 0         ┆ 0         ┆ 0         ┆ 0         ┆ … ┆ 0         ┆ 0         ┆ 0         ┆ 0        │\n",
       "└───────────┴───────────┴───────────┴───────────┴───┴───────────┴───────────┴───────────┴──────────┘"
      ]
     },
     "execution_count": 28,
     "metadata": {},
     "output_type": "execute_result"
    }
   ],
   "source": [
    "articles_df.null_count()"
   ]
  },
  {
   "cell_type": "code",
   "execution_count": 33,
   "metadata": {},
   "outputs": [
    {
     "name": "stderr",
     "output_type": "stream",
     "text": [
      "\u001b[32m2025-03-10 12:02:59.742\u001b[0m | \u001b[1mINFO    \u001b[0m | \u001b[36m__main__\u001b[0m:\u001b[36m<module>\u001b[0m:\u001b[36m2\u001b[0m - \u001b[1mItem 1:\n",
      "Strap top - Vest top in Garment Upper body\n",
      "Appearance: Solid\n",
      "Color: Dark Black (Black)\n",
      "Category: Ladieswear - Womens Everyday Basics - Jersey Basic\n",
      "Details: Jersey top with narrow shoulder straps.\u001b[0m\n",
      "\u001b[32m2025-03-10 12:02:59.746\u001b[0m | \u001b[1mINFO    \u001b[0m | \u001b[36m__main__\u001b[0m:\u001b[36m<module>\u001b[0m:\u001b[36m2\u001b[0m - \u001b[1mItem 2:\n",
      "Strap top - Vest top in Garment Upper body\n",
      "Appearance: Solid\n",
      "Color: Light White (White)\n",
      "Category: Ladieswear - Womens Everyday Basics - Jersey Basic\n",
      "Details: Jersey top with narrow shoulder straps.\u001b[0m\n",
      "\u001b[32m2025-03-10 12:02:59.747\u001b[0m | \u001b[1mINFO    \u001b[0m | \u001b[36m__main__\u001b[0m:\u001b[36m<module>\u001b[0m:\u001b[36m2\u001b[0m - \u001b[1mItem 3:\n",
      "Strap top (1) - Vest top in Garment Upper body\n",
      "Appearance: Stripe\n",
      "Color: Dusty Light White (Off White)\n",
      "Category: Ladieswear - Womens Everyday Basics - Jersey Basic\n",
      "Details: Jersey top with narrow shoulder straps.\u001b[0m\n"
     ]
    }
   ],
   "source": [
    "for i, desc in enumerate(articles_df[\"article_description\"].head(n=3)):\n",
    "    logger.info(f\"Item {i+1}:\\n{desc}\")"
   ]
  },
  {
   "cell_type": "code",
   "execution_count": 35,
   "metadata": {},
   "outputs": [
    {
     "name": "stderr",
     "output_type": "stream",
     "text": [
      "Generating embeddings: 100%|██████████| 105542/105542 [21:48<00:00, 80.69it/s]\n"
     ]
    }
   ],
   "source": [
    "articles_df = generate_embeddings_for_dataframe(\n",
    "    articles_df, \"article_description\", model, batch_size=128\n",
    ")  # Reduce batch size if getting OOM errors."
   ]
  },
  {
   "cell_type": "code",
   "execution_count": 36,
   "metadata": {},
   "outputs": [
    {
     "data": {
      "text/html": [
       "<div><style>\n",
       ".dataframe > thead > tr,\n",
       ".dataframe > tbody > tr {\n",
       "  text-align: right;\n",
       "  white-space: pre-wrap;\n",
       "}\n",
       "</style>\n",
       "<small>shape: (3, 2)</small><table border=\"1\" class=\"dataframe\"><thead><tr><th>article_description</th><th>embeddings</th></tr><tr><td>str</td><td>list[f64]</td></tr></thead><tbody><tr><td>&quot;Strap top - Vest top in Garmen…</td><td>[-0.026782, 0.082344, … 0.022782]</td></tr><tr><td>&quot;Strap top - Vest top in Garmen…</td><td>[-0.010396, 0.089874, … 0.022564]</td></tr><tr><td>&quot;Strap top (1) - Vest top in Ga…</td><td>[-0.032753, 0.091124, … 0.022804]</td></tr></tbody></table></div>"
      ],
      "text/plain": [
       "shape: (3, 2)\n",
       "┌─────────────────────────────────┬─────────────────────────────────┐\n",
       "│ article_description             ┆ embeddings                      │\n",
       "│ ---                             ┆ ---                             │\n",
       "│ str                             ┆ list[f64]                       │\n",
       "╞═════════════════════════════════╪═════════════════════════════════╡\n",
       "│ Strap top - Vest top in Garmen… ┆ [-0.026782, 0.082344, … 0.0227… │\n",
       "│ Strap top - Vest top in Garmen… ┆ [-0.010396, 0.089874, … 0.0225… │\n",
       "│ Strap top (1) - Vest top in Ga… ┆ [-0.032753, 0.091124, … 0.0228… │\n",
       "└─────────────────────────────────┴─────────────────────────────────┘"
      ]
     },
     "execution_count": 36,
     "metadata": {},
     "output_type": "execute_result"
    }
   ],
   "source": [
    "articles_df[[\"article_description\", \"embeddings\"]].head(3)"
   ]
  },
  {
   "cell_type": "code",
   "execution_count": 38,
   "metadata": {},
   "outputs": [],
   "source": [
    "articles_df = articles_df.select(articles_df.columns[:105500])"
   ]
  },
  {
   "cell_type": "code",
   "execution_count": 39,
   "metadata": {},
   "outputs": [
    {
     "name": "stderr",
     "output_type": "stream",
     "text": [
      "\u001b[32m2025-03-10 12:35:11.873\u001b[0m | \u001b[1mINFO    \u001b[0m | \u001b[36m__main__\u001b[0m:\u001b[36m<module>\u001b[0m:\u001b[36m1\u001b[0m - \u001b[1mUploading 'articles' Feature Group to Hopsworks.\u001b[0m\n",
      "Uploading Dataframe: 100.00% |██████████| Rows 105542/105542 | Elapsed Time: 02:52 | Remaining Time: 00:00\n"
     ]
    },
    {
     "name": "stdout",
     "output_type": "stream",
     "text": [
      "Launching job: articles_1_offline_fg_materialization\n",
      "Job started successfully, you can follow the progress at \n",
      "https://c.app.hopsworks.ai:443/p/1213659/jobs/named/articles_1_offline_fg_materialization/executions\n",
      "2025-03-10 12:38:27,536 INFO: Waiting for execution to finish. Current state: SUBMITTED. Final status: UNDEFINED\n",
      "2025-03-10 12:38:30,829 INFO: Waiting for execution to finish. Current state: RUNNING. Final status: UNDEFINED\n",
      "2025-03-10 12:42:41,638 INFO: Waiting for execution to finish. Current state: AGGREGATING_LOGS. Final status: SUCCEEDED\n",
      "2025-03-10 12:42:41,923 INFO: Waiting for log aggregation to finish.\n",
      "2025-03-10 12:42:50,927 INFO: Execution finished successfully.\n"
     ]
    },
    {
     "name": "stderr",
     "output_type": "stream",
     "text": [
      "\u001b[32m2025-03-10 12:42:51.025\u001b[0m | \u001b[1mINFO    \u001b[0m | \u001b[36m__main__\u001b[0m:\u001b[36m<module>\u001b[0m:\u001b[36m8\u001b[0m - \u001b[1m✅ Uploaded 'articles' Feature Group to Hopsworks!\u001b[0m\n"
     ]
    }
   ],
   "source": [
    "logger.info(\"Uploading 'articles' Feature Group to Hopsworks.\")\n",
    "articles_fg = feature_store.create_articles_feature_group(\n",
    "    fs,\n",
    "    df=articles_df,\n",
    "    articles_description_embedding_dim=model.get_sentence_embedding_dimension(),\n",
    "    online_enabled=True,\n",
    ")\n",
    "logger.info(\"✅ Uploaded 'articles' Feature Group to Hopsworks!\")"
   ]
  },
  {
   "cell_type": "code",
   "execution_count": 26,
   "metadata": {},
   "outputs": [
    {
     "data": {
      "text/plain": [
       "'10/0108775015.jpg'"
      ]
     },
     "execution_count": 26,
     "metadata": {},
     "output_type": "execute_result"
    }
   ],
   "source": [
    "articles_df[\"image_url\"][0]"
   ]
  },
  {
   "cell_type": "code",
   "execution_count": 27,
   "metadata": {},
   "outputs": [
    {
     "data": {
      "text/html": [
       "<div style=\"display: grid; grid-template-columns: repeat(6, 1fr); gap: 10px; max-width: 900px;\"><img src=\"94/0949551001.jpg\" style=\"width: 100%; height: auto;\"><img src=\"94/0949551002.jpg\" style=\"width: 100%; height: auto;\"><img src=\"94/0949594001.jpg\" style=\"width: 100%; height: auto;\"><img src=\"95/0950449002.jpg\" style=\"width: 100%; height: auto;\"><img src=\"95/0952267001.jpg\" style=\"width: 100%; height: auto;\"><img src=\"95/0952937003.jpg\" style=\"width: 100%; height: auto;\"><img src=\"95/0952938001.jpg\" style=\"width: 100%; height: auto;\"><img src=\"95/0953450001.jpg\" style=\"width: 100%; height: auto;\"><img src=\"95/0953763001.jpg\" style=\"width: 100%; height: auto;\"><img src=\"95/0956217002.jpg\" style=\"width: 100%; height: auto;\"><img src=\"95/0957375001.jpg\" style=\"width: 100%; height: auto;\"><img src=\"95/0959461001.jpg\" style=\"width: 100%; height: auto;\"></div>"
      ],
      "text/plain": [
       "<IPython.core.display.HTML object>"
      ]
     },
     "metadata": {},
     "output_type": "display_data"
    }
   ],
   "source": [
    "from IPython.display import HTML, display\n",
    "\n",
    "image_urls = articles_df[\"image_url\"].tail(12).to_list()\n",
    "grid_html = '<div style=\"display: grid; grid-template-columns: repeat(6, 1fr); gap: 10px; max-width: 900px;\">'\n",
    "\n",
    "for url in image_urls:\n",
    "    grid_html += f'<img src=\"{url}\" style=\"width: 100%; height: auto;\">'\n",
    "\n",
    "grid_html += \"</div>\"\n",
    "\n",
    "display(HTML(grid_html))"
   ]
  },
  {
   "cell_type": "markdown",
   "metadata": {},
   "source": [
    "Compute ranking dataset"
   ]
  },
  {
   "cell_type": "code",
   "execution_count": 6,
   "metadata": {},
   "outputs": [],
   "source": [
    "from recsys.features.ranking import compute_ranking_dataset"
   ]
  },
  {
   "cell_type": "code",
   "execution_count": 6,
   "metadata": {},
   "outputs": [],
   "source": [
    "customers_fg = fs.get_feature_group(\"customers\", version=1)"
   ]
  },
  {
   "cell_type": "code",
   "execution_count": 7,
   "metadata": {},
   "outputs": [],
   "source": [
    "articles_fg = fs.get_feature_group(\"articles\", version=1)"
   ]
  },
  {
   "cell_type": "code",
   "execution_count": 8,
   "metadata": {},
   "outputs": [],
   "source": [
    "trans_fg = fs.get_feature_group(\"transactions\", version=1)"
   ]
  },
  {
   "cell_type": "code",
   "execution_count": 10,
   "metadata": {},
   "outputs": [
    {
     "name": "stdout",
     "output_type": "stream",
     "text": [
      "Finished: Reading data from Hopsworks, using Hopsworks Feature Query Service (186.72s) \n",
      "Finished: Reading data from Hopsworks, using Hopsworks Feature Query Service (38.73s) \n",
      "Finished: Reading data from Hopsworks, using Hopsworks Feature Query Service (138.14s) \n",
      "Finished: Reading data from Hopsworks, using Hopsworks Feature Query Service (1257.05s) \n"
     ]
    },
    {
     "data": {
      "text/plain": [
       "(14916462, 15)"
      ]
     },
     "execution_count": 10,
     "metadata": {},
     "output_type": "execute_result"
    }
   ],
   "source": [
    "ranking_df = compute_ranking_dataset(\n",
    "    trans_fg,\n",
    "    articles_fg,\n",
    "    customers_fg,\n",
    ")\n",
    "ranking_df.shape\n"
   ]
  },
  {
   "cell_type": "code",
   "execution_count": 11,
   "metadata": {},
   "outputs": [
    {
     "data": {
      "text/html": [
       "<div><style>\n",
       ".dataframe > thead > tr,\n",
       ".dataframe > tbody > tr {\n",
       "  text-align: right;\n",
       "  white-space: pre-wrap;\n",
       "}\n",
       "</style>\n",
       "<small>shape: (3, 15)</small><table border=\"1\" class=\"dataframe\"><thead><tr><th>customer_id</th><th>age</th><th>article_id</th><th>label</th><th>product_type_name</th><th>product_group_name</th><th>graphical_appearance_name</th><th>colour_group_name</th><th>perceived_colour_value_name</th><th>perceived_colour_master_name</th><th>department_name</th><th>index_name</th><th>index_group_name</th><th>section_name</th><th>garment_group_name</th></tr><tr><td>str</td><td>f64</td><td>str</td><td>i32</td><td>str</td><td>str</td><td>str</td><td>str</td><td>str</td><td>str</td><td>str</td><td>str</td><td>str</td><td>str</td><td>str</td></tr></thead><tbody><tr><td>&quot;325b63f3afd49ad98305e8ca136f56…</td><td>32.0</td><td>&quot;640727001&quot;</td><td>1</td><td>&quot;Skirt&quot;</td><td>&quot;Garment Lower body&quot;</td><td>&quot;Solid&quot;</td><td>&quot;Black&quot;</td><td>&quot;Dark&quot;</td><td>&quot;Black&quot;</td><td>&quot;Skirts&quot;</td><td>&quot;Divided&quot;</td><td>&quot;Divided&quot;</td><td>&quot;Divided Collection&quot;</td><td>&quot;Skirts&quot;</td></tr><tr><td>&quot;5d3190aa6e12099cc77ec23b6817a9…</td><td>55.0</td><td>&quot;675657002&quot;</td><td>1</td><td>&quot;Dress&quot;</td><td>&quot;Garment Full body&quot;</td><td>&quot;Solid&quot;</td><td>&quot;Dark Red&quot;</td><td>&quot;Dark&quot;</td><td>&quot;Red&quot;</td><td>&quot;Jersey&quot;</td><td>&quot;Ladieswear&quot;</td><td>&quot;Ladieswear&quot;</td><td>&quot;H&amp;M+&quot;</td><td>&quot;Jersey Fancy&quot;</td></tr><tr><td>&quot;139711369b0211ce8ee7be62fa1f24…</td><td>30.0</td><td>&quot;633130002&quot;</td><td>1</td><td>&quot;Sweater&quot;</td><td>&quot;Garment Upper body&quot;</td><td>&quot;Colour blocking&quot;</td><td>&quot;Dark Blue&quot;</td><td>&quot;Dark&quot;</td><td>&quot;Blue&quot;</td><td>&quot;Tops Fancy Jersey&quot;</td><td>&quot;Divided&quot;</td><td>&quot;Divided&quot;</td><td>&quot;Divided Collection&quot;</td><td>&quot;Jersey Fancy&quot;</td></tr></tbody></table></div>"
      ],
      "text/plain": [
       "shape: (3, 15)\n",
       "┌─────────────┬──────┬────────────┬───────┬───┬────────────┬─────────────┬────────────┬────────────┐\n",
       "│ customer_id ┆ age  ┆ article_id ┆ label ┆ … ┆ index_name ┆ index_group ┆ section_na ┆ garment_gr │\n",
       "│ ---         ┆ ---  ┆ ---        ┆ ---   ┆   ┆ ---        ┆ _name       ┆ me         ┆ oup_name   │\n",
       "│ str         ┆ f64  ┆ str        ┆ i32   ┆   ┆ str        ┆ ---         ┆ ---        ┆ ---        │\n",
       "│             ┆      ┆            ┆       ┆   ┆            ┆ str         ┆ str        ┆ str        │\n",
       "╞═════════════╪══════╪════════════╪═══════╪═══╪════════════╪═════════════╪════════════╪════════════╡\n",
       "│ 325b63f3afd ┆ 32.0 ┆ 640727001  ┆ 1     ┆ … ┆ Divided    ┆ Divided     ┆ Divided    ┆ Skirts     │\n",
       "│ 49ad98305e8 ┆      ┆            ┆       ┆   ┆            ┆             ┆ Collection ┆            │\n",
       "│ ca136f56…   ┆      ┆            ┆       ┆   ┆            ┆             ┆            ┆            │\n",
       "│ 5d3190aa6e1 ┆ 55.0 ┆ 675657002  ┆ 1     ┆ … ┆ Ladieswear ┆ Ladieswear  ┆ H&M+       ┆ Jersey     │\n",
       "│ 2099cc77ec2 ┆      ┆            ┆       ┆   ┆            ┆             ┆            ┆ Fancy      │\n",
       "│ 3b6817a9…   ┆      ┆            ┆       ┆   ┆            ┆             ┆            ┆            │\n",
       "│ 139711369b0 ┆ 30.0 ┆ 633130002  ┆ 1     ┆ … ┆ Divided    ┆ Divided     ┆ Divided    ┆ Jersey     │\n",
       "│ 211ce8ee7be ┆      ┆            ┆       ┆   ┆            ┆             ┆ Collection ┆ Fancy      │\n",
       "│ 62fa1f24…   ┆      ┆            ┆       ┆   ┆            ┆             ┆            ┆            │\n",
       "└─────────────┴──────┴────────────┴───────┴───┴────────────┴─────────────┴────────────┴────────────┘"
      ]
     },
     "execution_count": 11,
     "metadata": {},
     "output_type": "execute_result"
    }
   ],
   "source": [
    "ranking_df.head(3)"
   ]
  },
  {
   "cell_type": "code",
   "execution_count": null,
   "metadata": {},
   "outputs": [
    {
     "data": {
      "text/html": [
       "<div><style>\n",
       ".dataframe > thead > tr,\n",
       ".dataframe > tbody > tr {\n",
       "  text-align: right;\n",
       "  white-space: pre-wrap;\n",
       "}\n",
       "</style>\n",
       "<small>shape: (2, 2)</small><table border=\"1\" class=\"dataframe\"><thead><tr><th>label</th><th>count</th></tr><tr><td>i32</td><td>u32</td></tr></thead><tbody><tr><td>0</td><td>13560420</td></tr><tr><td>1</td><td>1356042</td></tr></tbody></table></div>"
      ],
      "text/plain": [
       "shape: (2, 2)\n",
       "┌───────┬──────────┐\n",
       "│ label ┆ count    │\n",
       "│ ---   ┆ ---      │\n",
       "│ i32   ┆ u32      │\n",
       "╞═══════╪══════════╡\n",
       "│ 0     ┆ 13560420 │\n",
       "│ 1     ┆ 1356042  │\n",
       "└───────┴──────────┘"
      ]
     },
     "execution_count": 12,
     "metadata": {},
     "output_type": "execute_result"
    }
   ],
   "source": [
    "ranking_df.get_column(\"label\").value_counts()"
   ]
  },
  {
   "cell_type": "code",
   "execution_count": null,
   "metadata": {},
   "outputs": [],
   "source": [
    "file_path = r\"../data/ranking.csv\"  # Change to your desired location\n",
    "\n",
    "# Save the DataFrame as CSV\n",
    "ranking_df.write_csv(file_path)\n"
   ]
  },
  {
   "cell_type": "code",
   "execution_count": 9,
   "metadata": {},
   "outputs": [],
   "source": [
    "file_path = r\"../data/ranking.csv\"  \n",
    "\n",
    "ranking_df = pl.read_csv(file_path)"
   ]
  },
  {
   "cell_type": "code",
   "execution_count": 10,
   "metadata": {},
   "outputs": [],
   "source": [
    "ranking_sample_df = ranking_df.sample(n=10_000, shuffle=True)"
   ]
  },
  {
   "cell_type": "code",
   "execution_count": 11,
   "metadata": {},
   "outputs": [
    {
     "data": {
      "text/html": [
       "<div><style>\n",
       ".dataframe > thead > tr,\n",
       ".dataframe > tbody > tr {\n",
       "  text-align: right;\n",
       "  white-space: pre-wrap;\n",
       "}\n",
       "</style>\n",
       "<small>shape: (2, 2)</small><table border=\"1\" class=\"dataframe\"><thead><tr><th>label</th><th>count</th></tr><tr><td>i64</td><td>u32</td></tr></thead><tbody><tr><td>1</td><td>905</td></tr><tr><td>0</td><td>9095</td></tr></tbody></table></div>"
      ],
      "text/plain": [
       "shape: (2, 2)\n",
       "┌───────┬───────┐\n",
       "│ label ┆ count │\n",
       "│ ---   ┆ ---   │\n",
       "│ i64   ┆ u32   │\n",
       "╞═══════╪═══════╡\n",
       "│ 1     ┆ 905   │\n",
       "│ 0     ┆ 9095  │\n",
       "└───────┴───────┘"
      ]
     },
     "execution_count": 11,
     "metadata": {},
     "output_type": "execute_result"
    }
   ],
   "source": [
    "ranking_sample_df.get_column(\"label\").value_counts()"
   ]
  },
  {
   "cell_type": "code",
   "execution_count": 12,
   "metadata": {},
   "outputs": [
    {
     "name": "stderr",
     "output_type": "stream",
     "text": [
      "\u001b[32m2025-03-15 16:13:53.309\u001b[0m | \u001b[1mINFO    \u001b[0m | \u001b[36m__main__\u001b[0m:\u001b[36m<module>\u001b[0m:\u001b[36m1\u001b[0m - \u001b[1mUploading 'ranking' Feature Group to Hopsworks.\u001b[0m\n",
      "Uploading Dataframe: 100.00% |██████████| Rows 10000/10000 | Elapsed Time: 02:04 | Remaining Time: 00:00\n"
     ]
    },
    {
     "name": "stdout",
     "output_type": "stream",
     "text": [
      "Launching job: ranking_1_offline_fg_materialization\n",
      "Job started successfully, you can follow the progress at \n",
      "https://c.app.hopsworks.ai:443/p/1213659/jobs/named/ranking_1_offline_fg_materialization/executions\n",
      "2025-03-15 16:16:22,219 INFO: Waiting for execution to finish. Current state: SUBMITTED. Final status: UNDEFINED\n",
      "2025-03-15 16:16:25,614 INFO: Waiting for execution to finish. Current state: RUNNING. Final status: UNDEFINED\n",
      "2025-03-15 16:18:27,162 INFO: Waiting for log aggregation to finish.\n",
      "2025-03-15 16:19:28,219 INFO: Execution finished successfully.\n"
     ]
    },
    {
     "name": "stderr",
     "output_type": "stream",
     "text": [
      "\u001b[32m2025-03-15 16:19:42.701\u001b[0m | \u001b[1mINFO    \u001b[0m | \u001b[36m__main__\u001b[0m:\u001b[36m<module>\u001b[0m:\u001b[36m8\u001b[0m - \u001b[1m✅ Uploaded 'ranking' Feature Group to Hopsworks!!\u001b[0m\n"
     ]
    }
   ],
   "source": [
    "logger.info(\"Uploading 'ranking' Feature Group to Hopsworks.\")\n",
    "rank_fg = feature_store.create_ranking_feature_group(\n",
    "    fs,\n",
    "    df=ranking_sample_df,\n",
    "    parents=[articles_fg, customers_fg, trans_fg],\n",
    "    online_enabled=False\n",
    ")\n",
    "logger.info(\"✅ Uploaded 'ranking' Feature Group to Hopsworks!!\")"
   ]
  }
 ],
 "metadata": {
  "kernelspec": {
   "display_name": "uvenv",
   "language": "python",
   "name": "python3"
  },
  "language_info": {
   "codemirror_mode": {
    "name": "ipython",
    "version": 3
   },
   "file_extension": ".py",
   "mimetype": "text/x-python",
   "name": "python",
   "nbconvert_exporter": "python",
   "pygments_lexer": "ipython3",
   "version": "3.11.8"
  }
 },
 "nbformat": 4,
 "nbformat_minor": 2
}
