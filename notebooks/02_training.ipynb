{
 "cells": [
  {
   "cell_type": "code",
   "execution_count": 2,
   "metadata": {},
   "outputs": [],
   "source": [
    "import time\n",
    "\n",
    "notebook_start_time = time.time()"
   ]
  },
  {
   "cell_type": "code",
   "execution_count": 3,
   "metadata": {},
   "outputs": [
    {
     "name": "stdout",
     "output_type": "stream",
     "text": [
      "Adding the following directory to the PYTHONPATH: d:\\Projects\\ML\\personalized-recommendation-sysyem\\personalized-recommendation-system\n"
     ]
    }
   ],
   "source": [
    "import sys\n",
    "from pathlib import Path   \n",
    "root_dir = str(Path().absolute().parent)\n",
    "\n",
    "if root_dir not in sys.path:\n",
    "    print(f\"Adding the following directory to the PYTHONPATH: {root_dir}\")\n",
    "    sys.path.append(root_dir)"
   ]
  },
  {
   "cell_type": "code",
   "execution_count": 4,
   "metadata": {},
   "outputs": [
    {
     "name": "stdout",
     "output_type": "stream",
     "text": [
      "NumPy Version: 1.26.4\n",
      "Pandas Version: 2.1.4\n",
      "Polars Version: 1.9.0\n"
     ]
    }
   ],
   "source": [
    "import numpy as np\n",
    "import pandas as pd\n",
    "import polars as pl\n",
    "\n",
    "print(\"NumPy Version:\", np.__version__)\n",
    "print(\"Pandas Version:\", pd.__version__)\n",
    "print(\"Polars Version:\", pl.__version__)\n"
   ]
  },
  {
   "cell_type": "code",
   "execution_count": 5,
   "metadata": {},
   "outputs": [],
   "source": [
    "%load_ext autoreload\n",
    "%autoreload 2\n",
    "\n",
    "import warnings\n",
    "\n",
    "warnings.filterwarnings(\"ignore\")\n",
    "\n",
    "from loguru import logger\n",
    "\n",
    "from recsys import hopsworks_integration, training\n",
    "from recsys.config import settings"
   ]
  },
  {
   "cell_type": "code",
   "execution_count": 6,
   "metadata": {},
   "outputs": [
    {
     "name": "stderr",
     "output_type": "stream",
     "text": [
      "\u001b[32m2025-03-15 22:59:26.942\u001b[0m | \u001b[1mINFO    \u001b[0m | \u001b[36mrecsys.hopsworks_integration.feature_store\u001b[0m:\u001b[36mget_feature_store\u001b[0m:\u001b[36m13\u001b[0m - \u001b[1mLoging to Hopsworks using HOPSWORKS_API_KEY env var.\u001b[0m\n"
     ]
    },
    {
     "name": "stdout",
     "output_type": "stream",
     "text": [
      "2025-03-15 22:59:26,942 INFO: Initializing external client\n",
      "2025-03-15 22:59:26,942 INFO: Base URL: https://c.app.hopsworks.ai:443\n",
      "2025-03-15 22:59:31,474 INFO: Python Engine initialized.\n",
      "\n",
      "Logged in to project, explore it here https://c.app.hopsworks.ai:443/p/1213659\n"
     ]
    }
   ],
   "source": [
    "project, fs = hopsworks_integration.get_feature_store()"
   ]
  },
  {
   "cell_type": "markdown",
   "metadata": {},
   "source": [
    "Create Hopsworks Feature Views"
   ]
  },
  {
   "cell_type": "code",
   "execution_count": 5,
   "metadata": {},
   "outputs": [
    {
     "name": "stdout",
     "output_type": "stream",
     "text": [
      "Feature view created successfully, explore it at \n",
      "https://c.app.hopsworks.ai:443/p/1213659/fs/1201283/fv/retrieval/version/1\n"
     ]
    }
   ],
   "source": [
    "feature_view = hopsworks_integration.feature_store.create_retrieval_feature_view(fs)"
   ]
  },
  {
   "cell_type": "code",
   "execution_count": 50,
   "metadata": {},
   "outputs": [
    {
     "data": {
      "text/html": [
       "<div>\n",
       "<style scoped>\n",
       "    .dataframe tbody tr th:only-of-type {\n",
       "        vertical-align: middle;\n",
       "    }\n",
       "\n",
       "    .dataframe tbody tr th {\n",
       "        vertical-align: top;\n",
       "    }\n",
       "\n",
       "    .dataframe thead th {\n",
       "        text-align: right;\n",
       "    }\n",
       "</style>\n",
       "<table border=\"1\" class=\"dataframe\">\n",
       "  <thead>\n",
       "    <tr style=\"text-align: right;\">\n",
       "      <th></th>\n",
       "      <th>customer_id</th>\n",
       "      <th>article_id</th>\n",
       "      <th>t_dat</th>\n",
       "      <th>price</th>\n",
       "      <th>month_sin</th>\n",
       "      <th>month_cos</th>\n",
       "      <th>age</th>\n",
       "      <th>club_member_status</th>\n",
       "      <th>age_group</th>\n",
       "      <th>garment_group_name</th>\n",
       "      <th>index_group_name</th>\n",
       "    </tr>\n",
       "  </thead>\n",
       "  <tbody>\n",
       "    <tr>\n",
       "      <th>0</th>\n",
       "      <td>041d20ceba3aad6b18dff1b02a60207454c4405cb52e6e...</td>\n",
       "      <td>562245001</td>\n",
       "      <td>2018-09-21 00:00:00+00:00</td>\n",
       "      <td>0.022017</td>\n",
       "      <td>-1.000000</td>\n",
       "      <td>-1.836970e-16</td>\n",
       "      <td>33.0</td>\n",
       "      <td>ACTIVE</td>\n",
       "      <td>26-35</td>\n",
       "      <td>Trousers</td>\n",
       "      <td>Ladieswear</td>\n",
       "    </tr>\n",
       "    <tr>\n",
       "      <th>1</th>\n",
       "      <td>ee69a199eaa2869700cf9750bfc2556f30e4f6d7a602ff...</td>\n",
       "      <td>179123001</td>\n",
       "      <td>2018-10-13 00:00:00+00:00</td>\n",
       "      <td>0.006763</td>\n",
       "      <td>-0.866025</td>\n",
       "      <td>5.000000e-01</td>\n",
       "      <td>50.0</td>\n",
       "      <td>ACTIVE</td>\n",
       "      <td>46-55</td>\n",
       "      <td>Jersey Basic</td>\n",
       "      <td>Ladieswear</td>\n",
       "    </tr>\n",
       "    <tr>\n",
       "      <th>2</th>\n",
       "      <td>f298ea95e6d1ba4db1749db4c1af484496094d74f1d15c...</td>\n",
       "      <td>502186011</td>\n",
       "      <td>2018-09-26 00:00:00+00:00</td>\n",
       "      <td>0.033881</td>\n",
       "      <td>-1.000000</td>\n",
       "      <td>-1.836970e-16</td>\n",
       "      <td>20.0</td>\n",
       "      <td>ACTIVE</td>\n",
       "      <td>19-25</td>\n",
       "      <td>Knitwear</td>\n",
       "      <td>Ladieswear</td>\n",
       "    </tr>\n",
       "  </tbody>\n",
       "</table>\n",
       "</div>"
      ],
      "text/plain": [
       "                                         customer_id article_id  \\\n",
       "0  041d20ceba3aad6b18dff1b02a60207454c4405cb52e6e...  562245001   \n",
       "1  ee69a199eaa2869700cf9750bfc2556f30e4f6d7a602ff...  179123001   \n",
       "2  f298ea95e6d1ba4db1749db4c1af484496094d74f1d15c...  502186011   \n",
       "\n",
       "                      t_dat     price  month_sin     month_cos   age  \\\n",
       "0 2018-09-21 00:00:00+00:00  0.022017  -1.000000 -1.836970e-16  33.0   \n",
       "1 2018-10-13 00:00:00+00:00  0.006763  -0.866025  5.000000e-01  50.0   \n",
       "2 2018-09-26 00:00:00+00:00  0.033881  -1.000000 -1.836970e-16  20.0   \n",
       "\n",
       "  club_member_status age_group garment_group_name index_group_name  \n",
       "0             ACTIVE     26-35           Trousers       Ladieswear  \n",
       "1             ACTIVE     46-55       Jersey Basic       Ladieswear  \n",
       "2             ACTIVE     19-25           Knitwear       Ladieswear  "
      ]
     },
     "execution_count": 50,
     "metadata": {},
     "output_type": "execute_result"
    }
   ],
   "source": [
    "df.head(3)"
   ]
  },
  {
   "cell_type": "code",
   "execution_count": 51,
   "metadata": {},
   "outputs": [
    {
     "data": {
      "text/plain": [
       "<bound method DataFrame.info of                                                customer_id article_id  \\\n",
       "0        041d20ceba3aad6b18dff1b02a60207454c4405cb52e6e...  562245001   \n",
       "1        ee69a199eaa2869700cf9750bfc2556f30e4f6d7a602ff...  179123001   \n",
       "2        f298ea95e6d1ba4db1749db4c1af484496094d74f1d15c...  502186011   \n",
       "3        06a475ce6e0a0325f25233aad8bf895579d5a284ff3658...  399256018   \n",
       "4        85b63162ef07f4e3d930a0c8af358b2bdfb972d94b12a8...  542846001   \n",
       "...                                                    ...        ...   \n",
       "1356037  3a7ef6857c8b1d849abc96f6670d082a70a36548ffc775...  569526002   \n",
       "1356038  9359afbfe5f8337cc2ee425080b4b396068eeb404955fa...  537346026   \n",
       "1356039  b747cb3c97c06fe45f97b7d3dd2f3bbc8b545ed4e99211...  624637001   \n",
       "1356040  c4e58904f623d06243951ff7d85ee41ab38598dd7347fb...  569526002   \n",
       "1356041  a6d3d2528f095fc4623263449883291bf01e9ab91e43db...  537346026   \n",
       "\n",
       "                            t_dat     price  month_sin     month_cos   age  \\\n",
       "0       2018-09-21 00:00:00+00:00  0.022017  -1.000000 -1.836970e-16  33.0   \n",
       "1       2018-10-13 00:00:00+00:00  0.006763  -0.866025  5.000000e-01  50.0   \n",
       "2       2018-09-26 00:00:00+00:00  0.033881  -1.000000 -1.836970e-16  20.0   \n",
       "3       2018-10-13 00:00:00+00:00  0.013559  -0.866025  5.000000e-01  20.0   \n",
       "4       2018-10-09 00:00:00+00:00  0.013542  -0.866025  5.000000e-01  30.0   \n",
       "...                           ...       ...        ...           ...   ...   \n",
       "1356037 2018-09-24 00:00:00+00:00  0.025407  -1.000000 -1.836970e-16  34.0   \n",
       "1356038 2018-10-03 00:00:00+00:00  0.036000  -0.866025  5.000000e-01  58.0   \n",
       "1356039 2018-10-12 00:00:00+00:00  0.027102  -0.866025  5.000000e-01  28.0   \n",
       "1356040 2018-10-17 00:00:00+00:00  0.025407  -0.866025  5.000000e-01  28.0   \n",
       "1356041 2018-10-08 00:00:00+00:00  0.042356  -0.866025  5.000000e-01  58.0   \n",
       "\n",
       "        club_member_status age_group garment_group_name index_group_name  \n",
       "0                   ACTIVE     26-35           Trousers       Ladieswear  \n",
       "1                   ACTIVE     46-55       Jersey Basic       Ladieswear  \n",
       "2                   ACTIVE     19-25           Knitwear       Ladieswear  \n",
       "3                   ACTIVE     19-25           Trousers       Ladieswear  \n",
       "4                   ACTIVE     26-35           Trousers       Ladieswear  \n",
       "...                    ...       ...                ...              ...  \n",
       "1356037             ACTIVE     26-35       Jersey Fancy            Sport  \n",
       "1356038             ACTIVE     56-65           Knitwear       Ladieswear  \n",
       "1356039             ACTIVE     26-35        Accessories       Ladieswear  \n",
       "1356040             ACTIVE     26-35       Jersey Fancy            Sport  \n",
       "1356041             ACTIVE     56-65           Knitwear       Ladieswear  \n",
       "\n",
       "[1356042 rows x 11 columns]>"
      ]
     },
     "execution_count": 51,
     "metadata": {},
     "output_type": "execute_result"
    }
   ],
   "source": [
    "df.info"
   ]
  },
  {
   "cell_type": "code",
   "execution_count": 6,
   "metadata": {},
   "outputs": [
    {
     "name": "stdout",
     "output_type": "stream",
     "text": [
      "Finished: Reading data from Hopsworks, using Hopsworks Feature Query Service (88.27s) \n"
     ]
    }
   ],
   "source": [
    "# feature_view.head(3)\n",
    "df = feature_view.get_batch_data()"
   ]
  },
  {
   "cell_type": "code",
   "execution_count": 18,
   "metadata": {},
   "outputs": [
    {
     "data": {
      "text/html": [
       "<div>\n",
       "<style scoped>\n",
       "    .dataframe tbody tr th:only-of-type {\n",
       "        vertical-align: middle;\n",
       "    }\n",
       "\n",
       "    .dataframe tbody tr th {\n",
       "        vertical-align: top;\n",
       "    }\n",
       "\n",
       "    .dataframe thead th {\n",
       "        text-align: right;\n",
       "    }\n",
       "</style>\n",
       "<table border=\"1\" class=\"dataframe\">\n",
       "  <thead>\n",
       "    <tr style=\"text-align: right;\">\n",
       "      <th></th>\n",
       "      <th>customer_id</th>\n",
       "      <th>article_id</th>\n",
       "      <th>t_dat</th>\n",
       "      <th>price</th>\n",
       "      <th>month_sin</th>\n",
       "      <th>month_cos</th>\n",
       "      <th>age</th>\n",
       "      <th>club_member_status</th>\n",
       "      <th>age_group</th>\n",
       "      <th>garment_group_name</th>\n",
       "      <th>index_group_name</th>\n",
       "    </tr>\n",
       "  </thead>\n",
       "  <tbody>\n",
       "    <tr>\n",
       "      <th>0</th>\n",
       "      <td>041d20ceba3aad6b18dff1b02a60207454c4405cb52e6e...</td>\n",
       "      <td>562245001</td>\n",
       "      <td>2018-09-21 00:00:00+00:00</td>\n",
       "      <td>0.022017</td>\n",
       "      <td>-1.000000</td>\n",
       "      <td>-1.836970e-16</td>\n",
       "      <td>33.0</td>\n",
       "      <td>ACTIVE</td>\n",
       "      <td>26-35</td>\n",
       "      <td>Trousers</td>\n",
       "      <td>Ladieswear</td>\n",
       "    </tr>\n",
       "    <tr>\n",
       "      <th>1</th>\n",
       "      <td>897f4750d3b34dfcbb73f8b4727ba8de7d6587f732e872...</td>\n",
       "      <td>156231001</td>\n",
       "      <td>2018-09-26 00:00:00+00:00</td>\n",
       "      <td>0.005661</td>\n",
       "      <td>-1.000000</td>\n",
       "      <td>-1.836970e-16</td>\n",
       "      <td>24.0</td>\n",
       "      <td>ACTIVE</td>\n",
       "      <td>19-25</td>\n",
       "      <td>Socks and Tights</td>\n",
       "      <td>Ladieswear</td>\n",
       "    </tr>\n",
       "    <tr>\n",
       "      <th>2</th>\n",
       "      <td>ee69a199eaa2869700cf9750bfc2556f30e4f6d7a602ff...</td>\n",
       "      <td>179123001</td>\n",
       "      <td>2018-10-13 00:00:00+00:00</td>\n",
       "      <td>0.006763</td>\n",
       "      <td>-0.866025</td>\n",
       "      <td>5.000000e-01</td>\n",
       "      <td>50.0</td>\n",
       "      <td>ACTIVE</td>\n",
       "      <td>46-55</td>\n",
       "      <td>Jersey Basic</td>\n",
       "      <td>Ladieswear</td>\n",
       "    </tr>\n",
       "    <tr>\n",
       "      <th>3</th>\n",
       "      <td>f298ea95e6d1ba4db1749db4c1af484496094d74f1d15c...</td>\n",
       "      <td>502186011</td>\n",
       "      <td>2018-09-26 00:00:00+00:00</td>\n",
       "      <td>0.033881</td>\n",
       "      <td>-1.000000</td>\n",
       "      <td>-1.836970e-16</td>\n",
       "      <td>20.0</td>\n",
       "      <td>ACTIVE</td>\n",
       "      <td>19-25</td>\n",
       "      <td>Knitwear</td>\n",
       "      <td>Ladieswear</td>\n",
       "    </tr>\n",
       "    <tr>\n",
       "      <th>4</th>\n",
       "      <td>06a475ce6e0a0325f25233aad8bf895579d5a284ff3658...</td>\n",
       "      <td>399256018</td>\n",
       "      <td>2018-10-13 00:00:00+00:00</td>\n",
       "      <td>0.013559</td>\n",
       "      <td>-0.866025</td>\n",
       "      <td>5.000000e-01</td>\n",
       "      <td>20.0</td>\n",
       "      <td>ACTIVE</td>\n",
       "      <td>19-25</td>\n",
       "      <td>Trousers</td>\n",
       "      <td>Ladieswear</td>\n",
       "    </tr>\n",
       "  </tbody>\n",
       "</table>\n",
       "</div>"
      ],
      "text/plain": [
       "                                         customer_id article_id  \\\n",
       "0  041d20ceba3aad6b18dff1b02a60207454c4405cb52e6e...  562245001   \n",
       "1  897f4750d3b34dfcbb73f8b4727ba8de7d6587f732e872...  156231001   \n",
       "2  ee69a199eaa2869700cf9750bfc2556f30e4f6d7a602ff...  179123001   \n",
       "3  f298ea95e6d1ba4db1749db4c1af484496094d74f1d15c...  502186011   \n",
       "4  06a475ce6e0a0325f25233aad8bf895579d5a284ff3658...  399256018   \n",
       "\n",
       "                      t_dat     price  month_sin     month_cos   age  \\\n",
       "0 2018-09-21 00:00:00+00:00  0.022017  -1.000000 -1.836970e-16  33.0   \n",
       "1 2018-09-26 00:00:00+00:00  0.005661  -1.000000 -1.836970e-16  24.0   \n",
       "2 2018-10-13 00:00:00+00:00  0.006763  -0.866025  5.000000e-01  50.0   \n",
       "3 2018-09-26 00:00:00+00:00  0.033881  -1.000000 -1.836970e-16  20.0   \n",
       "4 2018-10-13 00:00:00+00:00  0.013559  -0.866025  5.000000e-01  20.0   \n",
       "\n",
       "  club_member_status age_group garment_group_name index_group_name  \n",
       "0             ACTIVE     26-35           Trousers       Ladieswear  \n",
       "1             ACTIVE     19-25   Socks and Tights       Ladieswear  \n",
       "2             ACTIVE     46-55       Jersey Basic       Ladieswear  \n",
       "3             ACTIVE     19-25           Knitwear       Ladieswear  \n",
       "4             ACTIVE     19-25           Trousers       Ladieswear  "
      ]
     },
     "execution_count": 18,
     "metadata": {},
     "output_type": "execute_result"
    }
   ],
   "source": [
    "df.head()"
   ]
  },
  {
   "cell_type": "code",
   "execution_count": 22,
   "metadata": {},
   "outputs": [
    {
     "name": "stdout",
     "output_type": "stream",
     "text": [
      "customer_id              0\n",
      "article_id               0\n",
      "t_dat                    0\n",
      "price                    0\n",
      "month_sin                0\n",
      "month_cos                0\n",
      "age                   6166\n",
      "club_member_status    6166\n",
      "age_group             6166\n",
      "garment_group_name       0\n",
      "index_group_name         0\n",
      "dtype: int64\n"
     ]
    }
   ],
   "source": [
    "import pandas as pd\n",
    "\n",
    "# Check for missing values\n",
    "print(df.isnull().sum())\n",
    "\n",
    "# # Fill or drop missing values\n",
    "# df = df.fillna(\"Unknown\")  # If categorical\n",
    "# # OR\n",
    "# df = df.dropna()  # If you want to remove missing values\n"
   ]
  },
  {
   "cell_type": "markdown",
   "metadata": {},
   "source": [
    "Create training dataset\n",
    "You will train your retrieval model with a subset of features.\n",
    "\n",
    "For the query embedding you will use:\n",
    "\n",
    "customer_id: ID of the customer.\n",
    "age: age of the customer at the time of purchase.\n",
    "month_sin, month_cos: time of year the purchase was made.\n",
    "For the candidate embedding you will use:\n",
    "\n",
    "article_id: ID of the item.\n",
    "garment_group_name: type of garment.\n",
    "index_group_name: menswear/ladieswear etc."
   ]
  },
  {
   "cell_type": "code",
   "execution_count": 6,
   "metadata": {},
   "outputs": [
    {
     "name": "stdout",
     "output_type": "stream",
     "text": [
      "2025-03-11 09:43:01,352 INFO: Closing external client and cleaning up certificates.\n",
      "Connection closed.\n",
      "2025-03-11 09:43:01,358 INFO: Initializing external client\n",
      "2025-03-11 09:43:01,358 INFO: Base URL: https://c.app.hopsworks.ai:443\n",
      "2025-03-11 09:43:03,787 INFO: Python Engine initialized.\n",
      "\n",
      "Logged in to project, explore it here https://c.app.hopsworks.ai:443/p/1213659\n"
     ]
    }
   ],
   "source": [
    "import hopsworks\n",
    "\n",
    "project_rec_sys = hopsworks.login()\n",
    "\n",
    "fs = project_rec_sys.get_feature_store()"
   ]
  },
  {
   "cell_type": "code",
   "execution_count": 7,
   "metadata": {},
   "outputs": [],
   "source": [
    "# Retrieve an existing feature group\n",
    "customers_fg = fs.get_feature_group(\"customers\", version=1)"
   ]
  },
  {
   "cell_type": "code",
   "execution_count": 5,
   "metadata": {},
   "outputs": [],
   "source": [
    "from recsys.config import settings"
   ]
  },
  {
   "cell_type": "code",
   "execution_count": 9,
   "metadata": {},
   "outputs": [],
   "source": [
    "import requests\n",
    "from requests.adapters import HTTPAdapter\n",
    "from urllib3.util.retry import Retry\n",
    "\n",
    "# Set up session with retries and timeouts\n",
    "session = requests.Session()\n",
    "retries = Retry(total=5, backoff_factor=1, status_forcelist=[502, 503, 504])\n",
    "session.mount('https://', HTTPAdapter(max_retries=retries))\n",
    "session.request = lambda method, url, **kwargs: super(requests.Session, session).request(\n",
    "    method=method, url=url, **kwargs, timeout=60\n",
    ")"
   ]
  },
  {
   "cell_type": "code",
   "execution_count": 10,
   "metadata": {},
   "outputs": [
    {
     "name": "stdout",
     "output_type": "stream",
     "text": [
      "2025-03-11 14:42:44,367 INFO: Closing external client and cleaning up certificates.\n",
      "Connection closed.\n",
      "2025-03-11 14:42:44,417 INFO: Initializing external client\n",
      "2025-03-11 14:42:44,417 INFO: Base URL: https://c.app.hopsworks.ai:443\n",
      "2025-03-11 14:42:46,803 INFO: Python Engine initialized.\n",
      "\n",
      "Logged in to project, explore it here https://c.app.hopsworks.ai:443/p/1213659\n"
     ]
    }
   ],
   "source": [
    "import hopsworks\n",
    "\n",
    "project_rec_sys = hopsworks.login()\n",
    "\n",
    "fs = project_rec_sys.get_feature_store()"
   ]
  },
  {
   "cell_type": "code",
   "execution_count": 11,
   "metadata": {},
   "outputs": [
    {
     "name": "stdout",
     "output_type": "stream",
     "text": [
      "Finished: Reading data from Hopsworks, using Hopsworks Feature Query Service (71.29s) \n"
     ]
    }
   ],
   "source": [
    "df = customers_fg.read()"
   ]
  },
  {
   "cell_type": "code",
   "execution_count": 35,
   "metadata": {},
   "outputs": [
    {
     "data": {
      "text/plain": [
       "<bound method DataFrame.info of                                                customer_id club_member_status  \\\n",
       "0        60e899b2690a105abec352034a53a467b8ed96d9a89979...             ACTIVE   \n",
       "1        31ebdbf868123fc9f0bf86abf59c0e6c731c8493f39e35...             ACTIVE   \n",
       "2        eeff84ec7c3424a535b95921d12f087222cb05fb1ee17d...             ACTIVE   \n",
       "3        546f437479fb0392649af419177edd9438df9b9e9e4a52...             ACTIVE   \n",
       "4        0c310cf583451158e8f2ae158b6d6da47ccba5d49c1f08...             ACTIVE   \n",
       "...                                                    ...                ...   \n",
       "1356114  7ba5d63152ca9d2e5136043f60d786abfba0bd529f1cf8...             ACTIVE   \n",
       "1356115  1fc0abe4eacb4325a9872d87f76dd21eb1a8aa072c911f...             ACTIVE   \n",
       "1356116  48ffc99e4c55bc21e17eed951f63b5090bd66915607513...             ACTIVE   \n",
       "1356117  22854d2218d43316c3378545d675c81ac6622102e8b6f6...             ACTIVE   \n",
       "1356118  e6b3d24b316ff6fc4e4d722e17319b151d6a3c9729745a...             ACTIVE   \n",
       "\n",
       "          age                                        postal_code age_group  \n",
       "0        31.0  6bb39a1786f759b8168f5eabae3392ec5608abd1907283...     26-35  \n",
       "1        23.0  c8f5183177a51a73b123121543f3690988f1d00f360aeb...     19-25  \n",
       "2        35.0  a0a6ea5d048a47e882897b79e0e9b58500a424ab1a8ade...     26-35  \n",
       "3        22.0  b64898091e36a42447fa646e4baf926aa9c9ef17d0753a...     19-25  \n",
       "4        58.0  178c2325558527241ce3178737b80d204fe8374addbbcf...     56-65  \n",
       "...       ...                                                ...       ...  \n",
       "1356114  65.0  240d2b82beb5f0584737f9abfc9e87fbdda0ce853b231a...     56-65  \n",
       "1356115  23.0  7bee5a41107ce82521c31314eb75c1cfdedfa9e1bfa17d...     19-25  \n",
       "1356116  29.0  45887903d85d4a2c992cbd5462d95efca2dbac224db01c...     26-35  \n",
       "1356117  68.0  91a27512705e909f3d8bea7b11b67f4c0630ab8c432e9f...       66+  \n",
       "1356118  21.0  422419dfb20487ba0122424cd72072f7870c9d9b8f2a38...     19-25  \n",
       "\n",
       "[1356119 rows x 5 columns]>"
      ]
     },
     "execution_count": 35,
     "metadata": {},
     "output_type": "execute_result"
    }
   ],
   "source": [
    "df.info"
   ]
  },
  {
   "cell_type": "code",
   "execution_count": 14,
   "metadata": {},
   "outputs": [
    {
     "data": {
      "text/html": [
       "<div>\n",
       "<style scoped>\n",
       "    .dataframe tbody tr th:only-of-type {\n",
       "        vertical-align: middle;\n",
       "    }\n",
       "\n",
       "    .dataframe tbody tr th {\n",
       "        vertical-align: top;\n",
       "    }\n",
       "\n",
       "    .dataframe thead th {\n",
       "        text-align: right;\n",
       "    }\n",
       "</style>\n",
       "<table border=\"1\" class=\"dataframe\">\n",
       "  <thead>\n",
       "    <tr style=\"text-align: right;\">\n",
       "      <th></th>\n",
       "      <th>customer_id</th>\n",
       "      <th>club_member_status</th>\n",
       "      <th>age</th>\n",
       "      <th>postal_code</th>\n",
       "      <th>age_group</th>\n",
       "    </tr>\n",
       "  </thead>\n",
       "  <tbody>\n",
       "    <tr>\n",
       "      <th>0</th>\n",
       "      <td>60e899b2690a105abec352034a53a467b8ed96d9a89979...</td>\n",
       "      <td>ACTIVE</td>\n",
       "      <td>31.0</td>\n",
       "      <td>6bb39a1786f759b8168f5eabae3392ec5608abd1907283...</td>\n",
       "      <td>26-35</td>\n",
       "    </tr>\n",
       "    <tr>\n",
       "      <th>1</th>\n",
       "      <td>31ebdbf868123fc9f0bf86abf59c0e6c731c8493f39e35...</td>\n",
       "      <td>ACTIVE</td>\n",
       "      <td>23.0</td>\n",
       "      <td>c8f5183177a51a73b123121543f3690988f1d00f360aeb...</td>\n",
       "      <td>19-25</td>\n",
       "    </tr>\n",
       "    <tr>\n",
       "      <th>2</th>\n",
       "      <td>eeff84ec7c3424a535b95921d12f087222cb05fb1ee17d...</td>\n",
       "      <td>ACTIVE</td>\n",
       "      <td>35.0</td>\n",
       "      <td>a0a6ea5d048a47e882897b79e0e9b58500a424ab1a8ade...</td>\n",
       "      <td>26-35</td>\n",
       "    </tr>\n",
       "  </tbody>\n",
       "</table>\n",
       "</div>"
      ],
      "text/plain": [
       "                                         customer_id club_member_status   age  \\\n",
       "0  60e899b2690a105abec352034a53a467b8ed96d9a89979...             ACTIVE  31.0   \n",
       "1  31ebdbf868123fc9f0bf86abf59c0e6c731c8493f39e35...             ACTIVE  23.0   \n",
       "2  eeff84ec7c3424a535b95921d12f087222cb05fb1ee17d...             ACTIVE  35.0   \n",
       "\n",
       "                                         postal_code age_group  \n",
       "0  6bb39a1786f759b8168f5eabae3392ec5608abd1907283...     26-35  \n",
       "1  c8f5183177a51a73b123121543f3690988f1d00f360aeb...     19-25  \n",
       "2  a0a6ea5d048a47e882897b79e0e9b58500a424ab1a8ade...     26-35  "
      ]
     },
     "execution_count": 14,
     "metadata": {},
     "output_type": "execute_result"
    }
   ],
   "source": [
    "df.head(3)"
   ]
  },
  {
   "cell_type": "code",
   "execution_count": 17,
   "metadata": {},
   "outputs": [
    {
     "name": "stdout",
     "output_type": "stream",
     "text": [
      "customer_id           0\n",
      "club_member_status    0\n",
      "age                   0\n",
      "postal_code           0\n",
      "age_group             0\n",
      "dtype: int64\n"
     ]
    }
   ],
   "source": [
    "# df.null_count()\n",
    "print(df.isnull().sum())"
   ]
  },
  {
   "cell_type": "code",
   "execution_count": 18,
   "metadata": {},
   "outputs": [],
   "source": [
    "articles_fg = fs.get_feature_group(\"articles\", version=1)"
   ]
  },
  {
   "cell_type": "code",
   "execution_count": 20,
   "metadata": {},
   "outputs": [
    {
     "name": "stdout",
     "output_type": "stream",
     "text": [
      "Finished: Reading data from Hopsworks, using Hopsworks Feature Query Service (129.07s) \n"
     ]
    }
   ],
   "source": [
    "article_df = articles_fg.read()"
   ]
  },
  {
   "cell_type": "code",
   "execution_count": 34,
   "metadata": {},
   "outputs": [
    {
     "data": {
      "text/plain": [
       "<bound method DataFrame.info of        article_id  product_code                    prod_name  product_type_no  \\\n",
       "0       879248004        879248                     Glamping              274   \n",
       "1       501619020        501619  Victory regular voile shirt              259   \n",
       "2       642895007        642895           Shorts H.W Stretch              274   \n",
       "3       744287001        744287              TD Flint stripe              259   \n",
       "4       530729007        530729               Sophia Slipper              302   \n",
       "...           ...           ...                          ...              ...   \n",
       "105537  857267002        857267                 Linda Blouse              258   \n",
       "105538  653290005        653290             RAVEN pocket tee              255   \n",
       "105539  875014001        875014                  River Cargo              272   \n",
       "105540  640134004        640134          La Paz Cardigan (1)              245   \n",
       "105541  568601018        568601                     Mariette              264   \n",
       "\n",
       "       product_type_name  product_group_name  graphical_appearance_no  \\\n",
       "0                 Shorts  Garment Lower body                  1010016   \n",
       "1                  Shirt  Garment Upper body                  1010001   \n",
       "2                 Shorts  Garment Lower body                  1010023   \n",
       "3                  Shirt  Garment Upper body                  1010001   \n",
       "4                  Socks      Socks & Tights                  1010016   \n",
       "...                  ...                 ...                      ...   \n",
       "105537            Blouse  Garment Upper body                  1010001   \n",
       "105538           T-shirt  Garment Upper body                  1010016   \n",
       "105539          Trousers  Garment Lower body                  1010016   \n",
       "105540          Cardigan  Garment Upper body                  1010016   \n",
       "105541            Blazer  Garment Upper body                  1010006   \n",
       "\n",
       "       graphical_appearance_name  colour_group_code colour_group_name  ...  \\\n",
       "0                          Solid                 51        Light Pink  ...   \n",
       "1               All over pattern                  8         Dark Grey  ...   \n",
       "2                          Denim                 73         Dark Blue  ...   \n",
       "3               All over pattern                 73         Dark Blue  ...   \n",
       "4                          Solid                  7              Grey  ...   \n",
       "...                          ...                ...               ...  ...   \n",
       "105537          All over pattern                 21      Light Yellow  ...   \n",
       "105538                     Solid                 10             White  ...   \n",
       "105539                     Solid                 19    Greenish Khaki  ...   \n",
       "105540                     Solid                 22            Yellow  ...   \n",
       "105541                       Dot                 73         Dark Blue  ...   \n",
       "\n",
       "        index_group_no index_group_name  section_no  \\\n",
       "0                    1       Ladieswear          16   \n",
       "1                    3         Menswear          20   \n",
       "2                    2          Divided          57   \n",
       "3                    3         Menswear          23   \n",
       "4                    1       Ladieswear          62   \n",
       "...                ...              ...         ...   \n",
       "105537               1       Ladieswear          11   \n",
       "105538               3         Menswear          23   \n",
       "105539               4    Baby/Children          46   \n",
       "105540               2          Divided          53   \n",
       "105541               1       Ladieswear          11   \n",
       "\n",
       "                          section_name  garment_group_no garment_group_name  \\\n",
       "0               Womens Everyday Basics              1002       Jersey Basic   \n",
       "1                   Contemporary Smart              1011             Shirts   \n",
       "2                         Ladies Denim              1016     Trousers Denim   \n",
       "3                Men Suits & Tailoring              1011             Shirts   \n",
       "4       Womens Nightwear, Socks & Tigh              1021   Socks and Tights   \n",
       "...                                ...               ...                ...   \n",
       "105537                Womens Tailoring              1010            Blouses   \n",
       "105538           Men Suits & Tailoring              1003           Knitwear   \n",
       "105539                        Kids Boy              1009           Trousers   \n",
       "105540              Divided Collection              1003           Knitwear   \n",
       "105541                Womens Tailoring              1008            Dressed   \n",
       "\n",
       "       prod_name_length                                article_description  \\\n",
       "0                     8  Glamping - Shorts in Garment Lower body\\nAppea...   \n",
       "1                    27  Victory regular voile shirt - Shirt in Garment...   \n",
       "2                    18  Shorts H.W Stretch - Shorts in Garment Lower b...   \n",
       "3                    15  TD Flint stripe - Shirt in Garment Upper body\\...   \n",
       "4                    14  Sophia Slipper - Socks in Socks & Tights\\nAppe...   \n",
       "...                 ...                                                ...   \n",
       "105537               12  Linda Blouse - Blouse in Garment Upper body\\nA...   \n",
       "105538               16  RAVEN pocket tee - T-shirt in Garment Upper bo...   \n",
       "105539               11  River Cargo - Trousers in Garment Lower body\\n...   \n",
       "105540               19  La Paz Cardigan (1) - Cardigan in Garment Uppe...   \n",
       "105541                8  Mariette - Blazer in Garment Upper body\\nAppea...   \n",
       "\n",
       "                                               embeddings          image_url  \n",
       "0       [0.0036141646560281515, 0.09988906979560852, 0...  87/0879248004.jpg  \n",
       "1       [-0.01638726145029068, 0.12015945464372635, -0...  50/0501619020.jpg  \n",
       "2       [-0.010319815017282963, 0.09397119283676147, 0...  64/0642895007.jpg  \n",
       "3       [-0.10063223540782928, 0.0314287431538105, -0....  74/0744287001.jpg  \n",
       "4       [-0.09072019159793854, -0.08081255853176117, 0...  53/0530729007.jpg  \n",
       "...                                                   ...                ...  \n",
       "105537  [-0.06379467248916626, 0.012418734841048717, 0...  85/0857267002.jpg  \n",
       "105538  [0.03009556233882904, 0.07204911857843399, -0....  65/0653290005.jpg  \n",
       "105539  [-0.030998267233371735, 0.09713643789291382, -...  87/0875014001.jpg  \n",
       "105540  [0.02055180072784424, 0.016631947830319405, -0...  64/0640134004.jpg  \n",
       "105541  [-0.09073010087013245, 0.04449416697025299, 0....  56/0568601018.jpg  \n",
       "\n",
       "[105542 rows x 28 columns]>"
      ]
     },
     "execution_count": 34,
     "metadata": {},
     "output_type": "execute_result"
    }
   ],
   "source": [
    "article_df.info"
   ]
  },
  {
   "cell_type": "code",
   "execution_count": 21,
   "metadata": {},
   "outputs": [
    {
     "data": {
      "text/html": [
       "<div>\n",
       "<style scoped>\n",
       "    .dataframe tbody tr th:only-of-type {\n",
       "        vertical-align: middle;\n",
       "    }\n",
       "\n",
       "    .dataframe tbody tr th {\n",
       "        vertical-align: top;\n",
       "    }\n",
       "\n",
       "    .dataframe thead th {\n",
       "        text-align: right;\n",
       "    }\n",
       "</style>\n",
       "<table border=\"1\" class=\"dataframe\">\n",
       "  <thead>\n",
       "    <tr style=\"text-align: right;\">\n",
       "      <th></th>\n",
       "      <th>article_id</th>\n",
       "      <th>product_code</th>\n",
       "      <th>prod_name</th>\n",
       "      <th>product_type_no</th>\n",
       "      <th>product_type_name</th>\n",
       "      <th>product_group_name</th>\n",
       "      <th>graphical_appearance_no</th>\n",
       "      <th>graphical_appearance_name</th>\n",
       "      <th>colour_group_code</th>\n",
       "      <th>colour_group_name</th>\n",
       "      <th>...</th>\n",
       "      <th>index_group_no</th>\n",
       "      <th>index_group_name</th>\n",
       "      <th>section_no</th>\n",
       "      <th>section_name</th>\n",
       "      <th>garment_group_no</th>\n",
       "      <th>garment_group_name</th>\n",
       "      <th>prod_name_length</th>\n",
       "      <th>article_description</th>\n",
       "      <th>embeddings</th>\n",
       "      <th>image_url</th>\n",
       "    </tr>\n",
       "  </thead>\n",
       "  <tbody>\n",
       "    <tr>\n",
       "      <th>0</th>\n",
       "      <td>879248004</td>\n",
       "      <td>879248</td>\n",
       "      <td>Glamping</td>\n",
       "      <td>274</td>\n",
       "      <td>Shorts</td>\n",
       "      <td>Garment Lower body</td>\n",
       "      <td>1010016</td>\n",
       "      <td>Solid</td>\n",
       "      <td>51</td>\n",
       "      <td>Light Pink</td>\n",
       "      <td>...</td>\n",
       "      <td>1</td>\n",
       "      <td>Ladieswear</td>\n",
       "      <td>16</td>\n",
       "      <td>Womens Everyday Basics</td>\n",
       "      <td>1002</td>\n",
       "      <td>Jersey Basic</td>\n",
       "      <td>8</td>\n",
       "      <td>Glamping - Shorts in Garment Lower body\\nAppea...</td>\n",
       "      <td>[0.0036141646560281515, 0.09988906979560852, 0...</td>\n",
       "      <td>87/0879248004.jpg</td>\n",
       "    </tr>\n",
       "    <tr>\n",
       "      <th>1</th>\n",
       "      <td>501619020</td>\n",
       "      <td>501619</td>\n",
       "      <td>Victory regular voile shirt</td>\n",
       "      <td>259</td>\n",
       "      <td>Shirt</td>\n",
       "      <td>Garment Upper body</td>\n",
       "      <td>1010001</td>\n",
       "      <td>All over pattern</td>\n",
       "      <td>8</td>\n",
       "      <td>Dark Grey</td>\n",
       "      <td>...</td>\n",
       "      <td>3</td>\n",
       "      <td>Menswear</td>\n",
       "      <td>20</td>\n",
       "      <td>Contemporary Smart</td>\n",
       "      <td>1011</td>\n",
       "      <td>Shirts</td>\n",
       "      <td>27</td>\n",
       "      <td>Victory regular voile shirt - Shirt in Garment...</td>\n",
       "      <td>[-0.01638726145029068, 0.12015945464372635, -0...</td>\n",
       "      <td>50/0501619020.jpg</td>\n",
       "    </tr>\n",
       "    <tr>\n",
       "      <th>2</th>\n",
       "      <td>642895007</td>\n",
       "      <td>642895</td>\n",
       "      <td>Shorts H.W Stretch</td>\n",
       "      <td>274</td>\n",
       "      <td>Shorts</td>\n",
       "      <td>Garment Lower body</td>\n",
       "      <td>1010023</td>\n",
       "      <td>Denim</td>\n",
       "      <td>73</td>\n",
       "      <td>Dark Blue</td>\n",
       "      <td>...</td>\n",
       "      <td>2</td>\n",
       "      <td>Divided</td>\n",
       "      <td>57</td>\n",
       "      <td>Ladies Denim</td>\n",
       "      <td>1016</td>\n",
       "      <td>Trousers Denim</td>\n",
       "      <td>18</td>\n",
       "      <td>Shorts H.W Stretch - Shorts in Garment Lower b...</td>\n",
       "      <td>[-0.010319815017282963, 0.09397119283676147, 0...</td>\n",
       "      <td>64/0642895007.jpg</td>\n",
       "    </tr>\n",
       "    <tr>\n",
       "      <th>3</th>\n",
       "      <td>744287001</td>\n",
       "      <td>744287</td>\n",
       "      <td>TD Flint stripe</td>\n",
       "      <td>259</td>\n",
       "      <td>Shirt</td>\n",
       "      <td>Garment Upper body</td>\n",
       "      <td>1010001</td>\n",
       "      <td>All over pattern</td>\n",
       "      <td>73</td>\n",
       "      <td>Dark Blue</td>\n",
       "      <td>...</td>\n",
       "      <td>3</td>\n",
       "      <td>Menswear</td>\n",
       "      <td>23</td>\n",
       "      <td>Men Suits &amp; Tailoring</td>\n",
       "      <td>1011</td>\n",
       "      <td>Shirts</td>\n",
       "      <td>15</td>\n",
       "      <td>TD Flint stripe - Shirt in Garment Upper body\\...</td>\n",
       "      <td>[-0.10063223540782928, 0.0314287431538105, -0....</td>\n",
       "      <td>74/0744287001.jpg</td>\n",
       "    </tr>\n",
       "    <tr>\n",
       "      <th>4</th>\n",
       "      <td>530729007</td>\n",
       "      <td>530729</td>\n",
       "      <td>Sophia Slipper</td>\n",
       "      <td>302</td>\n",
       "      <td>Socks</td>\n",
       "      <td>Socks &amp; Tights</td>\n",
       "      <td>1010016</td>\n",
       "      <td>Solid</td>\n",
       "      <td>7</td>\n",
       "      <td>Grey</td>\n",
       "      <td>...</td>\n",
       "      <td>1</td>\n",
       "      <td>Ladieswear</td>\n",
       "      <td>62</td>\n",
       "      <td>Womens Nightwear, Socks &amp; Tigh</td>\n",
       "      <td>1021</td>\n",
       "      <td>Socks and Tights</td>\n",
       "      <td>14</td>\n",
       "      <td>Sophia Slipper - Socks in Socks &amp; Tights\\nAppe...</td>\n",
       "      <td>[-0.09072019159793854, -0.08081255853176117, 0...</td>\n",
       "      <td>53/0530729007.jpg</td>\n",
       "    </tr>\n",
       "  </tbody>\n",
       "</table>\n",
       "<p>5 rows × 28 columns</p>\n",
       "</div>"
      ],
      "text/plain": [
       "  article_id  product_code                    prod_name  product_type_no  \\\n",
       "0  879248004        879248                     Glamping              274   \n",
       "1  501619020        501619  Victory regular voile shirt              259   \n",
       "2  642895007        642895           Shorts H.W Stretch              274   \n",
       "3  744287001        744287              TD Flint stripe              259   \n",
       "4  530729007        530729               Sophia Slipper              302   \n",
       "\n",
       "  product_type_name  product_group_name  graphical_appearance_no  \\\n",
       "0            Shorts  Garment Lower body                  1010016   \n",
       "1             Shirt  Garment Upper body                  1010001   \n",
       "2            Shorts  Garment Lower body                  1010023   \n",
       "3             Shirt  Garment Upper body                  1010001   \n",
       "4             Socks      Socks & Tights                  1010016   \n",
       "\n",
       "  graphical_appearance_name  colour_group_code colour_group_name  ...  \\\n",
       "0                     Solid                 51        Light Pink  ...   \n",
       "1          All over pattern                  8         Dark Grey  ...   \n",
       "2                     Denim                 73         Dark Blue  ...   \n",
       "3          All over pattern                 73         Dark Blue  ...   \n",
       "4                     Solid                  7              Grey  ...   \n",
       "\n",
       "   index_group_no index_group_name  section_no  \\\n",
       "0               1       Ladieswear          16   \n",
       "1               3         Menswear          20   \n",
       "2               2          Divided          57   \n",
       "3               3         Menswear          23   \n",
       "4               1       Ladieswear          62   \n",
       "\n",
       "                     section_name  garment_group_no garment_group_name  \\\n",
       "0          Womens Everyday Basics              1002       Jersey Basic   \n",
       "1              Contemporary Smart              1011             Shirts   \n",
       "2                    Ladies Denim              1016     Trousers Denim   \n",
       "3           Men Suits & Tailoring              1011             Shirts   \n",
       "4  Womens Nightwear, Socks & Tigh              1021   Socks and Tights   \n",
       "\n",
       "  prod_name_length                                article_description  \\\n",
       "0                8  Glamping - Shorts in Garment Lower body\\nAppea...   \n",
       "1               27  Victory regular voile shirt - Shirt in Garment...   \n",
       "2               18  Shorts H.W Stretch - Shorts in Garment Lower b...   \n",
       "3               15  TD Flint stripe - Shirt in Garment Upper body\\...   \n",
       "4               14  Sophia Slipper - Socks in Socks & Tights\\nAppe...   \n",
       "\n",
       "                                          embeddings          image_url  \n",
       "0  [0.0036141646560281515, 0.09988906979560852, 0...  87/0879248004.jpg  \n",
       "1  [-0.01638726145029068, 0.12015945464372635, -0...  50/0501619020.jpg  \n",
       "2  [-0.010319815017282963, 0.09397119283676147, 0...  64/0642895007.jpg  \n",
       "3  [-0.10063223540782928, 0.0314287431538105, -0....  74/0744287001.jpg  \n",
       "4  [-0.09072019159793854, -0.08081255853176117, 0...  53/0530729007.jpg  \n",
       "\n",
       "[5 rows x 28 columns]"
      ]
     },
     "execution_count": 21,
     "metadata": {},
     "output_type": "execute_result"
    }
   ],
   "source": [
    "article_df.head()"
   ]
  },
  {
   "cell_type": "code",
   "execution_count": 22,
   "metadata": {},
   "outputs": [
    {
     "name": "stdout",
     "output_type": "stream",
     "text": [
      "article_id                      0\n",
      "product_code                    0\n",
      "prod_name                       0\n",
      "product_type_no                 0\n",
      "product_type_name               0\n",
      "product_group_name              0\n",
      "graphical_appearance_no         0\n",
      "graphical_appearance_name       0\n",
      "colour_group_code               0\n",
      "colour_group_name               0\n",
      "perceived_colour_value_id       0\n",
      "perceived_colour_value_name     0\n",
      "perceived_colour_master_id      0\n",
      "perceived_colour_master_name    0\n",
      "department_no                   0\n",
      "department_name                 0\n",
      "index_code                      0\n",
      "index_name                      0\n",
      "index_group_no                  0\n",
      "index_group_name                0\n",
      "section_no                      0\n",
      "section_name                    0\n",
      "garment_group_no                0\n",
      "garment_group_name              0\n",
      "prod_name_length                0\n",
      "article_description             0\n",
      "embeddings                      0\n",
      "image_url                       0\n",
      "dtype: int64\n"
     ]
    }
   ],
   "source": [
    "print(article_df.isnull().sum())"
   ]
  },
  {
   "cell_type": "code",
   "execution_count": 24,
   "metadata": {},
   "outputs": [],
   "source": [
    "transactions_fg = fs.get_feature_group(\"transactions\", version=1)"
   ]
  },
  {
   "cell_type": "code",
   "execution_count": 25,
   "metadata": {},
   "outputs": [
    {
     "name": "stdout",
     "output_type": "stream",
     "text": [
      "Finished: Reading data from Hopsworks, using Hopsworks Feature Query Service (61.17s) \n"
     ]
    }
   ],
   "source": [
    "transactions_df = transactions_fg.read()"
   ]
  },
  {
   "cell_type": "code",
   "execution_count": 33,
   "metadata": {},
   "outputs": [
    {
     "data": {
      "text/plain": [
       "<bound method DataFrame.info of                             t_dat  \\\n",
       "0       2018-10-21 00:00:00+00:00   \n",
       "1       2018-09-28 00:00:00+00:00   \n",
       "2       2018-10-09 00:00:00+00:00   \n",
       "3       2018-09-29 00:00:00+00:00   \n",
       "4       2018-10-08 00:00:00+00:00   \n",
       "...                           ...   \n",
       "1356037 2018-10-15 00:00:00+00:00   \n",
       "1356038 2018-10-10 00:00:00+00:00   \n",
       "1356039 2018-10-17 00:00:00+00:00   \n",
       "1356040 2018-09-25 00:00:00+00:00   \n",
       "1356041 2018-10-03 00:00:00+00:00   \n",
       "\n",
       "                                               customer_id article_id  \\\n",
       "0        325b63f3afd49ad98305e8ca136f56d156a9782d953195...  640727001   \n",
       "1        5d3190aa6e12099cc77ec23b6817a9a33476b56bf963dc...  675657002   \n",
       "2        139711369b0211ce8ee7be62fa1f242b3d7c551963e37a...  633130002   \n",
       "3        d720bbc24bcf9cfa2841fd6c94ba6e82bc705540161178...  688873012   \n",
       "4        e152a460da5b376e64f36f3e2ea4dde14f637d9e53c938...  637549002   \n",
       "...                                                    ...        ...   \n",
       "1356037  f1b65e623b5efd625b2e65eed8901fe6b0f9668aecd93a...  608656006   \n",
       "1356038  fdfe976dd4258eb81a38f89fb75e27fcf10b21396153e8...  648627003   \n",
       "1356039  715a2fe2ab6d6b3d0ecf99d6a3d1e13fd4170b0d720f64...  305775024   \n",
       "1356040  8f45bdb85ec078886133f2fe85a612b135b4e8fecf7feb...  622967001   \n",
       "1356041  5e3ef6980e286a473e8421be55c090a40fb07f9929f6aa...  582642002   \n",
       "\n",
       "            price  sales_channel_id  year  month  day  day_of_week  month_sin  \\\n",
       "0        0.050831                 2  2018     10   21            7  -0.866025   \n",
       "1        0.042356                 1  2018      9   28            5  -1.000000   \n",
       "2        0.016932                 2  2018     10    9            2  -0.866025   \n",
       "3        0.027102                 1  2018      9   29            6  -1.000000   \n",
       "4        0.033881                 1  2018     10    8            1  -0.866025   \n",
       "...           ...               ...   ...    ...  ...          ...        ...   \n",
       "1356037  0.052525                 2  2018     10   15            1  -0.866025   \n",
       "1356038  0.013542                 1  2018     10   10            3  -0.866025   \n",
       "1356039  0.005068                 2  2018     10   17            3  -0.866025   \n",
       "1356040  0.016932                 2  2018      9   25            2  -1.000000   \n",
       "1356041  0.033881                 2  2018     10    3            3  -0.866025   \n",
       "\n",
       "            month_cos  \n",
       "0        5.000000e-01  \n",
       "1       -1.836970e-16  \n",
       "2        5.000000e-01  \n",
       "3       -1.836970e-16  \n",
       "4        5.000000e-01  \n",
       "...               ...  \n",
       "1356037  5.000000e-01  \n",
       "1356038  5.000000e-01  \n",
       "1356039  5.000000e-01  \n",
       "1356040 -1.836970e-16  \n",
       "1356041  5.000000e-01  \n",
       "\n",
       "[1356042 rows x 11 columns]>"
      ]
     },
     "execution_count": 33,
     "metadata": {},
     "output_type": "execute_result"
    }
   ],
   "source": [
    "transactions_df.info"
   ]
  },
  {
   "cell_type": "code",
   "execution_count": 26,
   "metadata": {},
   "outputs": [
    {
     "data": {
      "text/html": [
       "<div>\n",
       "<style scoped>\n",
       "    .dataframe tbody tr th:only-of-type {\n",
       "        vertical-align: middle;\n",
       "    }\n",
       "\n",
       "    .dataframe tbody tr th {\n",
       "        vertical-align: top;\n",
       "    }\n",
       "\n",
       "    .dataframe thead th {\n",
       "        text-align: right;\n",
       "    }\n",
       "</style>\n",
       "<table border=\"1\" class=\"dataframe\">\n",
       "  <thead>\n",
       "    <tr style=\"text-align: right;\">\n",
       "      <th></th>\n",
       "      <th>t_dat</th>\n",
       "      <th>customer_id</th>\n",
       "      <th>article_id</th>\n",
       "      <th>price</th>\n",
       "      <th>sales_channel_id</th>\n",
       "      <th>year</th>\n",
       "      <th>month</th>\n",
       "      <th>day</th>\n",
       "      <th>day_of_week</th>\n",
       "      <th>month_sin</th>\n",
       "      <th>month_cos</th>\n",
       "    </tr>\n",
       "  </thead>\n",
       "  <tbody>\n",
       "    <tr>\n",
       "      <th>0</th>\n",
       "      <td>2018-10-21 00:00:00+00:00</td>\n",
       "      <td>325b63f3afd49ad98305e8ca136f56d156a9782d953195...</td>\n",
       "      <td>640727001</td>\n",
       "      <td>0.050831</td>\n",
       "      <td>2</td>\n",
       "      <td>2018</td>\n",
       "      <td>10</td>\n",
       "      <td>21</td>\n",
       "      <td>7</td>\n",
       "      <td>-0.866025</td>\n",
       "      <td>5.000000e-01</td>\n",
       "    </tr>\n",
       "    <tr>\n",
       "      <th>1</th>\n",
       "      <td>2018-09-28 00:00:00+00:00</td>\n",
       "      <td>5d3190aa6e12099cc77ec23b6817a9a33476b56bf963dc...</td>\n",
       "      <td>675657002</td>\n",
       "      <td>0.042356</td>\n",
       "      <td>1</td>\n",
       "      <td>2018</td>\n",
       "      <td>9</td>\n",
       "      <td>28</td>\n",
       "      <td>5</td>\n",
       "      <td>-1.000000</td>\n",
       "      <td>-1.836970e-16</td>\n",
       "    </tr>\n",
       "    <tr>\n",
       "      <th>2</th>\n",
       "      <td>2018-10-09 00:00:00+00:00</td>\n",
       "      <td>139711369b0211ce8ee7be62fa1f242b3d7c551963e37a...</td>\n",
       "      <td>633130002</td>\n",
       "      <td>0.016932</td>\n",
       "      <td>2</td>\n",
       "      <td>2018</td>\n",
       "      <td>10</td>\n",
       "      <td>9</td>\n",
       "      <td>2</td>\n",
       "      <td>-0.866025</td>\n",
       "      <td>5.000000e-01</td>\n",
       "    </tr>\n",
       "  </tbody>\n",
       "</table>\n",
       "</div>"
      ],
      "text/plain": [
       "                      t_dat  \\\n",
       "0 2018-10-21 00:00:00+00:00   \n",
       "1 2018-09-28 00:00:00+00:00   \n",
       "2 2018-10-09 00:00:00+00:00   \n",
       "\n",
       "                                         customer_id article_id     price  \\\n",
       "0  325b63f3afd49ad98305e8ca136f56d156a9782d953195...  640727001  0.050831   \n",
       "1  5d3190aa6e12099cc77ec23b6817a9a33476b56bf963dc...  675657002  0.042356   \n",
       "2  139711369b0211ce8ee7be62fa1f242b3d7c551963e37a...  633130002  0.016932   \n",
       "\n",
       "   sales_channel_id  year  month  day  day_of_week  month_sin     month_cos  \n",
       "0                 2  2018     10   21            7  -0.866025  5.000000e-01  \n",
       "1                 1  2018      9   28            5  -1.000000 -1.836970e-16  \n",
       "2                 2  2018     10    9            2  -0.866025  5.000000e-01  "
      ]
     },
     "execution_count": 26,
     "metadata": {},
     "output_type": "execute_result"
    }
   ],
   "source": [
    "transactions_df.head(3)"
   ]
  },
  {
   "cell_type": "code",
   "execution_count": 27,
   "metadata": {},
   "outputs": [
    {
     "name": "stdout",
     "output_type": "stream",
     "text": [
      "t_dat               0\n",
      "customer_id         0\n",
      "article_id          0\n",
      "price               0\n",
      "sales_channel_id    0\n",
      "year                0\n",
      "month               0\n",
      "day                 0\n",
      "day_of_week         0\n",
      "month_sin           0\n",
      "month_cos           0\n",
      "dtype: int64\n"
     ]
    }
   ],
   "source": [
    "print(transactions_df.isnull().sum())"
   ]
  },
  {
   "cell_type": "code",
   "execution_count": 29,
   "metadata": {},
   "outputs": [],
   "source": [
    "feature_view = hopsworks_integration.feature_store.create_retrieval_feature_view(fs)"
   ]
  },
  {
   "cell_type": "code",
   "execution_count": null,
   "metadata": {},
   "outputs": [],
   "source": [
    "feature_view_df = feature_view.get_batch_data()"
   ]
  },
  {
   "cell_type": "code",
   "execution_count": 40,
   "metadata": {},
   "outputs": [
    {
     "data": {
      "text/html": [
       "<div>\n",
       "<style scoped>\n",
       "    .dataframe tbody tr th:only-of-type {\n",
       "        vertical-align: middle;\n",
       "    }\n",
       "\n",
       "    .dataframe tbody tr th {\n",
       "        vertical-align: top;\n",
       "    }\n",
       "\n",
       "    .dataframe thead th {\n",
       "        text-align: right;\n",
       "    }\n",
       "</style>\n",
       "<table border=\"1\" class=\"dataframe\">\n",
       "  <thead>\n",
       "    <tr style=\"text-align: right;\">\n",
       "      <th></th>\n",
       "      <th>customer_id</th>\n",
       "      <th>article_id</th>\n",
       "      <th>t_dat</th>\n",
       "      <th>price</th>\n",
       "      <th>month_sin</th>\n",
       "      <th>month_cos</th>\n",
       "      <th>age</th>\n",
       "      <th>club_member_status</th>\n",
       "      <th>age_group</th>\n",
       "      <th>garment_group_name</th>\n",
       "      <th>index_group_name</th>\n",
       "    </tr>\n",
       "  </thead>\n",
       "  <tbody>\n",
       "    <tr>\n",
       "      <th>0</th>\n",
       "      <td>041d20ceba3aad6b18dff1b02a60207454c4405cb52e6e...</td>\n",
       "      <td>562245001</td>\n",
       "      <td>2018-09-21 00:00:00+00:00</td>\n",
       "      <td>0.022017</td>\n",
       "      <td>-1.000000</td>\n",
       "      <td>-1.836970e-16</td>\n",
       "      <td>33.0</td>\n",
       "      <td>ACTIVE</td>\n",
       "      <td>26-35</td>\n",
       "      <td>Trousers</td>\n",
       "      <td>Ladieswear</td>\n",
       "    </tr>\n",
       "    <tr>\n",
       "      <th>1</th>\n",
       "      <td>897f4750d3b34dfcbb73f8b4727ba8de7d6587f732e872...</td>\n",
       "      <td>156231001</td>\n",
       "      <td>2018-09-26 00:00:00+00:00</td>\n",
       "      <td>0.005661</td>\n",
       "      <td>-1.000000</td>\n",
       "      <td>-1.836970e-16</td>\n",
       "      <td>24.0</td>\n",
       "      <td>ACTIVE</td>\n",
       "      <td>19-25</td>\n",
       "      <td>Socks and Tights</td>\n",
       "      <td>Ladieswear</td>\n",
       "    </tr>\n",
       "    <tr>\n",
       "      <th>2</th>\n",
       "      <td>ee69a199eaa2869700cf9750bfc2556f30e4f6d7a602ff...</td>\n",
       "      <td>179123001</td>\n",
       "      <td>2018-10-13 00:00:00+00:00</td>\n",
       "      <td>0.006763</td>\n",
       "      <td>-0.866025</td>\n",
       "      <td>5.000000e-01</td>\n",
       "      <td>50.0</td>\n",
       "      <td>ACTIVE</td>\n",
       "      <td>46-55</td>\n",
       "      <td>Jersey Basic</td>\n",
       "      <td>Ladieswear</td>\n",
       "    </tr>\n",
       "    <tr>\n",
       "      <th>3</th>\n",
       "      <td>f298ea95e6d1ba4db1749db4c1af484496094d74f1d15c...</td>\n",
       "      <td>502186011</td>\n",
       "      <td>2018-09-26 00:00:00+00:00</td>\n",
       "      <td>0.033881</td>\n",
       "      <td>-1.000000</td>\n",
       "      <td>-1.836970e-16</td>\n",
       "      <td>20.0</td>\n",
       "      <td>ACTIVE</td>\n",
       "      <td>19-25</td>\n",
       "      <td>Knitwear</td>\n",
       "      <td>Ladieswear</td>\n",
       "    </tr>\n",
       "    <tr>\n",
       "      <th>4</th>\n",
       "      <td>06a475ce6e0a0325f25233aad8bf895579d5a284ff3658...</td>\n",
       "      <td>399256018</td>\n",
       "      <td>2018-10-13 00:00:00+00:00</td>\n",
       "      <td>0.013559</td>\n",
       "      <td>-0.866025</td>\n",
       "      <td>5.000000e-01</td>\n",
       "      <td>20.0</td>\n",
       "      <td>ACTIVE</td>\n",
       "      <td>19-25</td>\n",
       "      <td>Trousers</td>\n",
       "      <td>Ladieswear</td>\n",
       "    </tr>\n",
       "  </tbody>\n",
       "</table>\n",
       "</div>"
      ],
      "text/plain": [
       "                                         customer_id article_id  \\\n",
       "0  041d20ceba3aad6b18dff1b02a60207454c4405cb52e6e...  562245001   \n",
       "1  897f4750d3b34dfcbb73f8b4727ba8de7d6587f732e872...  156231001   \n",
       "2  ee69a199eaa2869700cf9750bfc2556f30e4f6d7a602ff...  179123001   \n",
       "3  f298ea95e6d1ba4db1749db4c1af484496094d74f1d15c...  502186011   \n",
       "4  06a475ce6e0a0325f25233aad8bf895579d5a284ff3658...  399256018   \n",
       "\n",
       "                      t_dat     price  month_sin     month_cos   age  \\\n",
       "0 2018-09-21 00:00:00+00:00  0.022017  -1.000000 -1.836970e-16  33.0   \n",
       "1 2018-09-26 00:00:00+00:00  0.005661  -1.000000 -1.836970e-16  24.0   \n",
       "2 2018-10-13 00:00:00+00:00  0.006763  -0.866025  5.000000e-01  50.0   \n",
       "3 2018-09-26 00:00:00+00:00  0.033881  -1.000000 -1.836970e-16  20.0   \n",
       "4 2018-10-13 00:00:00+00:00  0.013559  -0.866025  5.000000e-01  20.0   \n",
       "\n",
       "  club_member_status age_group garment_group_name index_group_name  \n",
       "0             ACTIVE     26-35           Trousers       Ladieswear  \n",
       "1             ACTIVE     19-25   Socks and Tights       Ladieswear  \n",
       "2             ACTIVE     46-55       Jersey Basic       Ladieswear  \n",
       "3             ACTIVE     19-25           Knitwear       Ladieswear  \n",
       "4             ACTIVE     19-25           Trousers       Ladieswear  "
      ]
     },
     "execution_count": 40,
     "metadata": {},
     "output_type": "execute_result"
    }
   ],
   "source": [
    "feature_view_df.head()"
   ]
  },
  {
   "cell_type": "code",
   "execution_count": 41,
   "metadata": {},
   "outputs": [
    {
     "data": {
      "text/plain": [
       "<bound method DataFrame.info of                                                customer_id article_id  \\\n",
       "0        041d20ceba3aad6b18dff1b02a60207454c4405cb52e6e...  562245001   \n",
       "1        897f4750d3b34dfcbb73f8b4727ba8de7d6587f732e872...  156231001   \n",
       "2        ee69a199eaa2869700cf9750bfc2556f30e4f6d7a602ff...  179123001   \n",
       "3        f298ea95e6d1ba4db1749db4c1af484496094d74f1d15c...  502186011   \n",
       "4        06a475ce6e0a0325f25233aad8bf895579d5a284ff3658...  399256018   \n",
       "...                                                    ...        ...   \n",
       "1356037  4e4153b537de156ea3621b3d8c10e494ad006675db8640...  637230001   \n",
       "1356038  cfc53d9e30d6b6099c070607d8351b91373425e1c211c0...  565329001   \n",
       "1356039  2ab3170b9d600496d59ff326651b58b4e01d87f886ad7d...  648940001   \n",
       "1356040  431272e9c9c6e3cc6290d7cebb722f31ec26e509c8e826...  399256001   \n",
       "1356041  b9f3f299cbbc3f4ada3d07a7190d0170d3b6c103fd8c74...  569526002   \n",
       "\n",
       "                            t_dat     price  month_sin     month_cos   age  \\\n",
       "0       2018-09-21 00:00:00+00:00  0.022017  -1.000000 -1.836970e-16  33.0   \n",
       "1       2018-09-26 00:00:00+00:00  0.005661  -1.000000 -1.836970e-16  24.0   \n",
       "2       2018-10-13 00:00:00+00:00  0.006763  -0.866025  5.000000e-01  50.0   \n",
       "3       2018-09-26 00:00:00+00:00  0.033881  -1.000000 -1.836970e-16  20.0   \n",
       "4       2018-10-13 00:00:00+00:00  0.013559  -0.866025  5.000000e-01  20.0   \n",
       "...                           ...       ...        ...           ...   ...   \n",
       "1356037 2018-09-30 00:00:00+00:00  0.030492  -1.000000 -1.836970e-16  49.0   \n",
       "1356038 2018-10-08 00:00:00+00:00  0.025407  -0.866025  5.000000e-01  34.0   \n",
       "1356039 2018-09-26 00:00:00+00:00  0.033881  -1.000000 -1.836970e-16  24.0   \n",
       "1356040 2018-10-18 00:00:00+00:00  0.016932  -0.866025  5.000000e-01  24.0   \n",
       "1356041 2018-09-28 00:00:00+00:00  0.025407  -1.000000 -1.836970e-16  35.0   \n",
       "\n",
       "        club_member_status age_group garment_group_name index_group_name  \n",
       "0                   ACTIVE     26-35           Trousers       Ladieswear  \n",
       "1                   ACTIVE     19-25   Socks and Tights       Ladieswear  \n",
       "2                   ACTIVE     46-55       Jersey Basic       Ladieswear  \n",
       "3                   ACTIVE     19-25           Knitwear       Ladieswear  \n",
       "4                   ACTIVE     19-25           Trousers       Ladieswear  \n",
       "...                    ...       ...                ...              ...  \n",
       "1356037             ACTIVE     46-55     Dresses Ladies       Ladieswear  \n",
       "1356038         PRE-CREATE     26-35     Trousers Denim    Baby/Children  \n",
       "1356039             ACTIVE     19-25        Accessories          Divided  \n",
       "1356040             ACTIVE     19-25     Trousers Denim       Ladieswear  \n",
       "1356041             ACTIVE     26-35       Jersey Fancy            Sport  \n",
       "\n",
       "[1356042 rows x 11 columns]>"
      ]
     },
     "execution_count": 41,
     "metadata": {},
     "output_type": "execute_result"
    }
   ],
   "source": [
    "feature_view_df.info"
   ]
  },
  {
   "cell_type": "code",
   "execution_count": 31,
   "metadata": {},
   "outputs": [
    {
     "name": "stdout",
     "output_type": "stream",
     "text": [
      "customer_id              0\n",
      "article_id               0\n",
      "t_dat                    0\n",
      "price                    0\n",
      "month_sin                0\n",
      "month_cos                0\n",
      "age                   6166\n",
      "club_member_status    6166\n",
      "age_group             6166\n",
      "garment_group_name       0\n",
      "index_group_name         0\n",
      "dtype: int64\n"
     ]
    }
   ],
   "source": [
    "print(feature_view_df.isnull().sum())"
   ]
  },
  {
   "cell_type": "code",
   "execution_count": 8,
   "metadata": {},
   "outputs": [],
   "source": [
    "feature_view = fs.get_feature_view('retrieval', version=1)"
   ]
  },
  {
   "cell_type": "code",
   "execution_count": 15,
   "metadata": {},
   "outputs": [
    {
     "name": "stdout",
     "output_type": "stream",
     "text": [
      "Finished: Reading data from Hopsworks, using Hopsworks Feature Query Service (252.68s) \n"
     ]
    }
   ],
   "source": [
    "feature_view_df = feature_view.get_batch_data()"
   ]
  },
  {
   "cell_type": "code",
   "execution_count": 16,
   "metadata": {},
   "outputs": [
    {
     "data": {
      "text/html": [
       "<div>\n",
       "<style scoped>\n",
       "    .dataframe tbody tr th:only-of-type {\n",
       "        vertical-align: middle;\n",
       "    }\n",
       "\n",
       "    .dataframe tbody tr th {\n",
       "        vertical-align: top;\n",
       "    }\n",
       "\n",
       "    .dataframe thead th {\n",
       "        text-align: right;\n",
       "    }\n",
       "</style>\n",
       "<table border=\"1\" class=\"dataframe\">\n",
       "  <thead>\n",
       "    <tr style=\"text-align: right;\">\n",
       "      <th></th>\n",
       "      <th>customer_id</th>\n",
       "      <th>article_id</th>\n",
       "      <th>price</th>\n",
       "      <th>month_sin</th>\n",
       "      <th>month_cos</th>\n",
       "      <th>age</th>\n",
       "      <th>garment_group_name</th>\n",
       "      <th>index_group_name</th>\n",
       "    </tr>\n",
       "  </thead>\n",
       "  <tbody>\n",
       "    <tr>\n",
       "      <th>0</th>\n",
       "      <td>041d20ceba3aad6b18dff1b02a60207454c4405cb52e6e...</td>\n",
       "      <td>562245001</td>\n",
       "      <td>0.022017</td>\n",
       "      <td>-1.000000</td>\n",
       "      <td>-1.836970e-16</td>\n",
       "      <td>33.0</td>\n",
       "      <td>Trousers</td>\n",
       "      <td>Ladieswear</td>\n",
       "    </tr>\n",
       "    <tr>\n",
       "      <th>1</th>\n",
       "      <td>897f4750d3b34dfcbb73f8b4727ba8de7d6587f732e872...</td>\n",
       "      <td>156231001</td>\n",
       "      <td>0.005661</td>\n",
       "      <td>-1.000000</td>\n",
       "      <td>-1.836970e-16</td>\n",
       "      <td>24.0</td>\n",
       "      <td>Socks and Tights</td>\n",
       "      <td>Ladieswear</td>\n",
       "    </tr>\n",
       "    <tr>\n",
       "      <th>2</th>\n",
       "      <td>2903be9edbb78dae781f36a63905e8202a8781884f2d88...</td>\n",
       "      <td>504152001</td>\n",
       "      <td>0.025407</td>\n",
       "      <td>-0.866025</td>\n",
       "      <td>5.000000e-01</td>\n",
       "      <td>31.0</td>\n",
       "      <td>Knitwear</td>\n",
       "      <td>Ladieswear</td>\n",
       "    </tr>\n",
       "    <tr>\n",
       "      <th>3</th>\n",
       "      <td>ee69a199eaa2869700cf9750bfc2556f30e4f6d7a602ff...</td>\n",
       "      <td>179123001</td>\n",
       "      <td>0.006763</td>\n",
       "      <td>-0.866025</td>\n",
       "      <td>5.000000e-01</td>\n",
       "      <td>50.0</td>\n",
       "      <td>Jersey Basic</td>\n",
       "      <td>Ladieswear</td>\n",
       "    </tr>\n",
       "    <tr>\n",
       "      <th>4</th>\n",
       "      <td>f298ea95e6d1ba4db1749db4c1af484496094d74f1d15c...</td>\n",
       "      <td>502186011</td>\n",
       "      <td>0.033881</td>\n",
       "      <td>-1.000000</td>\n",
       "      <td>-1.836970e-16</td>\n",
       "      <td>20.0</td>\n",
       "      <td>Knitwear</td>\n",
       "      <td>Ladieswear</td>\n",
       "    </tr>\n",
       "  </tbody>\n",
       "</table>\n",
       "</div>"
      ],
      "text/plain": [
       "                                         customer_id article_id     price  \\\n",
       "0  041d20ceba3aad6b18dff1b02a60207454c4405cb52e6e...  562245001  0.022017   \n",
       "1  897f4750d3b34dfcbb73f8b4727ba8de7d6587f732e872...  156231001  0.005661   \n",
       "2  2903be9edbb78dae781f36a63905e8202a8781884f2d88...  504152001  0.025407   \n",
       "3  ee69a199eaa2869700cf9750bfc2556f30e4f6d7a602ff...  179123001  0.006763   \n",
       "4  f298ea95e6d1ba4db1749db4c1af484496094d74f1d15c...  502186011  0.033881   \n",
       "\n",
       "   month_sin     month_cos   age garment_group_name index_group_name  \n",
       "0  -1.000000 -1.836970e-16  33.0           Trousers       Ladieswear  \n",
       "1  -1.000000 -1.836970e-16  24.0   Socks and Tights       Ladieswear  \n",
       "2  -0.866025  5.000000e-01  31.0           Knitwear       Ladieswear  \n",
       "3  -0.866025  5.000000e-01  50.0       Jersey Basic       Ladieswear  \n",
       "4  -1.000000 -1.836970e-16  20.0           Knitwear       Ladieswear  "
      ]
     },
     "execution_count": 16,
     "metadata": {},
     "output_type": "execute_result"
    }
   ],
   "source": [
    "feature_view_df.head()"
   ]
  },
  {
   "cell_type": "code",
   "execution_count": 17,
   "metadata": {},
   "outputs": [
    {
     "name": "stdout",
     "output_type": "stream",
     "text": [
      "customer_id              0\n",
      "article_id               0\n",
      "price                    0\n",
      "month_sin                0\n",
      "month_cos                0\n",
      "age                   6166\n",
      "garment_group_name       0\n",
      "index_group_name         0\n",
      "dtype: int64\n"
     ]
    }
   ],
   "source": [
    "print(feature_view_df.isnull().sum())"
   ]
  },
  {
   "cell_type": "code",
   "execution_count": 9,
   "metadata": {},
   "outputs": [
    {
     "name": "stderr",
     "output_type": "stream",
     "text": [
      "\u001b[32m2025-03-15 23:06:07.699\u001b[0m | \u001b[1mINFO    \u001b[0m | \u001b[36mrecsys.training.two_tower\u001b[0m:\u001b[36mget_train_val_split\u001b[0m:\u001b[36m311\u001b[0m - \u001b[1mRetrieving and creating train, val test split...\u001b[0m\n"
     ]
    },
    {
     "name": "stdout",
     "output_type": "stream",
     "text": [
      "Finished: Reading data from Hopsworks, using Hopsworks Feature Query Service (162.69s) \n"
     ]
    },
    {
     "name": "stderr",
     "output_type": "stream",
     "text": [
      "VersionWarning: Incremented version to `6`.\n"
     ]
    }
   ],
   "source": [
    "dataset = training.two_tower.TwoTowerDataset(\n",
    "    feature_view=feature_view, batch_size=settings.TWO_TOWER_MODEL_BATCH_SIZE\n",
    ")\n",
    "train_ds, val_ds = dataset.get_train_val_split()"
   ]
  },
  {
   "cell_type": "code",
   "execution_count": 9,
   "metadata": {},
   "outputs": [
    {
     "data": {
      "text/plain": [
       "<_ShuffleDataset element_spec={'customer_id': TensorSpec(shape=(None,), dtype=tf.string, name=None), 'article_id': TensorSpec(shape=(None,), dtype=tf.string, name=None), 'price': TensorSpec(shape=(None,), dtype=tf.float64, name=None), 'month_sin': TensorSpec(shape=(None,), dtype=tf.float64, name=None), 'month_cos': TensorSpec(shape=(None,), dtype=tf.float64, name=None), 'age': TensorSpec(shape=(None,), dtype=tf.float64, name=None), 'garment_group_name': TensorSpec(shape=(None,), dtype=tf.string, name=None), 'index_group_name': TensorSpec(shape=(None,), dtype=tf.string, name=None)}>"
      ]
     },
     "execution_count": 9,
     "metadata": {},
     "output_type": "execute_result"
    }
   ],
   "source": [
    "train_ds"
   ]
  },
  {
   "cell_type": "code",
   "execution_count": 18,
   "metadata": {},
   "outputs": [
    {
     "ename": "TypeError",
     "evalue": "'list' object is not callable",
     "output_type": "error",
     "traceback": [
      "\u001b[31m---------------------------------------------------------------------------\u001b[39m",
      "\u001b[31mTypeError\u001b[39m                                 Traceback (most recent call last)",
      "\u001b[36mCell\u001b[39m\u001b[36m \u001b[39m\u001b[32mIn[18]\u001b[39m\u001b[32m, line 1\u001b[39m\n\u001b[32m----> \u001b[39m\u001b[32m1\u001b[39m qf = \u001b[43mdataset\u001b[49m\u001b[43m.\u001b[49m\u001b[43mquery_features\u001b[49m\u001b[43m(\u001b[49m\u001b[43m)\u001b[49m\n",
      "\u001b[31mTypeError\u001b[39m: 'list' object is not callable"
     ]
    }
   ],
   "source": [
    "qf = dataset.query_features()"
   ]
  },
  {
   "cell_type": "code",
   "execution_count": 11,
   "metadata": {},
   "outputs": [
    {
     "data": {
      "text/plain": [
       "<_ShuffleDataset element_spec={'customer_id': TensorSpec(shape=(None,), dtype=tf.string, name=None), 'article_id': TensorSpec(shape=(None,), dtype=tf.string, name=None), 't_dat': TensorSpec(shape=(None,), dtype=tf.string, name=None), 'price': TensorSpec(shape=(None,), dtype=tf.float64, name=None), 'month_sin': TensorSpec(shape=(None,), dtype=tf.float64, name=None), 'month_cos': TensorSpec(shape=(None,), dtype=tf.float64, name=None), 'age': TensorSpec(shape=(None,), dtype=tf.float64, name=None), 'garment_group_name': TensorSpec(shape=(None,), dtype=tf.string, name=None), 'index_group_name': TensorSpec(shape=(None,), dtype=tf.string, name=None)}>"
      ]
     },
     "execution_count": 11,
     "metadata": {},
     "output_type": "execute_result"
    }
   ],
   "source": [
    "train_ds"
   ]
  },
  {
   "cell_type": "code",
   "execution_count": 10,
   "metadata": {},
   "outputs": [
    {
     "name": "stderr",
     "output_type": "stream",
     "text": [
      "\u001b[32m2025-03-15 23:09:05.183\u001b[0m | \u001b[1mINFO    \u001b[0m | \u001b[36m__main__\u001b[0m:\u001b[36m<module>\u001b[0m:\u001b[36m1\u001b[0m - \u001b[1mTraining samples: 1,084,833\u001b[0m\n",
      "\u001b[32m2025-03-15 23:09:05.184\u001b[0m | \u001b[1mINFO    \u001b[0m | \u001b[36m__main__\u001b[0m:\u001b[36m<module>\u001b[0m:\u001b[36m2\u001b[0m - \u001b[1mValidation samples: 135,604\u001b[0m\n",
      "\u001b[32m2025-03-15 23:09:05.185\u001b[0m | \u001b[1mINFO    \u001b[0m | \u001b[36m__main__\u001b[0m:\u001b[36m<module>\u001b[0m:\u001b[36m4\u001b[0m - \u001b[1mNumber of users: 272,099\u001b[0m\n",
      "\u001b[32m2025-03-15 23:09:05.186\u001b[0m | \u001b[1mINFO    \u001b[0m | \u001b[36m__main__\u001b[0m:\u001b[36m<module>\u001b[0m:\u001b[36m5\u001b[0m - \u001b[1mNumber of items: 32,154\u001b[0m\n"
     ]
    }
   ],
   "source": [
    "logger.info(f\"Training samples: {len(dataset.properties['train_df']):,}\")\n",
    "logger.info(f\"Validation samples: {len(dataset.properties['val_df']):,}\")\n",
    "\n",
    "logger.info(f\"Number of users: {len(dataset.properties['user_ids']):,}\")\n",
    "logger.info(f\"Number of items: {len(dataset.properties['item_ids']):,}\")"
   ]
  },
  {
   "cell_type": "code",
   "execution_count": 11,
   "metadata": {},
   "outputs": [
    {
     "data": {
      "text/html": [
       "<div>\n",
       "<style scoped>\n",
       "    .dataframe tbody tr th:only-of-type {\n",
       "        vertical-align: middle;\n",
       "    }\n",
       "\n",
       "    .dataframe tbody tr th {\n",
       "        vertical-align: top;\n",
       "    }\n",
       "\n",
       "    .dataframe thead th {\n",
       "        text-align: right;\n",
       "    }\n",
       "</style>\n",
       "<table border=\"1\" class=\"dataframe\">\n",
       "  <thead>\n",
       "    <tr style=\"text-align: right;\">\n",
       "      <th></th>\n",
       "      <th>customer_id</th>\n",
       "      <th>article_id</th>\n",
       "      <th>price</th>\n",
       "      <th>month_sin</th>\n",
       "      <th>month_cos</th>\n",
       "      <th>garment_group_name</th>\n",
       "      <th>index_group_name</th>\n",
       "    </tr>\n",
       "  </thead>\n",
       "  <tbody>\n",
       "    <tr>\n",
       "      <th>0</th>\n",
       "      <td>325b63f3afd49ad98305e8ca136f56d156a9782d953195...</td>\n",
       "      <td>640727001</td>\n",
       "      <td>0.050831</td>\n",
       "      <td>-0.866025</td>\n",
       "      <td>5.000000e-01</td>\n",
       "      <td>Skirts</td>\n",
       "      <td>Divided</td>\n",
       "    </tr>\n",
       "    <tr>\n",
       "      <th>1</th>\n",
       "      <td>5d3190aa6e12099cc77ec23b6817a9a33476b56bf963dc...</td>\n",
       "      <td>675657002</td>\n",
       "      <td>0.042356</td>\n",
       "      <td>-1.000000</td>\n",
       "      <td>-1.836970e-16</td>\n",
       "      <td>Jersey Fancy</td>\n",
       "      <td>Ladieswear</td>\n",
       "    </tr>\n",
       "    <tr>\n",
       "      <th>2</th>\n",
       "      <td>139711369b0211ce8ee7be62fa1f242b3d7c551963e37a...</td>\n",
       "      <td>633130002</td>\n",
       "      <td>0.016932</td>\n",
       "      <td>-0.866025</td>\n",
       "      <td>5.000000e-01</td>\n",
       "      <td>Jersey Fancy</td>\n",
       "      <td>Divided</td>\n",
       "    </tr>\n",
       "    <tr>\n",
       "      <th>3</th>\n",
       "      <td>d720bbc24bcf9cfa2841fd6c94ba6e82bc705540161178...</td>\n",
       "      <td>688873012</td>\n",
       "      <td>0.027102</td>\n",
       "      <td>-1.000000</td>\n",
       "      <td>-1.836970e-16</td>\n",
       "      <td>Blouses</td>\n",
       "      <td>Ladieswear</td>\n",
       "    </tr>\n",
       "    <tr>\n",
       "      <th>4</th>\n",
       "      <td>e152a460da5b376e64f36f3e2ea4dde14f637d9e53c938...</td>\n",
       "      <td>637549002</td>\n",
       "      <td>0.033881</td>\n",
       "      <td>-0.866025</td>\n",
       "      <td>5.000000e-01</td>\n",
       "      <td>Knitwear</td>\n",
       "      <td>Ladieswear</td>\n",
       "    </tr>\n",
       "  </tbody>\n",
       "</table>\n",
       "</div>"
      ],
      "text/plain": [
       "                                         customer_id article_id     price  \\\n",
       "0  325b63f3afd49ad98305e8ca136f56d156a9782d953195...  640727001  0.050831   \n",
       "1  5d3190aa6e12099cc77ec23b6817a9a33476b56bf963dc...  675657002  0.042356   \n",
       "2  139711369b0211ce8ee7be62fa1f242b3d7c551963e37a...  633130002  0.016932   \n",
       "3  d720bbc24bcf9cfa2841fd6c94ba6e82bc705540161178...  688873012  0.027102   \n",
       "4  e152a460da5b376e64f36f3e2ea4dde14f637d9e53c938...  637549002  0.033881   \n",
       "\n",
       "   month_sin     month_cos garment_group_name index_group_name  \n",
       "0  -0.866025  5.000000e-01             Skirts          Divided  \n",
       "1  -1.000000 -1.836970e-16       Jersey Fancy       Ladieswear  \n",
       "2  -0.866025  5.000000e-01       Jersey Fancy          Divided  \n",
       "3  -1.000000 -1.836970e-16            Blouses       Ladieswear  \n",
       "4  -0.866025  5.000000e-01           Knitwear       Ladieswear  "
      ]
     },
     "execution_count": 11,
     "metadata": {},
     "output_type": "execute_result"
    }
   ],
   "source": [
    "dataset.properties[\"train_df\"].head()"
   ]
  },
  {
   "cell_type": "markdown",
   "metadata": {},
   "source": [
    "Build the Two Tower model"
   ]
  },
  {
   "cell_type": "code",
   "execution_count": 11,
   "metadata": {},
   "outputs": [],
   "source": [
    "query_model_factory = training.two_tower.QueryTowerFactory(dataset=dataset)\n",
    "query_model = query_model_factory.build()"
   ]
  },
  {
   "cell_type": "code",
   "execution_count": 12,
   "metadata": {},
   "outputs": [],
   "source": [
    "item_model_factory = training.two_tower.ItemTowerFactory(dataset=dataset)\n",
    "item_model = item_model_factory.build()"
   ]
  },
  {
   "cell_type": "code",
   "execution_count": 13,
   "metadata": {},
   "outputs": [],
   "source": [
    "model_factory = training.two_tower.TwoTowerFactory(dataset=dataset)\n",
    "model = model_factory.build(query_model=query_model, item_model=item_model)"
   ]
  },
  {
   "cell_type": "markdown",
   "metadata": {},
   "source": [
    "Training the model"
   ]
  },
  {
   "cell_type": "code",
   "execution_count": 39,
   "metadata": {},
   "outputs": [],
   "source": [
    "%reload_ext autoreload\n",
    "%autoreload 2"
   ]
  },
  {
   "cell_type": "code",
   "execution_count": 15,
   "metadata": {},
   "outputs": [
    {
     "name": "stdout",
     "output_type": "stream",
     "text": [
      "{'CUSTOMER_DATA_SIZE': <CustomerDatasetSize.SMALL: 'SMALL'>,\n",
      " 'CUSTOM_HOPSWORKS_INFERENCE_ENV': 'custom_env_name',\n",
      " 'FEATURES_EMBEDDING_MODEL_ID': 'all-MiniLM-L6-v2',\n",
      " 'HOPSWORKS_API_KEY': SecretStr('**********'),\n",
      " 'OPENAI_API_KEY': SecretStr(''),\n",
      " 'OPENAI_MODEL_ID': 'gpt-4o-mini',\n",
      " 'RANKING_DATASET_VALIDATON_SPLIT_SIZE': 0.1,\n",
      " 'RANKING_EARLY_STOPPING_ROUNDS': 5,\n",
      " 'RANKING_ITERATIONS': 100,\n",
      " 'RANKING_LEARNING_RATE': 0.2,\n",
      " 'RANKING_MODEL_TYPE': 'ranking',\n",
      " 'RANKING_SCALE_POS_WEIGHT': 10,\n",
      " 'RECSYS_DIR': WindowsPath('d:/Projects/ML/personalized-recommendation-sysyem/personalized-recommendation-system/recsys'),\n",
      " 'TWO_TOWER_DATASET_TEST_SPLIT_SIZE': 0.1,\n",
      " 'TWO_TOWER_DATASET_VALIDATON_SPLIT_SIZE': 0.1,\n",
      " 'TWO_TOWER_LEARNING_RATE': 0.001,\n",
      " 'TWO_TOWER_MODEL_BATCH_SIZE': 2048,\n",
      " 'TWO_TOWER_MODEL_EMBEDDING_SIZE': 16,\n",
      " 'TWO_TOWER_NUM_EPOCHS': 5,\n",
      " 'TWO_TOWER_WEIGHT_DECAY': 0.001}\n"
     ]
    }
   ],
   "source": [
    "from pprint import pprint\n",
    "\n",
    "pprint(dict(settings))"
   ]
  },
  {
   "cell_type": "code",
   "execution_count": 14,
   "metadata": {},
   "outputs": [
    {
     "name": "stdout",
     "output_type": "stream",
     "text": [
      "Epoch 1/5\n",
      "530/530 [==============================] - 167s 296ms/step - loss: 15604.4506 - regularization_loss: 0.0000e+00 - total_loss: 15604.4506 - val_factorized_top_k/top_1_categorical_accuracy: 0.0000e+00 - val_factorized_top_k/top_5_categorical_accuracy: 0.0000e+00 - val_factorized_top_k/top_10_categorical_accuracy: 0.0000e+00 - val_factorized_top_k/top_50_categorical_accuracy: 0.0000e+00 - val_factorized_top_k/top_100_categorical_accuracy: 0.0000e+00 - val_loss: 2650.2952 - val_regularization_loss: 0.0000e+00 - val_total_loss: 2650.2952\n",
      "Epoch 2/5\n",
      "530/530 [==============================] - 153s 288ms/step - loss: 15595.9969 - regularization_loss: 0.0000e+00 - total_loss: 15595.9969 - val_factorized_top_k/top_1_categorical_accuracy: 0.0000e+00 - val_factorized_top_k/top_5_categorical_accuracy: 0.0000e+00 - val_factorized_top_k/top_10_categorical_accuracy: 0.0000e+00 - val_factorized_top_k/top_50_categorical_accuracy: 0.0000e+00 - val_factorized_top_k/top_100_categorical_accuracy: 0.0000e+00 - val_loss: 2649.7532 - val_regularization_loss: 0.0000e+00 - val_total_loss: 2649.7532\n",
      "Epoch 3/5\n",
      "530/530 [==============================] - 152s 287ms/step - loss: 15584.9751 - regularization_loss: 0.0000e+00 - total_loss: 15584.9751 - val_factorized_top_k/top_1_categorical_accuracy: 0.0000e+00 - val_factorized_top_k/top_5_categorical_accuracy: 0.0000e+00 - val_factorized_top_k/top_10_categorical_accuracy: 0.0000e+00 - val_factorized_top_k/top_50_categorical_accuracy: 0.0000e+00 - val_factorized_top_k/top_100_categorical_accuracy: 0.0000e+00 - val_loss: 2649.0862 - val_regularization_loss: 0.0000e+00 - val_total_loss: 2649.0862\n",
      "Epoch 4/5\n",
      "530/530 [==============================] - 146s 275ms/step - loss: 15575.3729 - regularization_loss: 0.0000e+00 - total_loss: 15575.3729 - val_factorized_top_k/top_1_categorical_accuracy: 0.0000e+00 - val_factorized_top_k/top_5_categorical_accuracy: 0.0000e+00 - val_factorized_top_k/top_10_categorical_accuracy: 0.0000e+00 - val_factorized_top_k/top_50_categorical_accuracy: 0.0000e+00 - val_factorized_top_k/top_100_categorical_accuracy: 0.0000e+00 - val_loss: 2648.5596 - val_regularization_loss: 0.0000e+00 - val_total_loss: 2648.5596\n",
      "Epoch 5/5\n",
      "530/530 [==============================] - 146s 276ms/step - loss: 15568.7070 - regularization_loss: 0.0000e+00 - total_loss: 15568.7070 - val_factorized_top_k/top_1_categorical_accuracy: 0.0000e+00 - val_factorized_top_k/top_5_categorical_accuracy: 0.0000e+00 - val_factorized_top_k/top_10_categorical_accuracy: 0.0000e+00 - val_factorized_top_k/top_50_categorical_accuracy: 0.0000e+00 - val_factorized_top_k/top_100_categorical_accuracy: 0.0000e+00 - val_loss: 2648.2061 - val_regularization_loss: 0.0000e+00 - val_total_loss: 2648.2061\n"
     ]
    }
   ],
   "source": [
    "trainer = training.two_tower.TwoTowerTrainer(dataset=dataset, model=model)\n",
    "history = trainer.train(train_ds, val_ds)"
   ]
  },
  {
   "cell_type": "code",
   "execution_count": 15,
   "metadata": {},
   "outputs": [
    {
     "data": {
      "image/png": "[encoded data removed]",
      "text/plain": [
       "<Figure size 1000x600 with 2 Axes>"
      ]
     },
     "metadata": {},
     "output_type": "display_data"
    }
   ],
   "source": [
    "import matplotlib.pyplot as plt\n",
    "\n",
    "# Create figure with two subplots\n",
    "fig, (ax1, ax2) = plt.subplots(2, 1, figsize=(10, 6))\n",
    "\n",
    "# Training loss subplot\n",
    "ax1.plot(history.history[\"loss\"], label=\"Training Loss\", color=\"blue\")\n",
    "ax1.set_title(\"Training Loss Over Time\")\n",
    "ax1.set_xlabel(\"Epoch\")\n",
    "ax1.set_ylabel(\"Loss\")\n",
    "ax1.legend()\n",
    "ax1.grid(True)\n",
    "\n",
    "# Validation loss subplot\n",
    "ax2.plot(history.history[\"val_loss\"], label=\"Validation Loss\", color=\"red\")\n",
    "ax2.set_title(\"Validation Loss Over Time\")\n",
    "ax2.set_xlabel(\"Epoch\")\n",
    "ax2.set_ylabel(\"Loss\")\n",
    "ax2.legend()\n",
    "ax2.grid(True)\n",
    "\n",
    "# Adjust layout to prevent overlap\n",
    "plt.tight_layout()\n",
    "# plt.show() # Uncomment to show the plot"
   ]
  },
  {
   "cell_type": "markdown",
   "metadata": {},
   "source": [
    "Upload models to Hopsworks model registry"
   ]
  },
  {
   "cell_type": "code",
   "execution_count": 16,
   "metadata": {},
   "outputs": [],
   "source": [
    "mr = project.get_model_registry()"
   ]
  },
  {
   "cell_type": "code",
   "execution_count": 30,
   "metadata": {},
   "outputs": [],
   "source": [
    "import hopsworks\n",
    "\n",
    "# project_rec_sys = hopsworks.login()\n",
    "\n",
    "# fs = project_rec_sys.get_feature_store()"
   ]
  },
  {
   "cell_type": "code",
   "execution_count": 32,
   "metadata": {},
   "outputs": [
    {
     "name": "stdout",
     "output_type": "stream",
     "text": [
      "2025-03-15 13:52:25,986 INFO: Closing external client and cleaning up certificates.\n",
      "Connection closed.\n",
      "2025-03-15 13:52:26,124 INFO: Initializing external client\n",
      "2025-03-15 13:52:26,126 INFO: Base URL: https://c.app.hopsworks.ai:443\n",
      "2025-03-15 13:52:30,400 INFO: Python Engine initialized.\n",
      "\n",
      "Logged in to project, explore it here https://c.app.hopsworks.ai:443/p/1213659\n"
     ]
    }
   ],
   "source": [
    "project_n = hopsworks.login(\n",
    "    hostname_verification=False,\n",
    "    api_key_value=settings.HOPSWORKS_API_KEY.get_secret_value(),\n",
    "    trust_store_path=None  # Add this line\n",
    ")"
   ]
  },
  {
   "cell_type": "code",
   "execution_count": 17,
   "metadata": {},
   "outputs": [
    {
     "name": "stdout",
     "output_type": "stream",
     "text": [
      "2025-03-15 23:54:08,996 INFO: Function `compute_embedding` contains input name(s) table_handle, 20873, resource with unsupported characters which will be renamed to query_tower_sequential_string_lookup_none_lookup_lookuptablefindv2_table_handle, query_tower_sequential_embedding_embedding_lookup_20873, query_tower_sequential_1_batch_normalization_1_batchnorm_readvariableop_2_resource in the SavedModel.\n",
      "INFO:tensorflow:Assets written to: query_model\\assets\n",
      "2025-03-15 23:54:41,025 INFO: Assets written to: query_model\\assets\n"
     ]
    },
    {
     "name": "stderr",
     "output_type": "stream",
     "text": [
      "Uploading: 100.000%|██████████| 58/58 elapsed<00:02 remaining<00:002<00:07,  1.43s/it]\n",
      "Uploading: 100.000%|██████████| 20313281/20313281 elapsed<05:55 remaining<00:0043s/it]\n",
      "Uploading: 100.000%|██████████| 17424190/17424190 elapsed<04:31 remaining<00:0043s/it]\n",
      "Uploading: 100.000%|██████████| 838/838 elapsed<00:02 remaining<00:0000:07,  1.43s/it]\n",
      "Uploading: 100.000%|██████████| 142/142 elapsed<00:02 remaining<00:00<24:56, 374.21s/it]\n",
      "Model export complete: 100%|██████████| 6/6 [10:45<00:00, 107.62s/it]                   \n"
     ]
    },
    {
     "name": "stdout",
     "output_type": "stream",
     "text": [
      "Model created, explore it at https://c.app.hopsworks.ai:443/p/1213659/models/query_model/2\n",
      "INFO:tensorflow:Assets written to: candidate_model\\assets\n",
      "2025-03-16 00:05:32,057 INFO: Assets written to: candidate_model\\assets\n"
     ]
    },
    {
     "name": "stderr",
     "output_type": "stream",
     "text": [
      "Uploading: 100.000%|██████████| 56/56 elapsed<00:03 remaining<00:002<00:07,  1.44s/it]\n",
      "Uploading: 100.000%|██████████| 712522/712522 elapsed<00:12 remaining<00:00  1.44s/it]\n",
      "Uploading: 100.000%|██████████| 2067114/2067114 elapsed<00:33 remaining<00:001.44s/it]\n",
      "Uploading: 100.000%|██████████| 424/424 elapsed<00:02 remaining<00:0000:07,  1.44s/it]\n",
      "Uploading: 100.000%|██████████| 94/94 elapsed<00:02 remaining<00:0057<02:13, 33.47s/it]\n",
      "Model export complete: 100%|██████████| 6/6 [01:06<00:00, 11.15s/it]                   "
     ]
    },
    {
     "name": "stdout",
     "output_type": "stream",
     "text": [
      "Model created, explore it at https://c.app.hopsworks.ai:443/p/1213659/models/candidate_model/1\n"
     ]
    },
    {
     "name": "stderr",
     "output_type": "stream",
     "text": [
      "\n"
     ]
    }
   ],
   "source": [
    "query_model = hopsworks_integration.two_tower_serving.HopsworksQueryModel(\n",
    "    model=model.query_model\n",
    ")\n",
    "query_model.register(\n",
    "    mr=mr,\n",
    "    feature_view=feature_view,\n",
    "    query_df=dataset.properties[\"query_df\"],\n",
    ")\n",
    "\n",
    "item_model = hopsworks_integration.two_tower_serving.HopsworksCandidateModel(\n",
    "    model=model.item_model\n",
    ")\n",
    "item_model.register(\n",
    "    mr=mr,\n",
    "    feature_view=feature_view,\n",
    "    item_df=dataset.properties[\"item_df\"],\n",
    ")"
   ]
  }
 ],
 "metadata": {
  "kernelspec": {
   "display_name": "uvenv",
   "language": "python",
   "name": "python3"
  },
  "language_info": {
   "codemirror_mode": {
    "name": "ipython",
    "version": 3
   },
   "file_extension": ".py",
   "mimetype": "text/x-python",
   "name": "python",
   "nbconvert_exporter": "python",
   "pygments_lexer": "ipython3",
   "version": "3.11.8"
  }
 },
 "nbformat": 4,
 "nbformat_minor": 2
}
